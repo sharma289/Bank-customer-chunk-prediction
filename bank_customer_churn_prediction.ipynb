{
  "cells": [
    {
      "cell_type": "markdown",
      "metadata": {
        "id": "NO1jYLtgHfrM"
      },
      "source": [
        "# bank-customer-churn-prediction\n",
        "\n",
        "Customers leaving BankCo (i.e. closing all accounts) are referred to as churn customers. Closing and reopening bank accounts is time consuming and customers who churn are usually unsatisfied with the service provided. As a result, churn customers are unlikely to return at any point in the future, and are likely to discourage new customers. It is fair to assume that the task of replacing churn customers is much more difficult than taking measures in advance to retain customers who are at risk of leaving. In order not to undermine the efforts of marketing, BankCo requires accurate models to predict which customers will churn.\n",
        "\n",
        "## Objective\n",
        "The goal of this project is to evaluate the use of machine learning algorithms in predicting whether customers are likely to churn in the future based on account information. An accurate model would allow BankCo to focus resources on incentivising potential churn customers to remain at the bank."
        "\nProject Link: https://github.com/sharma289/Bank-customer-chunk-prediction"
      ]
    },
    {
      "cell_type": "code",
      "execution_count": 12,
      "metadata": {
        "id": "vhl9uMXWHfrP"
      },
      "outputs": [],
      "source": [
        "pip install numpy pandas matplotlib seaborn plotly sklearn opendatasets xgboost --quiet"
      ]
    },
    {
      "cell_type": "code",
      "execution_count": 11,
      "metadata": {
        "id": "uH4CzQRZHfrT"
      },
      "outputs": [],
      "source": [
        "import numpy as np\n",
        "import pandas as pd\n",
        "import matplotlib.pyplot as plt\n",
        "import seaborn as sns\n",
        "%matplotlib inline\n",
        "pd.set_option(\"display.max_columns\", 120)\n",
        "pd.set_option(\"display.max_rows\", 120)"
      ]
    },
    {
      "cell_type": "code",
      "execution_count": 13,
      "metadata": {
        "colab": {
          "base_uri": "https://localhost:8080/",
          "height": 424
        },
        "id": "uuPAerQ9HfrU",
        "outputId": "a7405ed5-924e-4d44-f11b-873c270811ad"
      },
      "outputs": [
        {
          "output_type": "execute_result",
          "data": {
            "text/plain": [
              "      RowNumber  CustomerId    Surname  CreditScore Geography  Gender  Age  \\\n",
              "0             1    15634602   Hargrave          619    France  Female   42   \n",
              "1             2    15647311       Hill          608     Spain  Female   41   \n",
              "2             3    15619304       Onio          502    France  Female   42   \n",
              "3             4    15701354       Boni          699    France  Female   39   \n",
              "4             5    15737888   Mitchell          850     Spain  Female   43   \n",
              "...         ...         ...        ...          ...       ...     ...  ...   \n",
              "9995       9996    15606229   Obijiaku          771    France    Male   39   \n",
              "9996       9997    15569892  Johnstone          516    France    Male   35   \n",
              "9997       9998    15584532        Liu          709    France  Female   36   \n",
              "9998       9999    15682355  Sabbatini          772   Germany    Male   42   \n",
              "9999      10000    15628319     Walker          792    France  Female   28   \n",
              "\n",
              "      Tenure    Balance  NumOfProducts  HasCrCard  IsActiveMember  \\\n",
              "0          2       0.00              1          1               1   \n",
              "1          1   83807.86              1          0               1   \n",
              "2          8  159660.80              3          1               0   \n",
              "3          1       0.00              2          0               0   \n",
              "4          2  125510.82              1          1               1   \n",
              "...      ...        ...            ...        ...             ...   \n",
              "9995       5       0.00              2          1               0   \n",
              "9996      10   57369.61              1          1               1   \n",
              "9997       7       0.00              1          0               1   \n",
              "9998       3   75075.31              2          1               0   \n",
              "9999       4  130142.79              1          1               0   \n",
              "\n",
              "      EstimatedSalary  Exited  \n",
              "0           101348.88       1  \n",
              "1           112542.58       0  \n",
              "2           113931.57       1  \n",
              "3            93826.63       0  \n",
              "4            79084.10       0  \n",
              "...               ...     ...  \n",
              "9995         96270.64       0  \n",
              "9996        101699.77       0  \n",
              "9997         42085.58       1  \n",
              "9998         92888.52       1  \n",
              "9999         38190.78       0  \n",
              "\n",
              "[10000 rows x 14 columns]"
            ],
            "text/html": [
              "\n",
              "  <div id=\"df-858128ae-a02f-417f-9a24-c94396fc62a4\">\n",
              "    <div class=\"colab-df-container\">\n",
              "      <div>\n",
              "<style scoped>\n",
              "    .dataframe tbody tr th:only-of-type {\n",
              "        vertical-align: middle;\n",
              "    }\n",
              "\n",
              "    .dataframe tbody tr th {\n",
              "        vertical-align: top;\n",
              "    }\n",
              "\n",
              "    .dataframe thead th {\n",
              "        text-align: right;\n",
              "    }\n",
              "</style>\n",
              "<table border=\"1\" class=\"dataframe\">\n",
              "  <thead>\n",
              "    <tr style=\"text-align: right;\">\n",
              "      <th></th>\n",
              "      <th>RowNumber</th>\n",
              "      <th>CustomerId</th>\n",
              "      <th>Surname</th>\n",
              "      <th>CreditScore</th>\n",
              "      <th>Geography</th>\n",
              "      <th>Gender</th>\n",
              "      <th>Age</th>\n",
              "      <th>Tenure</th>\n",
              "      <th>Balance</th>\n",
              "      <th>NumOfProducts</th>\n",
              "      <th>HasCrCard</th>\n",
              "      <th>IsActiveMember</th>\n",
              "      <th>EstimatedSalary</th>\n",
              "      <th>Exited</th>\n",
              "    </tr>\n",
              "  </thead>\n",
              "  <tbody>\n",
              "    <tr>\n",
              "      <th>0</th>\n",
              "      <td>1</td>\n",
              "      <td>15634602</td>\n",
              "      <td>Hargrave</td>\n",
              "      <td>619</td>\n",
              "      <td>France</td>\n",
              "      <td>Female</td>\n",
              "      <td>42</td>\n",
              "      <td>2</td>\n",
              "      <td>0.00</td>\n",
              "      <td>1</td>\n",
              "      <td>1</td>\n",
              "      <td>1</td>\n",
              "      <td>101348.88</td>\n",
              "      <td>1</td>\n",
              "    </tr>\n",
              "    <tr>\n",
              "      <th>1</th>\n",
              "      <td>2</td>\n",
              "      <td>15647311</td>\n",
              "      <td>Hill</td>\n",
              "      <td>608</td>\n",
              "      <td>Spain</td>\n",
              "      <td>Female</td>\n",
              "      <td>41</td>\n",
              "      <td>1</td>\n",
              "      <td>83807.86</td>\n",
              "      <td>1</td>\n",
              "      <td>0</td>\n",
              "      <td>1</td>\n",
              "      <td>112542.58</td>\n",
              "      <td>0</td>\n",
              "    </tr>\n",
              "    <tr>\n",
              "      <th>2</th>\n",
              "      <td>3</td>\n",
              "      <td>15619304</td>\n",
              "      <td>Onio</td>\n",
              "      <td>502</td>\n",
              "      <td>France</td>\n",
              "      <td>Female</td>\n",
              "      <td>42</td>\n",
              "      <td>8</td>\n",
              "      <td>159660.80</td>\n",
              "      <td>3</td>\n",
              "      <td>1</td>\n",
              "      <td>0</td>\n",
              "      <td>113931.57</td>\n",
              "      <td>1</td>\n",
              "    </tr>\n",
              "    <tr>\n",
              "      <th>3</th>\n",
              "      <td>4</td>\n",
              "      <td>15701354</td>\n",
              "      <td>Boni</td>\n",
              "      <td>699</td>\n",
              "      <td>France</td>\n",
              "      <td>Female</td>\n",
              "      <td>39</td>\n",
              "      <td>1</td>\n",
              "      <td>0.00</td>\n",
              "      <td>2</td>\n",
              "      <td>0</td>\n",
              "      <td>0</td>\n",
              "      <td>93826.63</td>\n",
              "      <td>0</td>\n",
              "    </tr>\n",
              "    <tr>\n",
              "      <th>4</th>\n",
              "      <td>5</td>\n",
              "      <td>15737888</td>\n",
              "      <td>Mitchell</td>\n",
              "      <td>850</td>\n",
              "      <td>Spain</td>\n",
              "      <td>Female</td>\n",
              "      <td>43</td>\n",
              "      <td>2</td>\n",
              "      <td>125510.82</td>\n",
              "      <td>1</td>\n",
              "      <td>1</td>\n",
              "      <td>1</td>\n",
              "      <td>79084.10</td>\n",
              "      <td>0</td>\n",
              "    </tr>\n",
              "    <tr>\n",
              "      <th>...</th>\n",
              "      <td>...</td>\n",
              "      <td>...</td>\n",
              "      <td>...</td>\n",
              "      <td>...</td>\n",
              "      <td>...</td>\n",
              "      <td>...</td>\n",
              "      <td>...</td>\n",
              "      <td>...</td>\n",
              "      <td>...</td>\n",
              "      <td>...</td>\n",
              "      <td>...</td>\n",
              "      <td>...</td>\n",
              "      <td>...</td>\n",
              "      <td>...</td>\n",
              "    </tr>\n",
              "    <tr>\n",
              "      <th>9995</th>\n",
              "      <td>9996</td>\n",
              "      <td>15606229</td>\n",
              "      <td>Obijiaku</td>\n",
              "      <td>771</td>\n",
              "      <td>France</td>\n",
              "      <td>Male</td>\n",
              "      <td>39</td>\n",
              "      <td>5</td>\n",
              "      <td>0.00</td>\n",
              "      <td>2</td>\n",
              "      <td>1</td>\n",
              "      <td>0</td>\n",
              "      <td>96270.64</td>\n",
              "      <td>0</td>\n",
              "    </tr>\n",
              "    <tr>\n",
              "      <th>9996</th>\n",
              "      <td>9997</td>\n",
              "      <td>15569892</td>\n",
              "      <td>Johnstone</td>\n",
              "      <td>516</td>\n",
              "      <td>France</td>\n",
              "      <td>Male</td>\n",
              "      <td>35</td>\n",
              "      <td>10</td>\n",
              "      <td>57369.61</td>\n",
              "      <td>1</td>\n",
              "      <td>1</td>\n",
              "      <td>1</td>\n",
              "      <td>101699.77</td>\n",
              "      <td>0</td>\n",
              "    </tr>\n",
              "    <tr>\n",
              "      <th>9997</th>\n",
              "      <td>9998</td>\n",
              "      <td>15584532</td>\n",
              "      <td>Liu</td>\n",
              "      <td>709</td>\n",
              "      <td>France</td>\n",
              "      <td>Female</td>\n",
              "      <td>36</td>\n",
              "      <td>7</td>\n",
              "      <td>0.00</td>\n",
              "      <td>1</td>\n",
              "      <td>0</td>\n",
              "      <td>1</td>\n",
              "      <td>42085.58</td>\n",
              "      <td>1</td>\n",
              "    </tr>\n",
              "    <tr>\n",
              "      <th>9998</th>\n",
              "      <td>9999</td>\n",
              "      <td>15682355</td>\n",
              "      <td>Sabbatini</td>\n",
              "      <td>772</td>\n",
              "      <td>Germany</td>\n",
              "      <td>Male</td>\n",
              "      <td>42</td>\n",
              "      <td>3</td>\n",
              "      <td>75075.31</td>\n",
              "      <td>2</td>\n",
              "      <td>1</td>\n",
              "      <td>0</td>\n",
              "      <td>92888.52</td>\n",
              "      <td>1</td>\n",
              "    </tr>\n",
              "    <tr>\n",
              "      <th>9999</th>\n",
              "      <td>10000</td>\n",
              "      <td>15628319</td>\n",
              "      <td>Walker</td>\n",
              "      <td>792</td>\n",
              "      <td>France</td>\n",
              "      <td>Female</td>\n",
              "      <td>28</td>\n",
              "      <td>4</td>\n",
              "      <td>130142.79</td>\n",
              "      <td>1</td>\n",
              "      <td>1</td>\n",
              "      <td>0</td>\n",
              "      <td>38190.78</td>\n",
              "      <td>0</td>\n",
              "    </tr>\n",
              "  </tbody>\n",
              "</table>\n",
              "<p>10000 rows × 14 columns</p>\n",
              "</div>\n",
              "      <button class=\"colab-df-convert\" onclick=\"convertToInteractive('df-858128ae-a02f-417f-9a24-c94396fc62a4')\"\n",
              "              title=\"Convert this dataframe to an interactive table.\"\n",
              "              style=\"display:none;\">\n",
              "        \n",
              "  <svg xmlns=\"http://www.w3.org/2000/svg\" height=\"24px\"viewBox=\"0 0 24 24\"\n",
              "       width=\"24px\">\n",
              "    <path d=\"M0 0h24v24H0V0z\" fill=\"none\"/>\n",
              "    <path d=\"M18.56 5.44l.94 2.06.94-2.06 2.06-.94-2.06-.94-.94-2.06-.94 2.06-2.06.94zm-11 1L8.5 8.5l.94-2.06 2.06-.94-2.06-.94L8.5 2.5l-.94 2.06-2.06.94zm10 10l.94 2.06.94-2.06 2.06-.94-2.06-.94-.94-2.06-.94 2.06-2.06.94z\"/><path d=\"M17.41 7.96l-1.37-1.37c-.4-.4-.92-.59-1.43-.59-.52 0-1.04.2-1.43.59L10.3 9.45l-7.72 7.72c-.78.78-.78 2.05 0 2.83L4 21.41c.39.39.9.59 1.41.59.51 0 1.02-.2 1.41-.59l7.78-7.78 2.81-2.81c.8-.78.8-2.07 0-2.86zM5.41 20L4 18.59l7.72-7.72 1.47 1.35L5.41 20z\"/>\n",
              "  </svg>\n",
              "      </button>\n",
              "      \n",
              "  <style>\n",
              "    .colab-df-container {\n",
              "      display:flex;\n",
              "      flex-wrap:wrap;\n",
              "      gap: 12px;\n",
              "    }\n",
              "\n",
              "    .colab-df-convert {\n",
              "      background-color: #E8F0FE;\n",
              "      border: none;\n",
              "      border-radius: 50%;\n",
              "      cursor: pointer;\n",
              "      display: none;\n",
              "      fill: #1967D2;\n",
              "      height: 32px;\n",
              "      padding: 0 0 0 0;\n",
              "      width: 32px;\n",
              "    }\n",
              "\n",
              "    .colab-df-convert:hover {\n",
              "      background-color: #E2EBFA;\n",
              "      box-shadow: 0px 1px 2px rgba(60, 64, 67, 0.3), 0px 1px 3px 1px rgba(60, 64, 67, 0.15);\n",
              "      fill: #174EA6;\n",
              "    }\n",
              "\n",
              "    [theme=dark] .colab-df-convert {\n",
              "      background-color: #3B4455;\n",
              "      fill: #D2E3FC;\n",
              "    }\n",
              "\n",
              "    [theme=dark] .colab-df-convert:hover {\n",
              "      background-color: #434B5C;\n",
              "      box-shadow: 0px 1px 3px 1px rgba(0, 0, 0, 0.15);\n",
              "      filter: drop-shadow(0px 1px 2px rgba(0, 0, 0, 0.3));\n",
              "      fill: #FFFFFF;\n",
              "    }\n",
              "  </style>\n",
              "\n",
              "      <script>\n",
              "        const buttonEl =\n",
              "          document.querySelector('#df-858128ae-a02f-417f-9a24-c94396fc62a4 button.colab-df-convert');\n",
              "        buttonEl.style.display =\n",
              "          google.colab.kernel.accessAllowed ? 'block' : 'none';\n",
              "\n",
              "        async function convertToInteractive(key) {\n",
              "          const element = document.querySelector('#df-858128ae-a02f-417f-9a24-c94396fc62a4');\n",
              "          const dataTable =\n",
              "            await google.colab.kernel.invokeFunction('convertToInteractive',\n",
              "                                                     [key], {});\n",
              "          if (!dataTable) return;\n",
              "\n",
              "          const docLinkHtml = 'Like what you see? Visit the ' +\n",
              "            '<a target=\"_blank\" href=https://colab.research.google.com/notebooks/data_table.ipynb>data table notebook</a>'\n",
              "            + ' to learn more about interactive tables.';\n",
              "          element.innerHTML = '';\n",
              "          dataTable['output_type'] = 'display_data';\n",
              "          await google.colab.output.renderOutput(dataTable, element);\n",
              "          const docLink = document.createElement('div');\n",
              "          docLink.innerHTML = docLinkHtml;\n",
              "          element.appendChild(docLink);\n",
              "        }\n",
              "      </script>\n",
              "    </div>\n",
              "  </div>\n",
              "  "
            ]
          },
          "metadata": {},
          "execution_count": 13
        }
      ],
      "source": [
        "df = pd.read_csv('Churn_Modelling.csv')\n",
        "df"
      ]
    },
    {
      "cell_type": "code",
      "execution_count": 14,
      "metadata": {
        "colab": {
          "base_uri": "https://localhost:8080/"
        },
        "id": "6CMw9qWiHfrV",
        "outputId": "60533383-562e-40eb-cb12-0240d637f065"
      },
      "outputs": [
        {
          "output_type": "execute_result",
          "data": {
            "text/plain": [
              "RowNumber          0\n",
              "CustomerId         0\n",
              "Surname            0\n",
              "CreditScore        0\n",
              "Geography          0\n",
              "Gender             0\n",
              "Age                0\n",
              "Tenure             0\n",
              "Balance            0\n",
              "NumOfProducts      0\n",
              "HasCrCard          0\n",
              "IsActiveMember     0\n",
              "EstimatedSalary    0\n",
              "Exited             0\n",
              "dtype: int64"
            ]
          },
          "metadata": {},
          "execution_count": 14
        }
      ],
      "source": [
        "# Let's check missing values\n",
        "df.isnull().sum()"
      ]
    },
    {
      "cell_type": "markdown",
      "metadata": {
        "id": "rvcndPmCHfrV"
      },
      "source": [
        "Column name 'RowNumber','CustomerID' and 'Surname' are of no use.\n",
        "\n",
        "So we remove them."
      ]
    },
    {
      "cell_type": "code",
      "execution_count": 15,
      "metadata": {
        "id": "0wzVZIcZHfrW"
      },
      "outputs": [],
      "source": [
        "df = df.drop([\"RowNumber\", \"CustomerId\", \"Surname\"], axis = 1)"
      ]
    },
    {
      "cell_type": "code",
      "execution_count": 16,
      "metadata": {
        "id": "T8A4ktZGHfrW",
        "outputId": "2aaf49fb-1979-4d56-8c75-3ee9399c0718",
        "colab": {
          "base_uri": "https://localhost:8080/",
          "height": 363
        }
      },
      "outputs": [
        {
          "output_type": "execute_result",
          "data": {
            "text/plain": [
              "   CreditScore Geography  Gender  Age  Tenure    Balance  NumOfProducts  \\\n",
              "0          619    France  Female   42       2       0.00              1   \n",
              "1          608     Spain  Female   41       1   83807.86              1   \n",
              "2          502    France  Female   42       8  159660.80              3   \n",
              "3          699    France  Female   39       1       0.00              2   \n",
              "4          850     Spain  Female   43       2  125510.82              1   \n",
              "5          645     Spain    Male   44       8  113755.78              2   \n",
              "6          822    France    Male   50       7       0.00              2   \n",
              "7          376   Germany  Female   29       4  115046.74              4   \n",
              "8          501    France    Male   44       4  142051.07              2   \n",
              "9          684    France    Male   27       2  134603.88              1   \n",
              "\n",
              "   HasCrCard  IsActiveMember  EstimatedSalary  Exited  \n",
              "0          1               1        101348.88       1  \n",
              "1          0               1        112542.58       0  \n",
              "2          1               0        113931.57       1  \n",
              "3          0               0         93826.63       0  \n",
              "4          1               1         79084.10       0  \n",
              "5          1               0        149756.71       1  \n",
              "6          1               1         10062.80       0  \n",
              "7          1               0        119346.88       1  \n",
              "8          0               1         74940.50       0  \n",
              "9          1               1         71725.73       0  "
            ],
            "text/html": [
              "\n",
              "  <div id=\"df-69c65f65-3205-43ac-b719-cdc00b28f555\">\n",
              "    <div class=\"colab-df-container\">\n",
              "      <div>\n",
              "<style scoped>\n",
              "    .dataframe tbody tr th:only-of-type {\n",
              "        vertical-align: middle;\n",
              "    }\n",
              "\n",
              "    .dataframe tbody tr th {\n",
              "        vertical-align: top;\n",
              "    }\n",
              "\n",
              "    .dataframe thead th {\n",
              "        text-align: right;\n",
              "    }\n",
              "</style>\n",
              "<table border=\"1\" class=\"dataframe\">\n",
              "  <thead>\n",
              "    <tr style=\"text-align: right;\">\n",
              "      <th></th>\n",
              "      <th>CreditScore</th>\n",
              "      <th>Geography</th>\n",
              "      <th>Gender</th>\n",
              "      <th>Age</th>\n",
              "      <th>Tenure</th>\n",
              "      <th>Balance</th>\n",
              "      <th>NumOfProducts</th>\n",
              "      <th>HasCrCard</th>\n",
              "      <th>IsActiveMember</th>\n",
              "      <th>EstimatedSalary</th>\n",
              "      <th>Exited</th>\n",
              "    </tr>\n",
              "  </thead>\n",
              "  <tbody>\n",
              "    <tr>\n",
              "      <th>0</th>\n",
              "      <td>619</td>\n",
              "      <td>France</td>\n",
              "      <td>Female</td>\n",
              "      <td>42</td>\n",
              "      <td>2</td>\n",
              "      <td>0.00</td>\n",
              "      <td>1</td>\n",
              "      <td>1</td>\n",
              "      <td>1</td>\n",
              "      <td>101348.88</td>\n",
              "      <td>1</td>\n",
              "    </tr>\n",
              "    <tr>\n",
              "      <th>1</th>\n",
              "      <td>608</td>\n",
              "      <td>Spain</td>\n",
              "      <td>Female</td>\n",
              "      <td>41</td>\n",
              "      <td>1</td>\n",
              "      <td>83807.86</td>\n",
              "      <td>1</td>\n",
              "      <td>0</td>\n",
              "      <td>1</td>\n",
              "      <td>112542.58</td>\n",
              "      <td>0</td>\n",
              "    </tr>\n",
              "    <tr>\n",
              "      <th>2</th>\n",
              "      <td>502</td>\n",
              "      <td>France</td>\n",
              "      <td>Female</td>\n",
              "      <td>42</td>\n",
              "      <td>8</td>\n",
              "      <td>159660.80</td>\n",
              "      <td>3</td>\n",
              "      <td>1</td>\n",
              "      <td>0</td>\n",
              "      <td>113931.57</td>\n",
              "      <td>1</td>\n",
              "    </tr>\n",
              "    <tr>\n",
              "      <th>3</th>\n",
              "      <td>699</td>\n",
              "      <td>France</td>\n",
              "      <td>Female</td>\n",
              "      <td>39</td>\n",
              "      <td>1</td>\n",
              "      <td>0.00</td>\n",
              "      <td>2</td>\n",
              "      <td>0</td>\n",
              "      <td>0</td>\n",
              "      <td>93826.63</td>\n",
              "      <td>0</td>\n",
              "    </tr>\n",
              "    <tr>\n",
              "      <th>4</th>\n",
              "      <td>850</td>\n",
              "      <td>Spain</td>\n",
              "      <td>Female</td>\n",
              "      <td>43</td>\n",
              "      <td>2</td>\n",
              "      <td>125510.82</td>\n",
              "      <td>1</td>\n",
              "      <td>1</td>\n",
              "      <td>1</td>\n",
              "      <td>79084.10</td>\n",
              "      <td>0</td>\n",
              "    </tr>\n",
              "    <tr>\n",
              "      <th>5</th>\n",
              "      <td>645</td>\n",
              "      <td>Spain</td>\n",
              "      <td>Male</td>\n",
              "      <td>44</td>\n",
              "      <td>8</td>\n",
              "      <td>113755.78</td>\n",
              "      <td>2</td>\n",
              "      <td>1</td>\n",
              "      <td>0</td>\n",
              "      <td>149756.71</td>\n",
              "      <td>1</td>\n",
              "    </tr>\n",
              "    <tr>\n",
              "      <th>6</th>\n",
              "      <td>822</td>\n",
              "      <td>France</td>\n",
              "      <td>Male</td>\n",
              "      <td>50</td>\n",
              "      <td>7</td>\n",
              "      <td>0.00</td>\n",
              "      <td>2</td>\n",
              "      <td>1</td>\n",
              "      <td>1</td>\n",
              "      <td>10062.80</td>\n",
              "      <td>0</td>\n",
              "    </tr>\n",
              "    <tr>\n",
              "      <th>7</th>\n",
              "      <td>376</td>\n",
              "      <td>Germany</td>\n",
              "      <td>Female</td>\n",
              "      <td>29</td>\n",
              "      <td>4</td>\n",
              "      <td>115046.74</td>\n",
              "      <td>4</td>\n",
              "      <td>1</td>\n",
              "      <td>0</td>\n",
              "      <td>119346.88</td>\n",
              "      <td>1</td>\n",
              "    </tr>\n",
              "    <tr>\n",
              "      <th>8</th>\n",
              "      <td>501</td>\n",
              "      <td>France</td>\n",
              "      <td>Male</td>\n",
              "      <td>44</td>\n",
              "      <td>4</td>\n",
              "      <td>142051.07</td>\n",
              "      <td>2</td>\n",
              "      <td>0</td>\n",
              "      <td>1</td>\n",
              "      <td>74940.50</td>\n",
              "      <td>0</td>\n",
              "    </tr>\n",
              "    <tr>\n",
              "      <th>9</th>\n",
              "      <td>684</td>\n",
              "      <td>France</td>\n",
              "      <td>Male</td>\n",
              "      <td>27</td>\n",
              "      <td>2</td>\n",
              "      <td>134603.88</td>\n",
              "      <td>1</td>\n",
              "      <td>1</td>\n",
              "      <td>1</td>\n",
              "      <td>71725.73</td>\n",
              "      <td>0</td>\n",
              "    </tr>\n",
              "  </tbody>\n",
              "</table>\n",
              "</div>\n",
              "      <button class=\"colab-df-convert\" onclick=\"convertToInteractive('df-69c65f65-3205-43ac-b719-cdc00b28f555')\"\n",
              "              title=\"Convert this dataframe to an interactive table.\"\n",
              "              style=\"display:none;\">\n",
              "        \n",
              "  <svg xmlns=\"http://www.w3.org/2000/svg\" height=\"24px\"viewBox=\"0 0 24 24\"\n",
              "       width=\"24px\">\n",
              "    <path d=\"M0 0h24v24H0V0z\" fill=\"none\"/>\n",
              "    <path d=\"M18.56 5.44l.94 2.06.94-2.06 2.06-.94-2.06-.94-.94-2.06-.94 2.06-2.06.94zm-11 1L8.5 8.5l.94-2.06 2.06-.94-2.06-.94L8.5 2.5l-.94 2.06-2.06.94zm10 10l.94 2.06.94-2.06 2.06-.94-2.06-.94-.94-2.06-.94 2.06-2.06.94z\"/><path d=\"M17.41 7.96l-1.37-1.37c-.4-.4-.92-.59-1.43-.59-.52 0-1.04.2-1.43.59L10.3 9.45l-7.72 7.72c-.78.78-.78 2.05 0 2.83L4 21.41c.39.39.9.59 1.41.59.51 0 1.02-.2 1.41-.59l7.78-7.78 2.81-2.81c.8-.78.8-2.07 0-2.86zM5.41 20L4 18.59l7.72-7.72 1.47 1.35L5.41 20z\"/>\n",
              "  </svg>\n",
              "      </button>\n",
              "      \n",
              "  <style>\n",
              "    .colab-df-container {\n",
              "      display:flex;\n",
              "      flex-wrap:wrap;\n",
              "      gap: 12px;\n",
              "    }\n",
              "\n",
              "    .colab-df-convert {\n",
              "      background-color: #E8F0FE;\n",
              "      border: none;\n",
              "      border-radius: 50%;\n",
              "      cursor: pointer;\n",
              "      display: none;\n",
              "      fill: #1967D2;\n",
              "      height: 32px;\n",
              "      padding: 0 0 0 0;\n",
              "      width: 32px;\n",
              "    }\n",
              "\n",
              "    .colab-df-convert:hover {\n",
              "      background-color: #E2EBFA;\n",
              "      box-shadow: 0px 1px 2px rgba(60, 64, 67, 0.3), 0px 1px 3px 1px rgba(60, 64, 67, 0.15);\n",
              "      fill: #174EA6;\n",
              "    }\n",
              "\n",
              "    [theme=dark] .colab-df-convert {\n",
              "      background-color: #3B4455;\n",
              "      fill: #D2E3FC;\n",
              "    }\n",
              "\n",
              "    [theme=dark] .colab-df-convert:hover {\n",
              "      background-color: #434B5C;\n",
              "      box-shadow: 0px 1px 3px 1px rgba(0, 0, 0, 0.15);\n",
              "      filter: drop-shadow(0px 1px 2px rgba(0, 0, 0, 0.3));\n",
              "      fill: #FFFFFF;\n",
              "    }\n",
              "  </style>\n",
              "\n",
              "      <script>\n",
              "        const buttonEl =\n",
              "          document.querySelector('#df-69c65f65-3205-43ac-b719-cdc00b28f555 button.colab-df-convert');\n",
              "        buttonEl.style.display =\n",
              "          google.colab.kernel.accessAllowed ? 'block' : 'none';\n",
              "\n",
              "        async function convertToInteractive(key) {\n",
              "          const element = document.querySelector('#df-69c65f65-3205-43ac-b719-cdc00b28f555');\n",
              "          const dataTable =\n",
              "            await google.colab.kernel.invokeFunction('convertToInteractive',\n",
              "                                                     [key], {});\n",
              "          if (!dataTable) return;\n",
              "\n",
              "          const docLinkHtml = 'Like what you see? Visit the ' +\n",
              "            '<a target=\"_blank\" href=https://colab.research.google.com/notebooks/data_table.ipynb>data table notebook</a>'\n",
              "            + ' to learn more about interactive tables.';\n",
              "          element.innerHTML = '';\n",
              "          dataTable['output_type'] = 'display_data';\n",
              "          await google.colab.output.renderOutput(dataTable, element);\n",
              "          const docLink = document.createElement('div');\n",
              "          docLink.innerHTML = docLinkHtml;\n",
              "          element.appendChild(docLink);\n",
              "        }\n",
              "      </script>\n",
              "    </div>\n",
              "  </div>\n",
              "  "
            ]
          },
          "metadata": {},
          "execution_count": 16
        }
      ],
      "source": [
        "df.head(10)"
      ]
    },
    {
      "cell_type": "code",
      "execution_count": 17,
      "metadata": {
        "colab": {
          "base_uri": "https://localhost:8080/"
        },
        "id": "PGtnCNBaHfrX",
        "outputId": "5c9158ab-c01a-46d4-d3b7-837df12f31f3"
      },
      "outputs": [
        {
          "output_type": "execute_result",
          "data": {
            "text/plain": [
              "Index(['CreditScore', 'Geography', 'Gender', 'Age', 'Tenure', 'Balance',\n",
              "       'NumOfProducts', 'HasCrCard', 'IsActiveMember', 'EstimatedSalary',\n",
              "       'Exited'],\n",
              "      dtype='object')"
            ]
          },
          "metadata": {},
          "execution_count": 17
        }
      ],
      "source": [
        "df.columns"
      ]
    },
    {
      "cell_type": "markdown",
      "metadata": {
        "id": "7c2shfMt1kix"
      },
      "source": [
        "To give some context let us describe in words for each of the relevant variables what they represent:\n",
        "\n",
        "\n",
        "1. **Surname:** customer surname - categorical variable permitted to be a string of letters\n",
        "\n",
        "2. **CreditScore:** customer credit score - continuous numerical variable permitted to take values between 300 and 850\n",
        "\n",
        "3. **Geography:** country registered on customer accounts - categorical variable permitted to be the name of any country where BankCo has braches\n",
        "\n",
        "4. **Gender:** gender of customer - categorical variable pemitted to be one of two words, 'Male' or 'Female\n",
        "\n",
        "5. **Age:** age of customer - discrete numerical variable permitted to be any positive integer less than a reasonable limit on the age of a human being\n",
        "\n",
        "6. **Tenure:** number of years customer has been at BankCo - discrete numerical variable permitted to be any positive integer less than the age of the customer in question (or perhaps the age minus the minimum age to open an account)\n",
        "\n",
        "7. **Balance:** overall balance across accounts held by a customer - continuous numerical variable permitted to be any number positive or negative with absolute value less than some reasonable maximum account balance (lets say one billion)\n",
        "\n",
        "8. **NumOfProducts:** number of accounts/lines of credit registered to a customer - discrete numerical variable permitted to take any integer greater than 0 and less than some reasonable maximum number of accounts (lets say one thousand)\n",
        "\n",
        "9. **HasCrCard:** indication of whether a customer has a credit card or not - categorical variable permitted to take values 1 or 0\n",
        "\n",
        "10. **IsActiveMember:** indication of whether a customer is active or not - categorical variable permitted to take values 1 or 0\n",
        "\n",
        "11. **EstimatedSalary:** estimation of customer annual salary - continuous numerical variable permitted to be any positive number less than some reasonable maximum salary (lets say one billion)\n",
        "\n",
        "12. **Exited:** indication of whether a customer has churned or not - categorical variable permitted to take values 1 or 0"
      ]
    },
    {
      "cell_type": "markdown",
      "metadata": {
        "id": "FZMVKx2uHfrX"
      },
      "source": [
        "# Exploratory Data Analysis"
      ]
    },
    {
      "cell_type": "code",
      "execution_count": null,
      "metadata": {
        "id": "pkTRFpUuHfrY",
        "outputId": "b11fdfc0-524b-4db8-fc26-24011d759d1d"
      },
      "outputs": [
        {
          "data": {
            "image/png": "iVBORw0KGgoAAAANSUhEUgAABJgAAAK5CAYAAADzdJQZAAAAOXRFWHRTb2Z0d2FyZQBNYXRwbG90bGliIHZlcnNpb24zLjQuMywgaHR0cHM6Ly9tYXRwbG90bGliLm9yZy/MnkTPAAAACXBIWXMAAAsTAAALEwEAmpwYAABXRUlEQVR4nO39f7zmdV0n/j+eAgoqlOjAIgeFikxAG2RkKTbXTQ0iF7Ayh63AhcIPUUuf3bWg/XxSK75fdmmz1HAXzYB+QGNloCsKkeTakuOgKL8kKAgGWBhQC1tFGZ+fP8578GLmzHCG61xznXPmfr/drtv1vp7X+/W+npe3M8cXj/N+v97V3QEAAACAp+pp024AAAAAgKVNwAQAAADAWARMAAAAAIxFwAQAAADAWARMAAAAAIxl12k3MCnPe97z+sADD5x2GwDAhFx//fUPdfeKaffBN5l/AcDyt7U52LINmA488MCsW7du2m0AABNSVX8/7R54IvMvAFj+tjYHc4kcAAAAAGMRMAEAAAAwFgETAAAAAGNZtmswAQBP7utf/3rWr1+fr371q9NuZat23333zMzMZLfddpt2KwAAY1sK869k++dgAiYA2ImtX78+e+65Zw488MBU1bTb2UJ35+GHH8769etz0EEHTbsdAICxLfb5V/LU5mAukQOAndhXv/rVPPe5z120k5uqynOf+9xF/xc+AID5Wuzzr+SpzcEETACwk1vMk5tk8fcHALC9lsL8Znt7FDABAAAAMBYBEwCwhV122SUrV658/HHeeedtc//jjjsuX/rSl/KlL30pF1xwwXZ/3lvf+tb8+q//+lNtFwBgWVjKczCLfAMAW9hjjz1yww03zHv/D3/4w0mSu+66KxdccEF+5md+ZkKdAQAsX0t5DuYMJgBgXv7hH/4hL3rRi3LbbbclSU466aS85z3vSZIceOCBeeihh3L22Wfnb//2b7Ny5cq8+c1vTpKcf/75efnLX56XvvSlectb3vL48c4999y86EUvyqtf/erHjwkAwBMtlTmYM5gAgC185StfycqVKx9/fc455+QNb3hD3vWud+WNb3xjzjrrrHzxi1/MT//0Tz9h3HnnnZebbrrp8b+8XXXVVbn99tuzdu3adHeOP/74fPzjH8+znvWsXHbZZfnMZz6Txx57LC972ctyxBFH7MBvCACw+CzlOZiACQDYwtZOz37Na16T97///TnzzDPz2c9+9kmPc9VVV+Wqq67K4YcfniT58pe/nNtvvz2PPPJIXve61+WZz3xmkuT4449f0P4BAJaipTwHEzBtwxFvvmTaLSwa159/8rRbAGAR+MY3vpFbb701e+yxR77whS9kZmZmm/t3d84555y86U1vekL9N3/zN5fE7XkBmD7/XbY4+W/EHWspzMGswQQAzNvb3/72vPjFL86ll16aU089NV//+tef8P6ee+6ZRx555PHXxxxzTN73vvfly1/+cpLk3nvvzYMPPphXvOIV+cAHPpCvfOUreeSRR/LBD35wh34PAIClZCnMwZzBBABsYfPr/4899ticeuqpee9735u1a9dmzz33zCte8Yr82q/9Wt72trc9vt9zn/vcHH300TnssMPygz/4gzn//PNz66235nu+53uSJM9+9rPz+7//+3nZy16WN7zhDVm5cmVe+MIX5vu+7/t29FcEAFh0lvIcrLp7wQ62mKxatarXrVs31jGcivlNTn8EWJ5uvfXWvPjFL552G09qrj6r6vruXjWllpjDQsy/ADbnv8sWJ/+N+NQtlflXsn1zMJfIAQAAADAWARMAAAAAYxEwAQAAADAWARMAAAAAYxEwAQAAADAWARMAAAAAY9l10h9QVbskWZfk3u5+bVXtneSPkhyY5K4kP9bdXxz2PSfJaUk2Jvl33f3RoX5EkouS7JHkw0nO6u6edO8AsLNZ6FtBz+cWxh/5yEdy1llnZePGjfmpn/qpnH322QvaAwDAYjaN+Vey8HOwHXEG01lJbh15fXaSa7r74CTXDK9TVYckWZ3k0CTHJrlgCKeS5N1JTk9y8PA4dgf0DQBM2MaNG3PmmWfmyiuvzC233JJLL700t9xyy7TbAgBY1iYxB5towFRVM0l+KMl7R8onJLl42L44yYkj9cu6+9HuvjPJHUmOrKr9kuzV3dcNZy1dMjIGAFjC1q5dm+/4ju/It33bt+XpT396Vq9encsvv3zabQEALGuTmINN+gym30zyC0m+MVLbt7vvT5LheZ+hvn+Se0b2Wz/U9h+2N69voapOr6p1VbVuw4YNC/IFAIDJuffee3PAAQc8/npmZib33nvvFDsCAFj+JjEHm1jAVFWvTfJgd18/3yFz1Hob9S2L3Rd296ruXrVixYp5fiwAMC1zLalYNdf/9QMAsFAmMQeb5CLfRyc5vqqOS7J7kr2q6veTPFBV+3X3/cPlbw8O+69PcsDI+Jkk9w31mTnqAMASNzMzk3vu+eYJzOvXr8/zn//8KXYEALD8TWIONrEzmLr7nO6e6e4DM7t49190908kuSLJKcNupyTZdJHfFUlWV9UzquqgzC7mvXa4jO6RqjqqZuO0k0fGAABL2Mtf/vLcfvvtufPOO/O1r30tl112WY4//vhptwUAsKxNYg42yTOYtua8JGuq6rQkdyd5fZJ0981VtSbJLUkeS3Jmd28cxpyR5KIkeyS5cngAAAtsvre1XSi77rpr3vWud+WYY47Jxo0bc+qpp+bQQw/doT0AAEzTjp5/JZOZg+2QgKm7r01y7bD9cJJXbWW/c5OcO0d9XZLDJtchADAtxx13XI477rhptwEAsFNZ6DnYpO8iBwAAAMAyJ2ACAAAAYCwCJgAAAADGImACAAAAYCwCJgAAAADGImACAAAAYCy7TrsBAGDxuPtXXrKgx3vBL9/4pPuceuqp+dCHPpR99tknN91004J+PgDAYrdc5l/OYAIApuqNb3xjPvKRj0y7DQCAncYk5l8CJgBgql7xildk7733nnYbAAA7jUnMvwRMAAAAAIxFwAQAAADAWARMAAAAAIxFwAQAsMxU1S5V9Zmq+tDweu+qurqqbh+enzOy7zlVdUdV3VZVx4zUj6iqG4f33lFVNY3vAgAsDbtOuwEAYPGYz21tF9pJJ52Ua6+9Ng899FBmZmbytre9LaeddtoO72OZOSvJrUn2Gl6fneSa7j6vqs4eXv9iVR2SZHWSQ5M8P8mfV9V3dvfGJO9OcnqSv07y4STHJrlyx34NAFj+lsv8S8AEAEzVpZdeOu0WlpWqmknyQ0nOTfLvh/IJSV45bF+c5NokvzjUL+vuR5PcWVV3JDmyqu5Ksld3Xzcc85IkJ0bABADLwiTmXy6RAwBYXn4zyS8k+cZIbd/uvj9Jhud9hvr+Se4Z2W/9UNt/2N68voWqOr2q1lXVug0bNizIFwAAlh4BEwDAMlFVr03yYHdfP98hc9R6G/Uti90Xdveq7l61YsWKeX4sALDcuEQOAHZy3Z3FvH5z95y5BnM7OsnxVXVckt2T7FVVv5/kgarar7vvr6r9kjw47L8+yQEj42eS3DfUZ+aoAwALYLHPv5Ltn4M5gwkAdmK77757Hn744UUb4nR3Hn744ey+++7TbmVJ6O5zunumuw/M7OLdf9HdP5HkiiSnDLudkuTyYfuKJKur6hlVdVCSg5OsHS6je6SqjhruHnfyyBgAYAyLff6VPLU5mDOYAGAnNjMzk/Xr12cxr52z++67Z2Zm5sl3ZFvOS7Kmqk5LcneS1ydJd99cVWuS3JLksSRnDneQS5IzklyUZI/MLu5tgW8AWABLYf6VbP8cTMAEADux3XbbLQcddNC022ACuvvazN4tLt39cJJXbWW/czN7x7nN6+uSHDa5DgFg57Rc518ukQMAAABgLAImAAAAAMYiYAIAAABgLAImAAAAAMYysYCpqnavqrVV9dmqurmq3jbU31pV91bVDcPjuJEx51TVHVV1W1UdM1I/oqpuHN57x3C7XAAAAAAWgUneRe7RJN/f3V+uqt2SfKKqNt3e9u3d/eujO1fVIUlWJzk0yfOT/HlVfedwq9x3Jzk9yV8n+XCSY+NWuQAAAACLwsTOYOpZXx5e7jY8ehtDTkhyWXc/2t13JrkjyZFVtV+Svbr7uu7uJJckOXFSfQMAAACwfSa6BlNV7VJVNyR5MMnV3f3J4a2frarPVdX7quo5Q23/JPeMDF8/1PYftjevz/V5p1fVuqpat2HDhoX8KgAAAABsxUQDpu7e2N0rk8xk9mykwzJ7udu3J1mZ5P4k/3XYfa51lXob9bk+78LuXtXdq1asWDFm9wAAAADMxw65i1x3fynJtUmO7e4HhuDpG0nek+TIYbf1SQ4YGTaT5L6hPjNHHQAAAIBFYJJ3kVtRVd86bO+R5NVJPj+sqbTJ65LcNGxfkWR1VT2jqg5KcnCStd19f5JHquqo4e5xJye5fFJ9AwAAALB9JnkXuf2SXFxVu2Q2yFrT3R+qqt+rqpWZvcztriRvSpLuvrmq1iS5JcljSc4c7iCXJGckuSjJHpm9e5w7yAEAAAAsEhMLmLr7c0kOn6P+k9sYc26Sc+eor0ty2II2CAAAAMCC2CFrMAEAAACwfAmYAAAAABiLgAkAAACAsQiYAAAAABiLgAkAAACAsQiYAAAAABiLgAkAAACAsQiYAAAAABiLgAkAAACAsQiYAAAAABiLgAkAAACAsQiYAAAAABiLgAkAAACAsQiYAAAAABiLgAkAAACAsQiYAAAAABiLgAkAAACAsQiYAAAAABjLrtNuAAAAtscRb75k2i2wmevPP3naLQAwZc5gAgAAAGAsAiYAAAAAxiJgAgAAAGAsAiYAAAAAxiJgAgAAAGAsEwuYqmr3qlpbVZ+tqpur6m1Dfe+qurqqbh+enzMy5pyquqOqbquqY0bqR1TVjcN776iqmlTfAAAAAGyfSZ7B9GiS7+/u706yMsmxVXVUkrOTXNPdBye5ZnidqjokyeokhyY5NskFVbXLcKx3Jzk9ycHD49gJ9g0AAADAdphYwNSzvjy83G14dJITklw81C9OcuKwfUKSy7r70e6+M8kdSY6sqv2S7NXd13V3J7lkZAwAAAAAUzbRNZiqapequiHJg0mu7u5PJtm3u+9PkuF5n2H3/ZPcMzJ8/VDbf9jevD7X551eVeuqat2GDRsW9LsAAAAAMLeJBkzdvbG7VyaZyezZSIdtY/e51lXqbdTn+rwLu3tVd69asWLFdvcLAAAAwPbbIXeR6+4vJbk2s2snPTBc9pbh+cFht/VJDhgZNpPkvqE+M0cdAAAAgEVgkneRW1FV3zps75Hk1Uk+n+SKJKcMu52S5PJh+4okq6vqGVV1UGYX8147XEb3SFUdNdw97uSRMQAAAABM2a4TPPZ+SS4e7gT3tCRruvtDVXVdkjVVdVqSu5O8Pkm6++aqWpPkliSPJTmzuzcOxzojyUVJ9khy5fAAAAAAYBGYWMDU3Z9Lcvgc9YeTvGorY85Ncu4c9XVJtrV+EwAAAABTskPWYAIAAABg+RIwAQAAADAWARMAAAAAYxEwAQAAADAWARMAAAAAYxEwAQAAADAWARMAAAAAYxEwAQAsI1W1e1WtrarPVtXNVfW2ob53VV1dVbcPz88ZGXNOVd1RVbdV1TEj9SOq6sbhvXdUVU3jOwEAi5+ACQBgeXk0yfd393cnWZnk2Ko6KsnZSa7p7oOTXDO8TlUdkmR1kkOTHJvkgqraZTjWu5OcnuTg4XHsDvweAMASImACAFhGetaXh5e7DY9OckKSi4f6xUlOHLZPSHJZdz/a3XcmuSPJkVW1X5K9uvu67u4kl4yMAQB4AgETAMAyU1W7VNUNSR5McnV3fzLJvt19f5IMz/sMu++f5J6R4euH2v7D9ub1zT/r9KpaV1XrNmzYsODfBQBYGgRMAADLTHdv7O6VSWYyezbSYdvYfa51lXob9c0/68LuXtXdq1asWPGU+gUAlj4BEwDAMtXdX0pybWbXTnpguOwtw/ODw27rkxwwMmwmyX1DfWaOOgDAFgRMAADLSFWtqKpvHbb3SPLqJJ9PckWSU4bdTkly+bB9RZLVVfWMqjoos4t5rx0uo3ukqo4a7h538sgYAIAn2HXaDQAAsKD2S3LxcCe4pyVZ090fqqrrkqypqtOS3J3k9UnS3TdX1ZoktyR5LMmZ3b1xONYZSS5KskeSK4cHAMAWBEwAAMtId38uyeFz1B9O8qqtjDk3yblz1Ncl2db6TQAASVwiBwAAAMCYBEwAAAAAjEXABAAAAMBYBEwAAAAAjEXABAAAAMBYBEwAAAAAjEXABAAAAMBYBEwAAAAAjEXABAAAAMBYJhYwVdUBVfWxqrq1qm6uqrOG+lur6t6qumF4HDcy5pyquqOqbquqY0bqR1TVjcN776iqmlTfAAAAAGyfXSd47MeS/Ifu/nRV7Znk+qq6enjv7d3966M7V9UhSVYnOTTJ85P8eVV9Z3dvTPLuJKcn+eskH05ybJIrJ9g7AAAAAPM0sTOYuvv+7v70sP1IkluT7L+NISckuay7H+3uO5PckeTIqtovyV7dfV13d5JLkpw4qb4BAAAA2D47ZA2mqjowyeFJPjmUfraqPldV76uq5wy1/ZPcMzJs/VDbf9jevD7X55xeVeuqat2GDRsW8isAAAAAsBUTD5iq6tlJ/iTJz3f3P2b2crdvT7Iyyf1J/uumXecY3tuob1nsvrC7V3X3qhUrVozbOgAAAADzMNGAqap2y2y49Afd/adJ0t0PdPfG7v5GkvckOXLYfX2SA0aGzyS5b6jPzFEHAAAAYBGY5F3kKsnvJLm1u39jpL7fyG6vS3LTsH1FktVV9YyqOijJwUnWdvf9SR6pqqOGY56c5PJJ9Q0AAADA9pnkXeSOTvKTSW6sqhuG2i8lOamqVmb2Mre7krwpSbr75qpak+SWzN6B7szhDnJJckaSi5Lskdm7x7mDHAAAAMAiMbGAqbs/kbnXT/rwNsacm+TcOerrkhy2cN0BAAAAsFB2yF3kAAAAAFi+BEwAAAAAjEXABAAAAMBY5hUwVdU186kBALAwzL8AgKVkm4t8V9XuSZ6Z5HlV9Zx8c9HuvZI8f8K9AQDsdMy/AICl6MnuIvemJD+f2cnM9fnmBOcfk/z25NoCANhpmX8BAEvONgOm7v6tJL9VVT/X3e/cQT0BAOy0zL8AgKXoyc5gSpJ09zur6nuTHDg6prsvmVBfAAA7NfMvAGApmVfAVFW/l+Tbk9yQZONQ7iQmOAAAE2D+BQAsJfMKmJKsSnJId/ckmwEA4HHmXwDAkvG0ee53U5J/NslGAAB4AvMvAGDJmO8ZTM9LcktVrU3y6KZidx8/ka4AADD/AgCWjPkGTG+dZBMAAGzhrdNuAABgvuZ7F7m/nHQjAAB8k/kXALCUzPcuco9k9q4lSfL0JLsl+afu3mtSjQEA7MzMvwCApWS+ZzDtOfq6qk5McuQkGgIAwPwLAFha5nsXuSfo7j9L8v0L2woAAFtj/gUALGbzvUTuh0dePi3JqnzzlG0AABaY+RcAsJTM9y5y/3pk+7EkdyU5YcG7AQBgE/MvAGDJmO8aTP920o0AAPBN5l8AwFIyrzWYqmqmqj5QVQ9W1QNV9SdVNTPp5gAAdlbmXwDAUjLfRb5/N8kVSZ6fZP8kHxxqAABMhvkXALBkzDdgWtHdv9vdjw2Pi5KsmGBfAAA7O/MvAGDJmO8i3w9V1U8kuXR4fVKShyfTEjBfR7z5kmm3sGhcf/7J024BYKGZfwEAS8Z8z2A6NcmPJfnfSe5P8qNJtrnwZFUdUFUfq6pbq+rmqjprqO9dVVdX1e3D83NGxpxTVXdU1W1VdcxI/YiqunF47x1VVdv7RQEAlpjtnn8BAEzLfAOmX01ySnev6O59MjvheeuTjHksyX/o7hcnOSrJmVV1SJKzk1zT3QcnuWZ4neG91UkOTXJskguqapfhWO9OcnqSg4fHsfPsGwBgqXoq8y8AgKmYb8D00u7+4qYX3f2FJIdva0B339/dnx62H0lya2YXqDwhycXDbhcnOXHYPiHJZd39aHffmeSOJEdW1X5J9uru67q7k1wyMgYAYLna7vkXAMC0zDdgetpml7Ltnfmv35SqOjCzE6JPJtm3u+9PZkOoJPsMu+2f5J6RYeuH2v7D9uZ1AIDlbKz5FwDAjjTfScp/TfK/quqPk3Rm1wM4dz4Dq+rZSf4kyc939z9uY/mkud7obdTn+qzTM3spXV7wghfMpz0AgMXqKc+/AAB2tHmdwdTdlyT5kSQPJNmQ5Ie7+/eebFxV7ZbZcOkPuvtPh/IDw2VvGZ4fHOrrkxwwMnwmyX1DfWaO+lx9Xtjdq7p71YoV7uILACxdT3X+BQAwDfM+zbq7b0lyy3z3H+709jtJbu3u3xh564okpyQ5b3i+fKT+h1X1G0men9nFvNd298aqeqSqjsrsJXYnJ3nnfPsAAFiqtnf+BQAwLZO8jv/oJD+Z5MaqumGo/VJmg6U1VXVakruTvD5JuvvmqlqT2UnUY0nO7O6Nw7gzklyUZI8kVw4PAAAAABaBiQVM3f2JzL1+UpK8aitjzs0cawt097okhy1cdwAAAAAslPneRQ4AAAAA5iRgAgAAAGAsAiYAgGWkqg6oqo9V1a1VdXNVnTXU966qq6vq9uH5OSNjzqmqO6rqtqo6ZqR+RFXdOLz3juEmLgAAWxAwAQAsL48l+Q/d/eIkRyU5s6oOSXJ2kmu6++Ak1wyvM7y3OsmhSY5NckFV7TIc691JTs/s3X0PHt4HANiCgAkAYBnp7vu7+9PD9iNJbk2yf5ITklw87HZxkhOH7ROSXNbdj3b3nUnuSHJkVe2XZK/uvq67O8klI2MAAJ5AwAQAsExV1YFJDk/yyST7dvf9yWwIlWSfYbf9k9wzMmz9UNt/2N68vvlnnF5V66pq3YYNGxb8OwAAS4OACQBgGaqqZyf5kyQ/393/uK1d56j1NupPLHRf2N2runvVihUrnlqzAMCSJ2ACAFhmqmq3zIZLf9DdfzqUHxgue8vw/OBQX5/kgJHhM0nuG+ozc9QBALYgYAIAWEaGO739TpJbu/s3Rt66Iskpw/YpSS4fqa+uqmdU1UGZXcx77XAZ3SNVddRwzJNHxgAAPMGu024AAIAFdXSSn0xyY1XdMNR+Kcl5SdZU1WlJ7k7y+iTp7purak2SWzJ7B7ozu3vjMO6MJBcl2SPJlcMDAGALAiYAgGWkuz+RuddPSpJXbWXMuUnOnaO+LslhC9cdALBcuUQOAAAAgLEImAAAAAAYi4AJAAAAgLEImAAAAAAYi0W+AZiYI958ybRbWDSuP//kabcAAAAT4wwmAAAAAMYiYAIAAABgLAImAAAAAMYiYAIAAABgLAImAAAAAMYiYAIAAABgLAImAAAAAMYiYAIAAABgLAImAAAAAMYysYCpqt5XVQ9W1U0jtbdW1b1VdcPwOG7kvXOq6o6quq2qjhmpH1FVNw7vvaOqalI9AwAAALD9JnkG00VJjp2j/vbuXjk8PpwkVXVIktVJDh3GXFBVuwz7vzvJ6UkOHh5zHRMAAACAKZlYwNTdH0/yhXnufkKSy7r70e6+M8kdSY6sqv2S7NXd13V3J7kkyYkTaRgAAACAp2QaazD9bFV9briE7jlDbf8k94zss36o7T9sb16fU1WdXlXrqmrdhg0bFrpvAAAAAOawowOmdyf59iQrk9yf5L8O9bnWVept1OfU3Rd296ruXrVixYoxWwUAAABgPnZowNTdD3T3xu7+RpL3JDlyeGt9kgNGdp1Jct9Qn5mjDgAAAMAisUMDpmFNpU1el2TTHeauSLK6qp5RVQdldjHvtd19f5JHquqo4e5xJye5fEf2DAAAAMC27TqpA1fVpUlemeR5VbU+yVuSvLKqVmb2Mre7krwpSbr75qpak+SWJI8lObO7Nw6HOiOzd6TbI8mVwwMAAACARWJiAVN3nzRH+Xe2sf+5Sc6do74uyWEL2BoAAAAAC2gad5EDAAAAYBkRMAEAAAAwFgETAAAAAGMRMAEAAAAwFgETAAAAAGMRMAEAAAAwFgETAAAAAGMRMAEAAAAwFgETAAAAAGMRMAEAAAAwFgETAAAAAGMRMAEAAAAwFgETAAAAAGMRMAEAAAAwFgETAAAAAGMRMAEAAAAwFgETAAAAAGMRMAEAAAAwFgETAAAAAGMRMAEAAAAwFgETAAAAAGMRMAEAAAAwFgETAAAAAGMRMAEAAAAwll2n3QAAALC03f0rL5l2C8zhBb9847RbAHYiEzuDqareV1UPVtVNI7W9q+rqqrp9eH7OyHvnVNUdVXVbVR0zUj+iqm4c3ntHVdWkegYAAABg+03yErmLkhy7We3sJNd098FJrhlep6oOSbI6yaHDmAuqapdhzLuTnJ7k4OGx+TEBAAAAmKKJBUzd/fEkX9isfEKSi4fti5OcOFK/rLsf7e47k9yR5Miq2i/JXt19XXd3kktGxgAAAACwCOzoRb737e77k2R43meo75/knpH91g+1/YftzetzqqrTq2pdVa3bsGHDgjYOAAAAwNwWy13k5lpXqbdRn1N3X9jdq7p71YoVKxasOQAAAAC2bkcHTA8Ml71leH5wqK9PcsDIfjNJ7hvqM3PUAQCYgxutAADTsKMDpiuSnDJsn5Lk8pH66qp6RlUdlNnFvNcOl9E9UlVHDZOak0fGAACwpYviRisAwA42sYCpqi5Ncl2SF1XV+qo6Lcl5SV5TVbcnec3wOt19c5I1SW5J8pEkZ3b3xuFQZyR5b2YX/v7bJFdOqmcAgKXOjVYAgGnYdVIH7u6TtvLWq7ay/7lJzp2jvi7JYQvYGgDAzuYJN1qpqtEbrfz1yH6bbqjy9czzRitVdXpmz3TKC17wggVuGwBYKhbLIt8AAOx4Y99oxU1WAIBEwAQAsDNwoxUAYKIETAAAy58brQAAEzWxNZgAANjxhhutvDLJ86pqfZK3ZPbGKmuGm67cneT1yeyNVqpq041WHsuWN1q5KMkemb3JihutAABbJWACAFhG3GgFAJgGARMAAACwXe7+lZdMuwU284JfvnGqny9gAoAdwCTsiaY9AQIAYGEJmJgX/2H0RP7DCAAAAL7JXeQAAAAAGIuACQAAAICxCJgAAAAAGIuACQAAAICxCJgAAAAAGIuACQAAAICxCJgAAAAAGIuACQAAAICxCJgAAAAAGIuACQAAAICxCJgAAAAAGIuACQAAAICxCJgAAAAAGIuACQAAAICxCJgAAAAAGIuACQAAAICxTCVgqqq7qurGqrqhqtYNtb2r6uqqun14fs7I/udU1R1VdVtVHTONngEAAACY2zTPYPpX3b2yu1cNr89Ock13H5zkmuF1quqQJKuTHJrk2CQXVNUu02gYAAAAgC0tpkvkTkhy8bB9cZITR+qXdfej3X1nkjuSHLnj2wMAAABgLtMKmDrJVVV1fVWdPtT27e77k2R43meo75/knpGx64faFqrq9KpaV1XrNmzYMKHWAQAAABi165Q+9+juvq+q9klydVV9fhv71hy1nmvH7r4wyYVJsmrVqjn3AQAAAGBhTeUMpu6+b3h+MMkHMnvJ2wNVtV+SDM8PDruvT3LAyPCZJPftuG4BAAAA2JYdHjBV1bOqas9N20l+IMlNSa5Icsqw2ylJLh+2r0iyuqqeUVUHJTk4ydod2zUAAAAAWzONS+T2TfKBqtr0+X/Y3R+pqk8lWVNVpyW5O8nrk6S7b66qNUluSfJYkjO7e+MU+gYAAABgDjs8YOruv0vy3XPUH07yqq2MOTfJuRNuDQAAAICnYFqLfAMsqLt/5SXTbmFRecEv3zjtFgAAgJ3IVBb5BgAAAGD5EDABAAAAMBYBEwAAAABjETABAAAAMBYBEwAAAABjETABAAAAMBYBEwAAAABjETABAAAAMBYBEwAAAABjETABAAAAMBYBEwAAAABjETABAAAAMBYBEwAAAABjETABAAAAMBYBEwAAAABjETABAAAAMBYBEwAAAABjETABAAAAMBYBEwAAAABjETABAAAAMBYBEwAAAABjETABAAAAMBYBEwAAAABjETABAAAAMJYlEzBV1bFVdVtV3VFVZ0+7HwCAnYE5GAAwH0siYKqqXZL8dpIfTHJIkpOq6pDpdgUAsLyZgwEA87UkAqYkRya5o7v/rru/luSyJCdMuScAgOXOHAwAmJddp93APO2f5J6R1+uT/PPNd6qq05OcPrz8clXdtgN62ym8MHlekoem3cei8Zaadgdsxs/oZvyMLjp+RjezMD+jL1yIg7BNTzoHM/8i8Ttu0TIfYIL8u1+Edty/+TnnYEslYJrrf6XeotB9YZILJ9/Ozqeq1nX3qmn3AVvjZ5TFzs8oS9STzsHMv0j8joOdkX/3bG6pXCK3PskBI69nktw3pV4AAHYW5mAAwLwslYDpU0kOrqqDqurpSVYnuWLKPQEALHfmYADAvCyJS+S6+7Gq+tkkH02yS5L3dffNU25rZ+PUdxY7P6Msdn5GWXLMwdgOfsfBzse/e56gurdYyggAAAAA5m2pXCIHAAAAwCIlYAIAAABgLAKmnUhVbayqG0YeB067J9iaqvpPVXVzVX1u+Hn950/hGMdX1dmT6I/lrar2rao/rKq/q6rrq+q6qnrdtPsCmIQdOUesqruq6nmTOj4wnqrqqvq9kde7VtWGqvrQk4x75ZPtw/K3JBb5ZsF8pbtXzvVGVVVm1+T6xo5tCbZUVd+T5LVJXtbdjw4T0adv73G6+4q42xHbafh9+GdJLu7ufzPUXpjk+HmO36W7N06uQ4AFt9U5IrDT+ackh1XVHt39lSSvSXLvlHtiiXAG006sqg6sqlur6oIkn05yQFW9u6rWDWeOvG1k37uq6m1V9emqurGqvmuoP7uqfneofa6qfmSo/8DwF/9PV9X7q+rZ0/mWLFH7JXmoux9Nku5+qLvvG34O/3NVrR0e35EkVfWvq+qTVfWZqvrzqtp3qL+xqt41bF9UVe+oqv81nJXyo1P7dix235/ka9393zYVuvvvu/udVbVLVZ1fVZ8afue9KXn8r3Yfq6o/THLj8Povq2pNVf1NVZ1XVT8+/NzeWFXfPozb2s/uW6vqfVV17fDz+u+G+q9W1Vmb+qqqcze9B7CQquqI4ffY9VX10arab6hfW1Vvr6qPD/PIl1fVn1bV7VX1ayPj/2wYe3NVnb6Vz/iJ4ffiDVX136tqlx31/YBtujLJDw3bJyW5dNMbVXXkMJ/+zPD8os0HV9WzhnnMp4b9TthBfTNlAqadyx4jpz5/YKi9KMkl3X14d/99kv/U3auSvDTJv6yql46Mf6i7X5bk3Un+41D7f5P8Q3e/pLtfmuQvhrNN/p8krx72X5fk3++A78fycVVmA8+/qaoLqupfjrz3j919ZJJ3JfnNofaJJEd19+FJLkvyC1s57n5J/kVmz446byKdsxwcmtnQfS6nZfZ33suTvDzJT1fVQcN7R2b2d+ghw+vvTnJWkpck+ckk3zn87L43yc8N+2zrZ/e7khwzHPctVbVbkt9JckqSVNXTkqxO8gfjfV2AJ84Rh98370zyo919RJL3JTl3ZP+vdfcrkvy3JJcnOTPJYUneWFXPHfY5dRi7Ksm/G6knSarqxUnekOTo4eypjUl+fHJfEdgOlyVZXVW7Z/a/Cz858t7nk7ximLv8cpL/3xzj/1OSvxjmS/8qyflV9awJ98wi4BK5ncsTTn+u2evr/767/3pknx8b/sq0a2b/Y/yQJJ8b3vvT4fn6JD88bL86s/+BkyTp7i9W1WuHcX9VVcnspU3XLfSXYfnq7i9X1RFJvi+z/6f0R/XNtZQuHXl++7A9M+yzX2Z/3u7cyqH/bLgM9JZNZ4rAk6mq385sMPm1JH+f5KUjZ8B9S5KDh/fWdvfoz96nuvv+4Rh/m9ngNEluzOzPdbLtn93/MZzF92hVPZhk3+6+q6oerqrDk+yb5DPd/fACf2Vg57P5HPGwzAZGVw9zuV2S3D+y/6bLz29McvPI77q/S3JAkoczGyptWrvugMz+rhz9ffWqJEck+dTwGXskeXBBvxXwlHT354b/VjwpyYc3e/tbklxcVQcn6SS7zXGIH0hyfFVtOilh9yQvSHLrZDpmsRAw8U+bNoa/wv/HJC8fgqKLMvvLYJNHh+eN+ebPTmX2F8uoSnJ1d580kY7ZKQxr2Fyb5NqqujHDWRt54s/bpu13JvmN7r6iql6Z5K1bOeyjI9u1UL2y7Nyc5Ec2vejuM4czM9cluTvJz3X3R0cHDD93/5QnGv15+8bI62/km79Dt/WzOzp+9Pfue5O8Mck/y+xZBQALrTIbHH3PVt4f/X22+e+6XYffZ69O8j3d/X+q6to8cU656TMu7u5zFqppYEFdkeTXk7wyyegZiL+a5GPd/bohhLp2jrGV5Ee6+7YJ98gi4xI5Ru2V2f9A+ofh7I4fnMeYq5L87KYXVfWcJH+d5Oj65vo4z6yq75xAvyxTVfWi4a8im6zM7Jkjyezp9JueN50Z9y355uKDpwTG8xdJdq+qM0ZqzxyeP5rkjOHykVTVd455yvdT+dn9QJJjM3uJ3kefZF+Ap+K2JCtq9qYbqardqurQ7Rj/LUm+OIRL35XkqDn2uSbJj1bVPsNn7F2zN1QAFof3JfmV7r5xs/ro3OWNWxn70SQ/V8PpicOZ1+wEBEw8rrs/m+Qzmf3r/fuS/NU8hv1akudU1U1V9dkk/6q7N2T2l82lVfW5zAZO3zWZrlmmnp3ZU29vGX6GDsk3z+x4RlV9MrNr2/zfQ+2tSd5fVf8zyUM7uFeWme7uJCdmdh26O6tqbZKLk/xiZs8euiXJp6vqpiT/PeOdDfzWbOfPbnd/LcnHkqxxtzpgEobfMz+a5D8P87sbknzvdhziI5k9k+lzmT3b4a8336G7b8nsmp1XDftdndnlGYBFoLvXd/dvzfHWf0ny/6+qv8rs5bNz+dXMXjr3uWG+9KsTapNFpmbn0QCLX1XdlWRVdwuR2GkNi3t/Osnru/v2afcDAACJM5gAYMmoqkOS3JHkGuESAACLiTOYAAAAABiLM5gAAAAAGIuACQAAAICxCJgAAAAAGIuACZioqtq3qv6wqv6uqq6vquuq6nXT7mtUVb2xqt417T4AAHakSc3TquqVVfWhhegRWDoETMDEVFUl+bMkH+/ub+vuI5KsTjIzwc/cZVLHBgBYLqYxT9tGL7vu6M8EFp6ACZik70/yte7+b5sK3f333f3Oqtqlqs6vqk9V1eeq6k3J7GRnqN9UVTdW1RuG+tOq6oKqurmqPlRVH66qHx3eu6uqfrmqPpHk9VX108NxP1tVf1JVzxz2u6iq/ltV/c+q+puqeu1Ir8+vqo9U1e1V9V+G/U+rqrdv2mE47m9M/H81AIDJeyrztFdW1bVV9cdV9fmq+oMhqEpVHTvUPpHkhzcds6qeVVXvG471mao6Yai/sareX1UfTHLVDv3mwERIioFJOjTJp7fy3mlJ/qG7X15Vz0jyV1V1VZKXJVmZ5LuTPC/Jp6rq40mOTnJgkpck2SfJrUneN3K8r3b3v0iSqnpud79n2P614bPeOex3YJJ/meTbk3ysqr5jqK9McniSR5PcVlXvTHJZks9V1S9099eT/Nskb3qq/2MAACwiT2WelszOlw5Ncl+Sv0pydFWtS/KezIZWdyT5o5Fj/ackf9Hdp1bVtyZZW1V/Prz3PUle2t1fWMDvBUyJgAnYYarqt5P8iyRfS/L3SV666SykJN+S5ODh/Uu7e2OSB6rqL5O8fKi/v7u/keR/V9XHNjv86ETmsCFY+tYkz07y0ZH31gzHuL2q/i7Jdw31a7r7H4Y+b0nywu6+p6r+Islrq+rWJLt1943j/y8BALC4zHOe9rUka7t7/TDmhsz+8e7LSe7s7tuH+u8nOX0Y+wNJjq+q/zi83j3JC4btq4VLsHwImIBJujnJj2x60d1nVtXzkqxLcneSn+vu0fAnVXXcVo5VT/JZ/zSyfVGSE7v7s1X1xiSvHHmvNxu36fWjI7WN+ebvx/cm+aUkn0/yu0/SAwDAUvFU5mmvzNbnTJvPsR4fluRHuvu2zY71z/PE+RuwxFmDCZikv0iye1WdMVJ75vD80SRnVNVuSVJV31lVz0ry8SRvGK79X5HkFUnWJvlEkh8Z1mLaN08MjTa3Z5L7h2P/+GbvvX44xrcn+bYkt20xekR3fzLJAUn+TZJLn/QbAwAsDU9lnrY1n09y0DC/SpKTRt77aJKfG1mr6fAF6R5YdJzBBExMd3dVnZjk7VX1C0k2ZPYvVb+Y5P2ZPaX608OEY0OSE5N8ILPX4382s38J+4Xu/t9V9SdJXpXkpiR/k+STSf5hKx/9/w7v/32SGzMbOG1yW5K/TLJvkv+ru786zHe2ZU2Sld39xfl+dwCAxewpztO2dqyvVtXpSf5HVT2U2T8MHja8/atJfjOz61pWkruSvHau4wBLW3Vv7UxGgMWlqp7d3V+uqudm9qymo7v7f2/H+IuSfKi7/3g7P/dDSd7e3ddsV8MAAAA7CWcwAUvJh4a7jzw9ya9uT7j0VGy600mSzwqXAAAAts4ZTAAAAACMxSLfAAAAAIxFwAQAAADAWARMAAAAAIxFwAQAAADAWARMAAAAAIxFwAQAAADAWARMAAAAAIxFwAQAAADAWARMAAAAAIxFwAQAAADAWARMAAAAAIxFwAQAAADAWARMAAAAAIxFwAQAAADAWARMAAAAAIxFwAQAAADAWARMAAAAAIxFwAQAAADAWARMAAAAAIxFwAQAAADAWARMAAAAAIxFwAQAAADAWARMAAAAAIxFwAQAAADAWARMAAAAAIxFwAQAAADAWHaddgOT8rznPa8PPPDAabcBAEzI9ddf/1B3r5h2H3yT+RcALH9bm4Mt24DpwAMPzLp166bdBgAwIVX199PugScy/wKA5W9rczCXyAEAAAAwFgETAAAAAGMRMAEAAAAwlmW7BhMA8OS+/vWvZ/369fnqV7867Va2avfdd8/MzEx22223abcCADC2pTD/SrZ/DiZgAoCd2Pr167PnnnvmwAMPTFVNu50tdHcefvjhrF+/PgcddNC02wEAGNtin38lT20O5hI5ANiJffWrX81zn/vcRTu5qao897nPXfR/4QMAmK/FPv9KntocTMAEADu5xTy5SRZ/fwAA22spzG+2t0cBEwAAAABjETABAFvYZZddsnLlyscf55133jb3P+644/KlL30pX/rSl3LBBRds9+e99a1vza//+q8/1XYBAJaFpTwHs8g3ALCFPfbYIzfccMO89//whz+cJLnrrrtywQUX5Gd+5mcm1BkAwPK1lOdgzmACAOblH/7hH/KiF70ot912W5LkpJNOynve854kyYEHHpiHHnooZ599dv72b/82K1euzJvf/OYkyfnnn5+Xv/zleelLX5q3vOUtjx/v3HPPzYte9KK8+tWvfvyYAAA80VKZgzmDCQDYwle+8pWsXLny8dfnnHNO3vCGN+Rd73pX3vjGN+ass87KF7/4xfz0T//0E8add955uemmmx7/y9tVV12V22+/PWvXrk135/jjj8/HP/7xPOtZz8pll12Wz3zmM3nsscfyspe9LEccccQO/IYAAIvPUp6DCZgAtsMRb75k2i2wmevPP3naLSxLWzs9+zWveU3e//7358wzz8xnP/vZJz3OVVddlauuuiqHH354kuTLX/5ybr/99jzyyCN53etel2c+85lJkuOPP35B+wdg+TD/WpzMwSZjKc/BXCIHAMzbN77xjdx6663ZY4898oUvfOFJ9+/unHPOObnhhhtyww035I477shpp52WZGncnhcAYDFYCnMwARMAMG9vf/vb8+IXvziXXnppTj311Hz9619/wvt77rlnHnnkkcdfH3PMMXnf+96XL3/5y0mSe++9Nw8++GBe8YpX5AMf+EC+8pWv5JFHHskHP/jBHfo9AACWkqUwB3OJHACwhc2v/z/22GNz6qmn5r3vfW/Wrl2bPffcM694xSvya7/2a3nb2972+H7Pfe5zc/TRR+ewww7LD/7gD+b888/Prbfemu/5nu9Jkjz72c/O7//+7+dlL3tZ3vCGN2TlypV54QtfmO/7vu/b0V8RAGDRWcpzsOruBTvYYrJq1apet27dtNsAlhlrACw+rv8fz6233poXv/jF027jSc3VZ1Vd392rptQSczD/AibB/GtxMgd76pbK/CvZvjmYS+QAAAAAGIuACQAAAICxCJgAAAAAGIuACQAAAICxCJgAAAAAGIuACQAAAICx7DrtBgCAxWOhbwU9n1sYf+QjH8lZZ52VjRs35qd+6qdy9tlnL2gPAACL2TTmX8nCz8GcwQQATM3GjRtz5pln5sorr8wtt9ySSy+9NLfccsu02wIAWNYmMQcTMAEAU7N27dp8x3d8R77t274tT3/607N69epcfvnl024LAGBZm8QcTMAEAEzNvffemwMOOODx1zMzM7n33nun2BEAwPI3iTmYgAkAmJru3qJWVVPoBABg5zGJOZiACQCYmpmZmdxzzz2Pv16/fn2e//znT7EjAIDlbxJzMAETADA1L3/5y3P77bfnzjvvzNe+9rVcdtllOf7446fdFgDAsjaJOdiuC9QbALAMzPe2tgtl1113zbve9a4cc8wx2bhxY0499dQceuihO7QHAIBp2tHzr2QyczABEwAwVccdd1yOO+64abcBALBTWeg5mEvkAAAAABiLgAkAAACAsQiYAAAAABiLgAkAAACAsQiYAACWmarapao+U1UfGl7vXVVXV9Xtw/NzRvY9p6ruqKrbquqYkfoRVXXj8N47qqqm8V0AgKVBwAQAsPycleTWkddnJ7mmuw9Ocs3wOlV1SJLVSQ5NcmySC6pql2HMu5OcnuTg4XHsjmkdAFiKdp12AwDA4nH3r7xkQY/3gl++8Un3OfXUU/OhD30o++yzT2666aYF/fydUVXNJPmhJOcm+fdD+YQkrxy2L05ybZJfHOqXdfejSe6sqjuSHFlVdyXZq7uvG455SZITk1y5Q74EAOxElsv8yxlMAMBUvfGNb8xHPvKRabexnPxmkl9I8o2R2r7dfX+SDM/7DPX9k9wzst/6obb/sL15fQtVdXpVrauqdRs2bFiQLwAATNYk5l8CJgBgql7xildk7733nnYby0JVvTbJg919/XyHzFHrbdS3LHZf2N2runvVihUr5vmxAMA0TWL+NdGAqaruGhaHvKGq1g01i0wCAEzG0UmOHy5xuyzJ91fV7yd5oKr2S5Lh+cFh//VJDhgZP5PkvqE+M0cdAGBOO+IMpn/V3Su7e9Xw2iKTAAAT0N3ndPdMdx+Y2XnVX3T3TyS5Iskpw26nJLl82L4iyeqqekZVHZTZedba4TK6R6rqqOEPeyePjAEA2MI0LpE7IbOLS2Z4PnGkfll3P9rddybZtMjkfhkWmezuTnLJyBgAAJ7ceUleU1W3J3nN8DrdfXOSNUluSfKRJGd298ZhzBlJ3pvZOdnfxgLfAMA2TPoucp3kqqrqJP+9uy/MZotMVtXoIpN/PTJ202KSX892LDKZ2TOd8oIXvGAhvwcAwJLS3ddm9m5x6e6Hk7xqK/udm9k7zm1eX5fksMl1CAAsJ5MOmI7u7vuGEOnqqvr8NvZdkEUmk1yYJKtWrZpzHwBg6+ZzW9uFdtJJJ+Xaa6/NQw89lJmZmbztbW/LaaedtsP7AACYhuUy/5powNTd9w3PD1bVB5IcmWGRyeHsJYtMAsBO7tJLL512CwAAO5VJzL8mtgZTVT2rqvbctJ3kB5LcFItMAgAAACwrkzyDad8kH5jNhLJrkj/s7o9U1aeSrKmq05LcneT1yewik1W1aZHJx7LlIpMXJdkjswtMWmQSAAAAYJGYWMDU3X+X5LvnqFtkEgAWke7O8AehRWn2JrIAAMvHYp9/Jds/B5vYJXIAwOK3++675+GHH160IU535+GHH87uu+8+7VYAABbEYp9/JU9tDjbpu8gBAIvYzMxM1q9fnw0bNky7la3afffdMzMz8+Q7AgAsAUth/pVs/xxMwAQAO7HddtstBx100LTbAADYaSzX+ZdL5AAAAAAYi4AJAAAAgLEImAAAAAAYi4AJAAAAgLEImAAAAAAYi4AJAAAAgLEImAAAAAAYi4AJAAAAgLEImAAAAAAYi4AJAAAAgLEImAAAAAAYi4AJAAAAgLEImAAAAAAYi4AJAAAAgLEImAAAAAAYy67TbgAAALbHEW++ZNotsJnrzz952i0AMGXOYAIAAABgLAImAAAAAMYiYAIAAABgLAImAAAAAMYiYAIAAABgLAImAAAAAMYiYAIAAABgLAImAAAAAMYiYAIAAABgLAImAAAAAMYiYAIAAABgLAImAAAAAMYiYAIAAABgLAImAAAAAMYiYAIAAABgLAImAAAAAMYiYAIAAABgLAImAAAAAMYiYAIAAABgLAImAAAAAMYiYAIAAABgLAImAAAAAMYy8YCpqnapqs9U1YeG13tX1dVVdfvw/JyRfc+pqjuq6raqOmakfkRV3Ti8946qqkn3DQAAAMD87IgzmM5KcuvI67OTXNPdBye5ZnidqjokyeokhyY5NskFVbXLMObdSU5PcvDwOHYH9A0AAADAPEw0YKqqmSQ/lOS9I+UTklw8bF+c5MSR+mXd/Wh335nkjiRHVtV+Sfbq7uu6u5NcMjIGAAAAgCmb9BlMv5nkF5J8Y6S2b3ffnyTD8z5Dff8k94zst36o7T9sb17fQlWdXlXrqmrdhg0bFuQLAAAAALBtEwuYquq1SR7s7uvnO2SOWm+jvmWx+8LuXtXdq1asWDHPjwUAAABgHLtO8NhHJzm+qo5LsnuSvarq95M8UFX7dff9w+VvDw77r09ywMj4mST3DfWZOeoAAAAALAITO4Opu8/p7pnuPjCzi3f/RXf/RJIrkpwy7HZKksuH7SuSrK6qZ1TVQZldzHvtcBndI1V11HD3uJNHxgAAAAAwZZM8g2lrzkuypqpOS3J3ktcnSXffXFVrktyS5LEkZ3b3xmHMGUkuSrJHkiuHBwAAAACLwA4JmLr72iTXDtsPJ3nVVvY7N8m5c9TXJTlsch0CAAAA8FRN+i5yAADsQFW1e1WtrarPVtXNVfW2ob53VV1dVbcPz88ZGXNOVd1RVbdV1TEj9SOq6sbhvXcMyxUAAGxBwAQAsLw8muT7u/u7k6xMcmxVHZXk7CTXdPfBSa4ZXqeqDsnsepmHJjk2yQVVtctwrHcnOT2za2MePLwPALAFARMAwDLSs748vNxteHSSE5JcPNQvTnLisH1Cksu6+9HuvjPJHUmOHO72u1d3X9fdneSSkTEAAE8gYAIAWGaqapequiHJg0mu7u5PJtl3uDtvhud9ht33T3LPyPD1Q23/YXvz+uafdXpVrauqdRs2bFjw7wIALA0CJgCAZaa7N3b3yiQzmT0baVs3S5lrXaXeRn3zz7qwu1d196oVK1Y8pX4BgKVPwAQAsEx195cyeyffY5M8MFz2luH5wWG39UkOGBk2k+S+oT4zRx0AYAsCJgCAZaSqVlTVtw7beyR5dZLPJ7kiySnDbqckuXzYviLJ6qp6RlUdlNnFvNcOl9E9UlVHDXePO3lkDADAE+w67QYAAFhQ+yW5eLgT3NOSrOnuD1XVdUnWVNVpSe5O8vok6e6bq2pNkluSPJbkzO7eOBzrjCQXJdkjyZXDAwBgCwImAIBlpLs/l+TwOeoPJ3nVVsacm+TcOerrkmxr/SYAgCQukQMAAABgTAImAAAAAMYiYAIAAABgLAImAAAAAMYiYAIAAABgLAImAAAAAMYiYAIAAABgLAImAAAAAMYiYAIAAABgLAImAAAAAMYiYAIAAABgLAImAAAAAMYiYAIAAABgLAImAAAAAMYiYAIAAABgLAImAAAAAMYiYAIAAABgLAImAAAAAMYiYAIAAABgLAImAAAAAMYiYAIAAABgLAImAAAAAMYiYAIAAABgLAImAAAAAMYiYAIAAABgLAImAAAAAMYyr4Cpqq6ZTw0AgIVh/gUALCW7buvNqto9yTOTPK+qnpOkhrf2SvL8CfcGALDTMf8CAJaibQZMSd6U5OczO5m5Pt+c4Pxjkt+eXFsAADst8y8AYMnZZsDU3b+V5Leq6ue6+507qCcAgJ2W+RcAsBQ92RlMSZLufmdVfW+SA0fHdPclE+oLAGCnZv4FACwl8wqYqur3knx7khuSbBzKncQEBwBgAsy/AIClZF4BU5JVSQ7p7p7vgYcFKj+e5BnD5/xxd7+lqvZO8keZ/WvcXUl+rLu/OIw5J8lpmZ1E/bvu/uhQPyLJRUn2SPLhJGdtTy8AAEvQds+/AACm5Wnz3O+mJP9sO4/9aJLv7+7vTrIyybFVdVSSs5Nc090HJ7lmeJ2qOiTJ6iSHJjk2yQVVtctwrHcnOT3JwcPj2O3sBQBgqXkq8y8AgKmY7xlMz0tyS1WtzWxwlCTp7uO3NmD4a9uXh5e7DY9OckKSVw71i5Ncm+QXh/pl3f1okjur6o4kR1bVXUn26u7rkqSqLklyYpIr59k7AMBStN3zLwCAaZlvwPTWp3Lw4Qyk65N8R5Lf7u5PVtW+3X1/knT3/VW1z7D7/kn+emT4+qH29WF78/pcn3d6Zs90ygte8IKn0jIAwGLx1mk3AAAwX/O9i9xfPpWDd/fGJCur6luTfKCqDtvG7jXXIbZRn+vzLkxyYZKsWrXKegUAwJL1VOdfAADTMN+7yD2Sb4Y6T8/s5W7/1N17zWd8d3+pqq7N7NpJD1TVfsPZS/sleXDYbX2SA0aGzSS5b6jPzFEHAFi2xp1/AQDsSPNa5Lu79+zuvYbH7kl+JMm7tjWmqlYMZy6lqvZI8uokn09yRZJTht1OSXL5sH1FktVV9YyqOiizi3mvHS6ne6SqjqqqSnLyyBgAgGXpqcy/AACmZb5rMD1Bd/9ZVZ39JLvtl+TiYR2mpyVZ090fqqrrkqypqtOS3J3k9cMxb66qNUluSfJYkjOHS+yS5IwkFyXZI7OLe1vgGwDYqcxz/gUAMBXzvUTuh0dePi3JqmxlHaRNuvtzSQ6fo/5wkldtZcy5Sc6do74uybbWbwIAWFaeyvwLAGBa5nsG078e2X4syV1JTljwbgAA2MT8CwBYMuZ7F7l/O+lGAAD4JvMvAGApmdci31U1U1UfqKoHq+qBqvqTqpp58pEAADwV5l8AwFIyr4Apye9m9i5vz0+yf5IPDjUAACbD/AsAWDLmGzCt6O7f7e7HhsdFSVZMsC8AgJ2d+RcAsGTMN2B6qKp+oqp2GR4/keThSTYGALCTM/8CAJaM+QZMpyb5sST/O8n9SX40iYUnAQAmx/wLAFgy5nUXuSS/muSU7v5iklTV3kl+PbMTHwAAFp75FwCwZMz3DKaXbprcJEl3fyHJ4ZNpCQCAmH8BAEvIfAOmp1XVcza9GP6CNt+znwAA2H7mXwDAkjHfScp/TfK/quqPk3Rm1wM4d2JdAQBg/gUALBnzCpi6+5KqWpfk+5NUkh/u7lsm2hkAwE7M/AsAWErmfZr1MKExqQEA2EHMvwCApWK+azABAAAAwJwETAAAy0hVHVBVH6uqW6vq5qo6a6jvXVVXV9Xtw/PoAuLnVNUdVXVbVR0zUj+iqm4c3ntHVdU0vhMAsPgJmAAAlpfHkvyH7n5xkqOSnFlVhyQ5O8k13X1wkmuG1xneW53k0CTHJrmgqnYZjvXuJKcnOXh4HLsjvwgAsHQImAAAlpHuvr+7Pz1sP5Lk1iT7JzkhycXDbhcnOXHYPiHJZd39aHffmeSOJEdW1X5J9uru67q7k1wyMgYA4AkETAAAy1RVHZjk8CSfTLJvd9+fzIZQSfYZdts/yT0jw9YPtf2H7c3rm3/G6VW1rqrWbdiwYcG/AwCwNAiYAACWoap6dpI/SfLz3f2P29p1jlpvo/7EQveF3b2qu1etWLHiqTULACx5AiYAgGWmqnbLbLj0B939p0P5geGytwzPDw719UkOGBk+k+S+oT4zRx0AYAsCJgCAZWS409vvJLm1u39j5K0rkpwybJ+S5PKR+uqqekZVHZTZxbzXDpfRPVJVRw3HPHlkDADAE+w67QYAAFhQRyf5ySQ3VtUNQ+2XkpyXZE1VnZbk7iSvT5Luvrmq1iS5JbN3oDuzuzcO485IclGSPZJcOTwAALYgYAIAWEa6+xOZe/2kJHnVVsacm+TcOerrkhy2cN0BAMuVS+QAAAAAGIuACQAAAICxCJgAAAAAGIuACQAAAICxCJgAAAAAGIu7yI3hiDdfMu0WmMP155887RYAAABgp+IMJgAAAADGImACAAAAYCwCJgAAAADGImACAAAAYCwCJgAAAADGImACAAAAYCwCJgAAAADGImACAAAAYCwCJgAAAADGImACAAAAYCwCJgAAAADGImACAAAAYCwTC5iq6oCq+lhV3VpVN1fVWUN976q6uqpuH56fMzLmnKq6o6puq6pjRupHVNWNw3vvqKqaVN8AAAAAbJ9JnsH0WJL/0N0vTnJUkjOr6pAkZye5prsPTnLN8DrDe6uTHJrk2CQXVNUuw7HeneT0JAcPj2Mn2DcAAAAA22FiAVN339/dnx62H0lya5L9k5yQ5OJht4uTnDhsn5Dksu5+tLvvTHJHkiOrar8ke3X3dd3dSS4ZGQMAAADAlO2QNZiq6sAkhyf5ZJJ9u/v+ZDaESrLPsNv+Se4ZGbZ+qO0/bG9eBwAAAGARmHjAVFXPTvInSX6+u/9xW7vOUett1Of6rNOral1VrduwYcP2NwsAAADAdptowFRVu2U2XPqD7v7TofzAcNlbhucHh/r6JAeMDJ9Jct9Qn5mjvoXuvrC7V3X3qhUrVizcFwEAAABgqyZ5F7lK8jtJbu3u3xh564okpwzbpyS5fKS+uqqeUVUHZXYx77XDZXSPVNVRwzFPHhkDAAAAwJTtOsFjH53kJ5PcWFU3DLVfSnJekjVVdVqSu5O8Pkm6++aqWpPklszege7M7t44jDsjyUVJ9khy5fAAAAAAYBGYWMDU3Z/I3OsnJcmrtjLm3CTnzlFfl+SwhesOAAAAgIWyQ+4iBwAAAMDyJWACAAAAYCwCJgAAAADGImACAAAAYCwCJgAAAADGImACAAAAYCwCJgAAAADGImACAAAAYCwCJgAAAADGImACAAAAYCwCJgAAAADGImACAAAAYCy7TrsBAABgabv7V14y7RaYwwt++cZptwDsRJzBBAAAAMBYBEwAAAAAjEXABAAAAMBYBEwAAAAAjEXABAAAAMBYBEwAAAAAjEXABAAAAMBYBEwAAAAAjEXABAAAAMBYBEwAAAAAjGXXaTcAAOO4+1deMu0WmMMLfvnGabcAAMAO5AwmAAAAAMYiYAIAAABgLAImAAAAAMYiYAIAAABgLAImAIBlpKreV1UPVtVNI7W9q+rqqrp9eH7OyHvnVNUdVXVbVR0zUj+iqm4c3ntHVdWO/i4AwNIhYAIAWF4uSnLsZrWzk1zT3QcnuWZ4nao6JMnqJIcOYy6oql2GMe9OcnqSg4fH5scEAHicgAkAYBnp7o8n+cJm5ROSXDxsX5zkxJH6Zd39aHffmeSOJEdW1X5J9uru67q7k1wyMgYAYAsCJgCA5W/f7r4/SYbnfYb6/knuGdlv/VDbf9jevL6Fqjq9qtZV1boNGzYseOMAwNIgYAIA2HnNta5Sb6O+ZbH7wu5e1d2rVqxYsaDNAQBLh4AJAGD5e2C47C3D84NDfX2SA0b2m0ly31CfmaMOADAnARMAwPJ3RZJThu1Tklw+Ul9dVc+oqoMyu5j32uEyukeq6qjh7nEnj4wBANjCrtNuAACAhVNVlyZ5ZZLnVdX6JG9Jcl6SNVV1WpK7k7w+Sbr75qpak+SWJI8lObO7Nw6HOiOzd6TbI8mVwwMAYE4CJgCAZaS7T9rKW6/ayv7nJjl3jvq6JIctYGsAwDLmEjkAAAAAxiJgAgAAAGAsAiYAAAAAxiJgAgAAAGAsEwuYqup9VfVgVd00Utu7qq6uqtuH5+eMvHdOVd1RVbdV1TEj9SOq6sbhvXcMt8oFAAAAYJGY5BlMFyU5drPa2Umu6e6Dk1wzvE5VHZJkdZJDhzEXVNUuw5h3Jzk9ycHDY/NjAgAAADBFEwuYuvvjSb6wWfmEJBcP2xcnOXGkfll3P9rddya5I8mRVbVfkr26+7ru7iSXjIwBAAAAYBHY0Wsw7dvd9yfJ8LzPUN8/yT0j+60favsP25vXAQAAAFgkFssi33Otq9TbqM99kKrTq2pdVa3bsGHDgjUHAAAAwNbt6IDpgeGytwzPDw719UkOGNlvJsl9Q31mjvqcuvvC7l7V3atWrFixoI0DAAAAMLcdHTBdkeSUYfuUJJeP1FdX1TOq6qDMLua9driM7pGqOmq4e9zJI2MAAAAAWAR2ndSBq+rSJK9M8ryqWp/kLUnOS7Kmqk5LcneS1ydJd99cVWuS3JLksSRndvfG4VBnZPaOdHskuXJ4AAAAAFNy96+8ZNotsJkX/PKNU/38iQVM3X3SVt561Vb2PzfJuXPU1yU5bAFbAwAAAGABLZZFvgEAAABYogRMAAAAAIxFwAQAAADAWARMAAAAAIxFwAQAAADAWARMAAAAAIxFwAQAAADAWARMAAAAAIxFwAQAAADAWARMAAAAAIxFwAQAAADAWARMAAAAAIxFwAQAAADAWARMAAAAAIxl12k3AAvt7l95ybRbYDMv+OUbp90CAAAAE+QMJgAAAADGImACAAAAYCwCJgAAAADGImACAAAAYCwCJgAAAADGImACAAAAYCwCJgAAAADGImACAAAAYCwCJgAAAADGImACAAAAYCwCJgAAAADGImACAAAAYCwCJgAAAADGImACAAAAYCwCJgAAAADGImACAAAAYCwCJgAAAADGImACAAAAYCwCJgAAAADGImACAAAAYCwCJgAAAADGImACAAAAYCwCJgAAAADGImACAAAAYCwCJgAAAADGImACAAAAYCwCJgAAAADGsmQCpqo6tqpuq6o7qursafcDALAzMAcDAOZjSQRMVbVLkt9O8oNJDklyUlUdMt2uAACWN3MwAGC+lkTAlOTIJHd0999199eSXJbkhCn3BACw3JmDAQDzsuu0G5in/ZPcM/J6fZJ/vvlOVXV6ktOHl1+uqtt2QG8sMi9MnpfkoWn3wYi31LQ7YBnzb36R2jH/7l+4Iz5kJ/ekczDzLxK/ixctczAmyL/7RWjH/Zufcw62VAKmuf5X6i0K3RcmuXDy7bCYVdW67l417T6AHcO/eZioJ52DmX+R+F0MOyP/7tncUrlEbn2SA0ZezyS5b0q9AADsLMzBAIB5WSoB06eSHFxVB1XV05OsTnLFlHsCAFjuzMEAgHlZEpfIdfdjVfWzST6aZJck7+vum6fcFouX0/Rh5+LfPEyIORjbwe9i2Pn4d88TVPcWSxkBAAAAwLwtlUvkAAAAAFikBEwAAAAAjEXAxLJRVcdW1W1VdUdVnT3tfoDJqqr3VdWDVXXTtHsB2JmZg8HOxRyMrREwsSxU1S5JfjvJDyY5JMlJVXXIdLsCJuyiJMdOuwmAnZk5GOyULoo5GHMQMLFcHJnkju7+u+7+WpLLkpww5Z6ACerujyf5wrT7ANjJmYPBTsYcjK0RMLFc7J/knpHX64caAACTYw4GQBIBE8tHzVHrHd4FAMDOxRwMgCQCJpaP9UkOGHk9k+S+KfUCALCzMAcDIImAieXjU0kOrqqDqurpSVYnuWLKPQEALHfmYAAkETCxTHT3Y0l+NslHk9yaZE133zzdroBJqqpLk1yX5EVVtb6qTpt2TwA7G3Mw2PmYg7E11e0SaQAAAACeOmcwAQAAADAWARMAAAAAYxEwAQAAADAWARMAAAAAYxEwAQAAADAWARMwcVX15c1ev7Gq3vUUj/WdVfXhqrqjqm6tqjVVte+4+87zsy+qqh99quMBAJ6KzedSW9nn8KrqqjpmHvu+saqeP/L6vVV1yFPs7a6q+p+b1W6oqpueyvHmOL75FywRAiZgyaiq3ZP8jyTv7u7v6O4XJ3l3khWb7bfrfPfdxmftsrDdAwBM1ElJPjE8P5k3Jnk8YOrun+ruW8b47D2r6oAkqaoXj3GcBWU+BzuWgAmYqqr611X1yar6TFX9+aYzjKrqXw5//bpheG/PJP8myXXd/cFN47v7Y9190/CXuPdX1QeTXPUk+x5YVf+zqj49PL53+MxXVtXHquoPk9xYs95VVbdU1f9Iss8O/J8GAOAJqmq/qvr4pjOEqur7hnol+dHMBkc/MPyhbdOYX6iqG6vqs1V13nA20KokfzAcZ4+quraqVlXVGVX1X0bGvrGq3jls/0RVrR3G/PfNwps1Sd4wbJ+U5NKRY+xSVedX1aeq6nNV9aah/sqq+svhDPO/GXr78eEzbqyqbx85/quHudvfVNVr53Hcx+dzC/O/PDAfAiZgR9hjJCy6IcmvjLz3iSRHdffhSS5L8gtD/T8mObO7Vyb5viRfSXJYkuu38Tnfk+SU7v7+J9n3wSSv6e6XZXYy9I6R945M8p+6+5Akr0vyoiQvSfLTSb53fl8XAGAi/k2Sjw7zo+9OcsNQPzrJnd39t0muTXJcklTVDyY5Mck/7+7vTvJfuvuPk6xL8uPdvbK7vzJy/D9O8sMjr9+Q5I+Gs5LekOTo4bM3JvnxrYz710k+OPLeaUn+obtfnuTlSX66qg4a3vvuJGdldq71k0m+s7uPTPLeJD83cowDk/zLJD+U5L8NAdq2jjs6nwN2kF2n3QCwU/jKMBlJMvvXsMz+5SxJZjI7cdkvydOT3DnU/yrJb1TVHyT50+5eP/vHuW26uru/MI9+dkvyrqpamdkJ0neOvLe2uzf18Iokl3b3xiT3VdVfzOPYAACT8qkk76uq3ZL8WXffMNRPyuwf6jI8/2SSP03y6iS/293/J0mebJ7U3Ruq6u+q6qgkt2f2D21/leTMJEck+dQwH9sjs3+w2+QLSb5YVauT3Jrk/4y89wNJXjqyjtK3JDk4ydeSfKq770+SqvrbzJ6FnsyeefSvRo6xpru/keT2qvq7JN/1JMcdnc8BO4iACZi2dyb5je6+oqpemeStSdLd5w2XpR2X5K+r6tVJbs7sX6+25p9Gtre17/+d5IHM/tXsaUm+upVjJEnP61sAAExYd3+8ql6R2TN5fq+qzk/yB0l+JMnxVfWfklSS5w7LC1S2fy7zR0l+LMnnk3ygu3u4BO/i7j7nScb9dmYv0xtVSX6uuz/6hOLsvO/RkdI3Rl5/I0/8b9XNv0M/yXE3n88BO4BL5IBp+5Yk9w7bp2wqVtW3d/eN3f2fM3sa93cl+cMk31tVPzSy37FV9ZI5jrutfb8lyf3DX8J+MsnWFoD8eJLVwzX+++WJf0kDANihquqFSR7s7vck+Z0kL8vsWUqf7e4DuvvA7n5hkj/J7KVxVyU5taqeOYzfezjUI0n23MrH/Okw9qTMhkZJck2SH62qfTYdZ+hl1AeS/JckH92s/tEkZwxnXW26y++ztvOrv76qnjasy/RtSW5boOMCC0jABEzbW5O8v2Zvb/vQSP3nh8UrP5vZ9ZeuHNYIeG2Sn6uq26vqlsz+lezBzY6ZJ9n3giSnVNVfZ/byuK39lesDmT09/MbM3oHuL8f8rgAA43hlkhuq6jOZPWvptzIbBH1gs/3+JMm/6e6PJLkiybphHcz/OLx/UWbXMrqhqvYYHdjdX0xyS5IXdvfaoXZLkv8nyVVV9bkkVyfZb7Nxj3T3f+7ur23Wy3uH4326qm5K8t+z/VfS3JbZediVSf6v7v7qAh0XWEDV7eoPAAAAAJ46ZzABAAAAMBYBEwAAAABjETABAAAAMBYBEwAAAABjETABAAAAMBYBEwAAAABjETABAAAAMJb/Dxd6eE2SvXmYAAAAAElFTkSuQmCC\n",
            "text/plain": [
              "<Figure size 1440x864 with 4 Axes>"
            ]
          },
          "metadata": {
            "needs_background": "light"
          },
          "output_type": "display_data"
        }
      ],
      "source": [
        "fig, axarr = plt.subplots(2, 2, figsize=(20, 12))\n",
        "sns.countplot(x='Geography', hue = 'Exited',data = df, ax=axarr[0][0])\n",
        "sns.countplot(x='Gender', hue = 'Exited',data = df, ax=axarr[0][1])\n",
        "sns.countplot(x='HasCrCard', hue = 'Exited',data = df, ax=axarr[1][0])\n",
        "sns.countplot(x='IsActiveMember', hue = 'Exited',data = df, ax=axarr[1][1]);"
      ]
    },
    {
      "cell_type": "markdown",
      "metadata": {
        "id": "oQSh1-h6HfrY"
      },
      "source": [
        "### Conclusions -\n",
        "\n",
        "1. Number of customers exited is inversely proportion the the number of customers in the region. Eg. Germany has least number of customers but has highest rate of customers exit. This may be because enough resources was not alloted for the customers (in other words comparatively poor service the the customers compared to its competitors).\n",
        "\n",
        "2. Proportion of female customers exiting the service is higher than that of male customers.\n",
        "\n",
        "3. Inactive users have high chance of exiting the service compared to active users."
      ]
    },
    {
      "cell_type": "code",
      "execution_count": 18,
      "metadata": {
        "colab": {
          "base_uri": "https://localhost:8080/"
        },
        "id": "7tqOTiGEcpTi",
        "outputId": "8e2a3e52-86bc-408b-cd04-4de6431193c7"
      },
      "outputs": [
        {
          "output_type": "execute_result",
          "data": {
            "text/plain": [
              "0    7963\n",
              "1    2037\n",
              "Name: Exited, dtype: int64"
            ]
          },
          "metadata": {},
          "execution_count": 18
        }
      ],
      "source": [
        "df['Exited'].value_counts()"
      ]
    },
    {
      "cell_type": "markdown",
      "metadata": {
        "id": "v3Gm-q7eHfrZ"
      },
      "source": [
        "# Feature Engineering"
      ]
    },
    {
      "cell_type": "code",
      "execution_count": 19,
      "metadata": {
        "id": "1RgsaIHtHfrZ"
      },
      "outputs": [],
      "source": [
        "# Divide the dataset into dependent and independent features\n",
        "X = df.iloc[:,:-1]   # Independent features\n",
        "y = df.iloc[:,-1]     # Dependent features"
      ]
    },
    {
      "cell_type": "code",
      "execution_count": 20,
      "metadata": {
        "colab": {
          "base_uri": "https://localhost:8080/",
          "height": 424
        },
        "id": "cO8EPVz8Hfra",
        "outputId": "9bad1d61-e173-4474-926e-ee516d4cb146"
      },
      "outputs": [
        {
          "output_type": "execute_result",
          "data": {
            "text/plain": [
              "      CreditScore Geography  Gender  Age  Tenure    Balance  NumOfProducts  \\\n",
              "0             619    France  Female   42       2       0.00              1   \n",
              "1             608     Spain  Female   41       1   83807.86              1   \n",
              "2             502    France  Female   42       8  159660.80              3   \n",
              "3             699    France  Female   39       1       0.00              2   \n",
              "4             850     Spain  Female   43       2  125510.82              1   \n",
              "...           ...       ...     ...  ...     ...        ...            ...   \n",
              "9995          771    France    Male   39       5       0.00              2   \n",
              "9996          516    France    Male   35      10   57369.61              1   \n",
              "9997          709    France  Female   36       7       0.00              1   \n",
              "9998          772   Germany    Male   42       3   75075.31              2   \n",
              "9999          792    France  Female   28       4  130142.79              1   \n",
              "\n",
              "      HasCrCard  IsActiveMember  EstimatedSalary  \n",
              "0             1               1        101348.88  \n",
              "1             0               1        112542.58  \n",
              "2             1               0        113931.57  \n",
              "3             0               0         93826.63  \n",
              "4             1               1         79084.10  \n",
              "...         ...             ...              ...  \n",
              "9995          1               0         96270.64  \n",
              "9996          1               1        101699.77  \n",
              "9997          0               1         42085.58  \n",
              "9998          1               0         92888.52  \n",
              "9999          1               0         38190.78  \n",
              "\n",
              "[10000 rows x 10 columns]"
            ],
            "text/html": [
              "\n",
              "  <div id=\"df-5b4cc297-6e2b-4ff9-b182-8231c0f685f8\">\n",
              "    <div class=\"colab-df-container\">\n",
              "      <div>\n",
              "<style scoped>\n",
              "    .dataframe tbody tr th:only-of-type {\n",
              "        vertical-align: middle;\n",
              "    }\n",
              "\n",
              "    .dataframe tbody tr th {\n",
              "        vertical-align: top;\n",
              "    }\n",
              "\n",
              "    .dataframe thead th {\n",
              "        text-align: right;\n",
              "    }\n",
              "</style>\n",
              "<table border=\"1\" class=\"dataframe\">\n",
              "  <thead>\n",
              "    <tr style=\"text-align: right;\">\n",
              "      <th></th>\n",
              "      <th>CreditScore</th>\n",
              "      <th>Geography</th>\n",
              "      <th>Gender</th>\n",
              "      <th>Age</th>\n",
              "      <th>Tenure</th>\n",
              "      <th>Balance</th>\n",
              "      <th>NumOfProducts</th>\n",
              "      <th>HasCrCard</th>\n",
              "      <th>IsActiveMember</th>\n",
              "      <th>EstimatedSalary</th>\n",
              "    </tr>\n",
              "  </thead>\n",
              "  <tbody>\n",
              "    <tr>\n",
              "      <th>0</th>\n",
              "      <td>619</td>\n",
              "      <td>France</td>\n",
              "      <td>Female</td>\n",
              "      <td>42</td>\n",
              "      <td>2</td>\n",
              "      <td>0.00</td>\n",
              "      <td>1</td>\n",
              "      <td>1</td>\n",
              "      <td>1</td>\n",
              "      <td>101348.88</td>\n",
              "    </tr>\n",
              "    <tr>\n",
              "      <th>1</th>\n",
              "      <td>608</td>\n",
              "      <td>Spain</td>\n",
              "      <td>Female</td>\n",
              "      <td>41</td>\n",
              "      <td>1</td>\n",
              "      <td>83807.86</td>\n",
              "      <td>1</td>\n",
              "      <td>0</td>\n",
              "      <td>1</td>\n",
              "      <td>112542.58</td>\n",
              "    </tr>\n",
              "    <tr>\n",
              "      <th>2</th>\n",
              "      <td>502</td>\n",
              "      <td>France</td>\n",
              "      <td>Female</td>\n",
              "      <td>42</td>\n",
              "      <td>8</td>\n",
              "      <td>159660.80</td>\n",
              "      <td>3</td>\n",
              "      <td>1</td>\n",
              "      <td>0</td>\n",
              "      <td>113931.57</td>\n",
              "    </tr>\n",
              "    <tr>\n",
              "      <th>3</th>\n",
              "      <td>699</td>\n",
              "      <td>France</td>\n",
              "      <td>Female</td>\n",
              "      <td>39</td>\n",
              "      <td>1</td>\n",
              "      <td>0.00</td>\n",
              "      <td>2</td>\n",
              "      <td>0</td>\n",
              "      <td>0</td>\n",
              "      <td>93826.63</td>\n",
              "    </tr>\n",
              "    <tr>\n",
              "      <th>4</th>\n",
              "      <td>850</td>\n",
              "      <td>Spain</td>\n",
              "      <td>Female</td>\n",
              "      <td>43</td>\n",
              "      <td>2</td>\n",
              "      <td>125510.82</td>\n",
              "      <td>1</td>\n",
              "      <td>1</td>\n",
              "      <td>1</td>\n",
              "      <td>79084.10</td>\n",
              "    </tr>\n",
              "    <tr>\n",
              "      <th>...</th>\n",
              "      <td>...</td>\n",
              "      <td>...</td>\n",
              "      <td>...</td>\n",
              "      <td>...</td>\n",
              "      <td>...</td>\n",
              "      <td>...</td>\n",
              "      <td>...</td>\n",
              "      <td>...</td>\n",
              "      <td>...</td>\n",
              "      <td>...</td>\n",
              "    </tr>\n",
              "    <tr>\n",
              "      <th>9995</th>\n",
              "      <td>771</td>\n",
              "      <td>France</td>\n",
              "      <td>Male</td>\n",
              "      <td>39</td>\n",
              "      <td>5</td>\n",
              "      <td>0.00</td>\n",
              "      <td>2</td>\n",
              "      <td>1</td>\n",
              "      <td>0</td>\n",
              "      <td>96270.64</td>\n",
              "    </tr>\n",
              "    <tr>\n",
              "      <th>9996</th>\n",
              "      <td>516</td>\n",
              "      <td>France</td>\n",
              "      <td>Male</td>\n",
              "      <td>35</td>\n",
              "      <td>10</td>\n",
              "      <td>57369.61</td>\n",
              "      <td>1</td>\n",
              "      <td>1</td>\n",
              "      <td>1</td>\n",
              "      <td>101699.77</td>\n",
              "    </tr>\n",
              "    <tr>\n",
              "      <th>9997</th>\n",
              "      <td>709</td>\n",
              "      <td>France</td>\n",
              "      <td>Female</td>\n",
              "      <td>36</td>\n",
              "      <td>7</td>\n",
              "      <td>0.00</td>\n",
              "      <td>1</td>\n",
              "      <td>0</td>\n",
              "      <td>1</td>\n",
              "      <td>42085.58</td>\n",
              "    </tr>\n",
              "    <tr>\n",
              "      <th>9998</th>\n",
              "      <td>772</td>\n",
              "      <td>Germany</td>\n",
              "      <td>Male</td>\n",
              "      <td>42</td>\n",
              "      <td>3</td>\n",
              "      <td>75075.31</td>\n",
              "      <td>2</td>\n",
              "      <td>1</td>\n",
              "      <td>0</td>\n",
              "      <td>92888.52</td>\n",
              "    </tr>\n",
              "    <tr>\n",
              "      <th>9999</th>\n",
              "      <td>792</td>\n",
              "      <td>France</td>\n",
              "      <td>Female</td>\n",
              "      <td>28</td>\n",
              "      <td>4</td>\n",
              "      <td>130142.79</td>\n",
              "      <td>1</td>\n",
              "      <td>1</td>\n",
              "      <td>0</td>\n",
              "      <td>38190.78</td>\n",
              "    </tr>\n",
              "  </tbody>\n",
              "</table>\n",
              "<p>10000 rows × 10 columns</p>\n",
              "</div>\n",
              "      <button class=\"colab-df-convert\" onclick=\"convertToInteractive('df-5b4cc297-6e2b-4ff9-b182-8231c0f685f8')\"\n",
              "              title=\"Convert this dataframe to an interactive table.\"\n",
              "              style=\"display:none;\">\n",
              "        \n",
              "  <svg xmlns=\"http://www.w3.org/2000/svg\" height=\"24px\"viewBox=\"0 0 24 24\"\n",
              "       width=\"24px\">\n",
              "    <path d=\"M0 0h24v24H0V0z\" fill=\"none\"/>\n",
              "    <path d=\"M18.56 5.44l.94 2.06.94-2.06 2.06-.94-2.06-.94-.94-2.06-.94 2.06-2.06.94zm-11 1L8.5 8.5l.94-2.06 2.06-.94-2.06-.94L8.5 2.5l-.94 2.06-2.06.94zm10 10l.94 2.06.94-2.06 2.06-.94-2.06-.94-.94-2.06-.94 2.06-2.06.94z\"/><path d=\"M17.41 7.96l-1.37-1.37c-.4-.4-.92-.59-1.43-.59-.52 0-1.04.2-1.43.59L10.3 9.45l-7.72 7.72c-.78.78-.78 2.05 0 2.83L4 21.41c.39.39.9.59 1.41.59.51 0 1.02-.2 1.41-.59l7.78-7.78 2.81-2.81c.8-.78.8-2.07 0-2.86zM5.41 20L4 18.59l7.72-7.72 1.47 1.35L5.41 20z\"/>\n",
              "  </svg>\n",
              "      </button>\n",
              "      \n",
              "  <style>\n",
              "    .colab-df-container {\n",
              "      display:flex;\n",
              "      flex-wrap:wrap;\n",
              "      gap: 12px;\n",
              "    }\n",
              "\n",
              "    .colab-df-convert {\n",
              "      background-color: #E8F0FE;\n",
              "      border: none;\n",
              "      border-radius: 50%;\n",
              "      cursor: pointer;\n",
              "      display: none;\n",
              "      fill: #1967D2;\n",
              "      height: 32px;\n",
              "      padding: 0 0 0 0;\n",
              "      width: 32px;\n",
              "    }\n",
              "\n",
              "    .colab-df-convert:hover {\n",
              "      background-color: #E2EBFA;\n",
              "      box-shadow: 0px 1px 2px rgba(60, 64, 67, 0.3), 0px 1px 3px 1px rgba(60, 64, 67, 0.15);\n",
              "      fill: #174EA6;\n",
              "    }\n",
              "\n",
              "    [theme=dark] .colab-df-convert {\n",
              "      background-color: #3B4455;\n",
              "      fill: #D2E3FC;\n",
              "    }\n",
              "\n",
              "    [theme=dark] .colab-df-convert:hover {\n",
              "      background-color: #434B5C;\n",
              "      box-shadow: 0px 1px 3px 1px rgba(0, 0, 0, 0.15);\n",
              "      filter: drop-shadow(0px 1px 2px rgba(0, 0, 0, 0.3));\n",
              "      fill: #FFFFFF;\n",
              "    }\n",
              "  </style>\n",
              "\n",
              "      <script>\n",
              "        const buttonEl =\n",
              "          document.querySelector('#df-5b4cc297-6e2b-4ff9-b182-8231c0f685f8 button.colab-df-convert');\n",
              "        buttonEl.style.display =\n",
              "          google.colab.kernel.accessAllowed ? 'block' : 'none';\n",
              "\n",
              "        async function convertToInteractive(key) {\n",
              "          const element = document.querySelector('#df-5b4cc297-6e2b-4ff9-b182-8231c0f685f8');\n",
              "          const dataTable =\n",
              "            await google.colab.kernel.invokeFunction('convertToInteractive',\n",
              "                                                     [key], {});\n",
              "          if (!dataTable) return;\n",
              "\n",
              "          const docLinkHtml = 'Like what you see? Visit the ' +\n",
              "            '<a target=\"_blank\" href=https://colab.research.google.com/notebooks/data_table.ipynb>data table notebook</a>'\n",
              "            + ' to learn more about interactive tables.';\n",
              "          element.innerHTML = '';\n",
              "          dataTable['output_type'] = 'display_data';\n",
              "          await google.colab.output.renderOutput(dataTable, element);\n",
              "          const docLink = document.createElement('div');\n",
              "          docLink.innerHTML = docLinkHtml;\n",
              "          element.appendChild(docLink);\n",
              "        }\n",
              "      </script>\n",
              "    </div>\n",
              "  </div>\n",
              "  "
            ]
          },
          "metadata": {},
          "execution_count": 20
        }
      ],
      "source": [
        "X"
      ]
    },
    {
      "cell_type": "code",
      "execution_count": 21,
      "metadata": {
        "colab": {
          "base_uri": "https://localhost:8080/"
        },
        "id": "Pgmv93FiHfra",
        "outputId": "44a72e73-26f3-4e16-be83-143029ff43a9"
      },
      "outputs": [
        {
          "output_type": "execute_result",
          "data": {
            "text/plain": [
              "0       1\n",
              "1       0\n",
              "2       1\n",
              "3       0\n",
              "4       0\n",
              "       ..\n",
              "9995    0\n",
              "9996    0\n",
              "9997    1\n",
              "9998    1\n",
              "9999    0\n",
              "Name: Exited, Length: 10000, dtype: int64"
            ]
          },
          "metadata": {},
          "execution_count": 21
        }
      ],
      "source": [
        "y"
      ]
    },
    {
      "cell_type": "code",
      "execution_count": 22,
      "metadata": {
        "id": "VhTlfxLxHfrb"
      },
      "outputs": [],
      "source": [
        "geography = pd.get_dummies(X['Geography'], drop_first = True)\n",
        "gender = pd.get_dummies(X['Gender'], drop_first = True)"
      ]
    },
    {
      "cell_type": "code",
      "execution_count": 23,
      "metadata": {
        "id": "qY0_tE9fHfrb"
      },
      "outputs": [],
      "source": [
        "X = X.drop(['Geography', 'Gender'], axis = 1)"
      ]
    },
    {
      "cell_type": "code",
      "execution_count": 24,
      "metadata": {
        "id": "krxZUhHHHfrb"
      },
      "outputs": [],
      "source": [
        "X = pd.concat([X,geography,gender], axis = 1)"
      ]
    },
    {
      "cell_type": "code",
      "execution_count": 25,
      "metadata": {
        "colab": {
          "base_uri": "https://localhost:8080/",
          "height": 424
        },
        "id": "pPbr9SBPHfrb",
        "outputId": "4ec93359-6f3a-4f5c-c9c4-612902b18904"
      },
      "outputs": [
        {
          "output_type": "execute_result",
          "data": {
            "text/plain": [
              "      CreditScore  Age  Tenure    Balance  NumOfProducts  HasCrCard  \\\n",
              "0             619   42       2       0.00              1          1   \n",
              "1             608   41       1   83807.86              1          0   \n",
              "2             502   42       8  159660.80              3          1   \n",
              "3             699   39       1       0.00              2          0   \n",
              "4             850   43       2  125510.82              1          1   \n",
              "...           ...  ...     ...        ...            ...        ...   \n",
              "9995          771   39       5       0.00              2          1   \n",
              "9996          516   35      10   57369.61              1          1   \n",
              "9997          709   36       7       0.00              1          0   \n",
              "9998          772   42       3   75075.31              2          1   \n",
              "9999          792   28       4  130142.79              1          1   \n",
              "\n",
              "      IsActiveMember  EstimatedSalary  Germany  Spain  Male  \n",
              "0                  1        101348.88        0      0     0  \n",
              "1                  1        112542.58        0      1     0  \n",
              "2                  0        113931.57        0      0     0  \n",
              "3                  0         93826.63        0      0     0  \n",
              "4                  1         79084.10        0      1     0  \n",
              "...              ...              ...      ...    ...   ...  \n",
              "9995               0         96270.64        0      0     1  \n",
              "9996               1        101699.77        0      0     1  \n",
              "9997               1         42085.58        0      0     0  \n",
              "9998               0         92888.52        1      0     1  \n",
              "9999               0         38190.78        0      0     0  \n",
              "\n",
              "[10000 rows x 11 columns]"
            ],
            "text/html": [
              "\n",
              "  <div id=\"df-89723ab1-1558-436f-8318-20092ce5b4b7\">\n",
              "    <div class=\"colab-df-container\">\n",
              "      <div>\n",
              "<style scoped>\n",
              "    .dataframe tbody tr th:only-of-type {\n",
              "        vertical-align: middle;\n",
              "    }\n",
              "\n",
              "    .dataframe tbody tr th {\n",
              "        vertical-align: top;\n",
              "    }\n",
              "\n",
              "    .dataframe thead th {\n",
              "        text-align: right;\n",
              "    }\n",
              "</style>\n",
              "<table border=\"1\" class=\"dataframe\">\n",
              "  <thead>\n",
              "    <tr style=\"text-align: right;\">\n",
              "      <th></th>\n",
              "      <th>CreditScore</th>\n",
              "      <th>Age</th>\n",
              "      <th>Tenure</th>\n",
              "      <th>Balance</th>\n",
              "      <th>NumOfProducts</th>\n",
              "      <th>HasCrCard</th>\n",
              "      <th>IsActiveMember</th>\n",
              "      <th>EstimatedSalary</th>\n",
              "      <th>Germany</th>\n",
              "      <th>Spain</th>\n",
              "      <th>Male</th>\n",
              "    </tr>\n",
              "  </thead>\n",
              "  <tbody>\n",
              "    <tr>\n",
              "      <th>0</th>\n",
              "      <td>619</td>\n",
              "      <td>42</td>\n",
              "      <td>2</td>\n",
              "      <td>0.00</td>\n",
              "      <td>1</td>\n",
              "      <td>1</td>\n",
              "      <td>1</td>\n",
              "      <td>101348.88</td>\n",
              "      <td>0</td>\n",
              "      <td>0</td>\n",
              "      <td>0</td>\n",
              "    </tr>\n",
              "    <tr>\n",
              "      <th>1</th>\n",
              "      <td>608</td>\n",
              "      <td>41</td>\n",
              "      <td>1</td>\n",
              "      <td>83807.86</td>\n",
              "      <td>1</td>\n",
              "      <td>0</td>\n",
              "      <td>1</td>\n",
              "      <td>112542.58</td>\n",
              "      <td>0</td>\n",
              "      <td>1</td>\n",
              "      <td>0</td>\n",
              "    </tr>\n",
              "    <tr>\n",
              "      <th>2</th>\n",
              "      <td>502</td>\n",
              "      <td>42</td>\n",
              "      <td>8</td>\n",
              "      <td>159660.80</td>\n",
              "      <td>3</td>\n",
              "      <td>1</td>\n",
              "      <td>0</td>\n",
              "      <td>113931.57</td>\n",
              "      <td>0</td>\n",
              "      <td>0</td>\n",
              "      <td>0</td>\n",
              "    </tr>\n",
              "    <tr>\n",
              "      <th>3</th>\n",
              "      <td>699</td>\n",
              "      <td>39</td>\n",
              "      <td>1</td>\n",
              "      <td>0.00</td>\n",
              "      <td>2</td>\n",
              "      <td>0</td>\n",
              "      <td>0</td>\n",
              "      <td>93826.63</td>\n",
              "      <td>0</td>\n",
              "      <td>0</td>\n",
              "      <td>0</td>\n",
              "    </tr>\n",
              "    <tr>\n",
              "      <th>4</th>\n",
              "      <td>850</td>\n",
              "      <td>43</td>\n",
              "      <td>2</td>\n",
              "      <td>125510.82</td>\n",
              "      <td>1</td>\n",
              "      <td>1</td>\n",
              "      <td>1</td>\n",
              "      <td>79084.10</td>\n",
              "      <td>0</td>\n",
              "      <td>1</td>\n",
              "      <td>0</td>\n",
              "    </tr>\n",
              "    <tr>\n",
              "      <th>...</th>\n",
              "      <td>...</td>\n",
              "      <td>...</td>\n",
              "      <td>...</td>\n",
              "      <td>...</td>\n",
              "      <td>...</td>\n",
              "      <td>...</td>\n",
              "      <td>...</td>\n",
              "      <td>...</td>\n",
              "      <td>...</td>\n",
              "      <td>...</td>\n",
              "      <td>...</td>\n",
              "    </tr>\n",
              "    <tr>\n",
              "      <th>9995</th>\n",
              "      <td>771</td>\n",
              "      <td>39</td>\n",
              "      <td>5</td>\n",
              "      <td>0.00</td>\n",
              "      <td>2</td>\n",
              "      <td>1</td>\n",
              "      <td>0</td>\n",
              "      <td>96270.64</td>\n",
              "      <td>0</td>\n",
              "      <td>0</td>\n",
              "      <td>1</td>\n",
              "    </tr>\n",
              "    <tr>\n",
              "      <th>9996</th>\n",
              "      <td>516</td>\n",
              "      <td>35</td>\n",
              "      <td>10</td>\n",
              "      <td>57369.61</td>\n",
              "      <td>1</td>\n",
              "      <td>1</td>\n",
              "      <td>1</td>\n",
              "      <td>101699.77</td>\n",
              "      <td>0</td>\n",
              "      <td>0</td>\n",
              "      <td>1</td>\n",
              "    </tr>\n",
              "    <tr>\n",
              "      <th>9997</th>\n",
              "      <td>709</td>\n",
              "      <td>36</td>\n",
              "      <td>7</td>\n",
              "      <td>0.00</td>\n",
              "      <td>1</td>\n",
              "      <td>0</td>\n",
              "      <td>1</td>\n",
              "      <td>42085.58</td>\n",
              "      <td>0</td>\n",
              "      <td>0</td>\n",
              "      <td>0</td>\n",
              "    </tr>\n",
              "    <tr>\n",
              "      <th>9998</th>\n",
              "      <td>772</td>\n",
              "      <td>42</td>\n",
              "      <td>3</td>\n",
              "      <td>75075.31</td>\n",
              "      <td>2</td>\n",
              "      <td>1</td>\n",
              "      <td>0</td>\n",
              "      <td>92888.52</td>\n",
              "      <td>1</td>\n",
              "      <td>0</td>\n",
              "      <td>1</td>\n",
              "    </tr>\n",
              "    <tr>\n",
              "      <th>9999</th>\n",
              "      <td>792</td>\n",
              "      <td>28</td>\n",
              "      <td>4</td>\n",
              "      <td>130142.79</td>\n",
              "      <td>1</td>\n",
              "      <td>1</td>\n",
              "      <td>0</td>\n",
              "      <td>38190.78</td>\n",
              "      <td>0</td>\n",
              "      <td>0</td>\n",
              "      <td>0</td>\n",
              "    </tr>\n",
              "  </tbody>\n",
              "</table>\n",
              "<p>10000 rows × 11 columns</p>\n",
              "</div>\n",
              "      <button class=\"colab-df-convert\" onclick=\"convertToInteractive('df-89723ab1-1558-436f-8318-20092ce5b4b7')\"\n",
              "              title=\"Convert this dataframe to an interactive table.\"\n",
              "              style=\"display:none;\">\n",
              "        \n",
              "  <svg xmlns=\"http://www.w3.org/2000/svg\" height=\"24px\"viewBox=\"0 0 24 24\"\n",
              "       width=\"24px\">\n",
              "    <path d=\"M0 0h24v24H0V0z\" fill=\"none\"/>\n",
              "    <path d=\"M18.56 5.44l.94 2.06.94-2.06 2.06-.94-2.06-.94-.94-2.06-.94 2.06-2.06.94zm-11 1L8.5 8.5l.94-2.06 2.06-.94-2.06-.94L8.5 2.5l-.94 2.06-2.06.94zm10 10l.94 2.06.94-2.06 2.06-.94-2.06-.94-.94-2.06-.94 2.06-2.06.94z\"/><path d=\"M17.41 7.96l-1.37-1.37c-.4-.4-.92-.59-1.43-.59-.52 0-1.04.2-1.43.59L10.3 9.45l-7.72 7.72c-.78.78-.78 2.05 0 2.83L4 21.41c.39.39.9.59 1.41.59.51 0 1.02-.2 1.41-.59l7.78-7.78 2.81-2.81c.8-.78.8-2.07 0-2.86zM5.41 20L4 18.59l7.72-7.72 1.47 1.35L5.41 20z\"/>\n",
              "  </svg>\n",
              "      </button>\n",
              "      \n",
              "  <style>\n",
              "    .colab-df-container {\n",
              "      display:flex;\n",
              "      flex-wrap:wrap;\n",
              "      gap: 12px;\n",
              "    }\n",
              "\n",
              "    .colab-df-convert {\n",
              "      background-color: #E8F0FE;\n",
              "      border: none;\n",
              "      border-radius: 50%;\n",
              "      cursor: pointer;\n",
              "      display: none;\n",
              "      fill: #1967D2;\n",
              "      height: 32px;\n",
              "      padding: 0 0 0 0;\n",
              "      width: 32px;\n",
              "    }\n",
              "\n",
              "    .colab-df-convert:hover {\n",
              "      background-color: #E2EBFA;\n",
              "      box-shadow: 0px 1px 2px rgba(60, 64, 67, 0.3), 0px 1px 3px 1px rgba(60, 64, 67, 0.15);\n",
              "      fill: #174EA6;\n",
              "    }\n",
              "\n",
              "    [theme=dark] .colab-df-convert {\n",
              "      background-color: #3B4455;\n",
              "      fill: #D2E3FC;\n",
              "    }\n",
              "\n",
              "    [theme=dark] .colab-df-convert:hover {\n",
              "      background-color: #434B5C;\n",
              "      box-shadow: 0px 1px 3px 1px rgba(0, 0, 0, 0.15);\n",
              "      filter: drop-shadow(0px 1px 2px rgba(0, 0, 0, 0.3));\n",
              "      fill: #FFFFFF;\n",
              "    }\n",
              "  </style>\n",
              "\n",
              "      <script>\n",
              "        const buttonEl =\n",
              "          document.querySelector('#df-89723ab1-1558-436f-8318-20092ce5b4b7 button.colab-df-convert');\n",
              "        buttonEl.style.display =\n",
              "          google.colab.kernel.accessAllowed ? 'block' : 'none';\n",
              "\n",
              "        async function convertToInteractive(key) {\n",
              "          const element = document.querySelector('#df-89723ab1-1558-436f-8318-20092ce5b4b7');\n",
              "          const dataTable =\n",
              "            await google.colab.kernel.invokeFunction('convertToInteractive',\n",
              "                                                     [key], {});\n",
              "          if (!dataTable) return;\n",
              "\n",
              "          const docLinkHtml = 'Like what you see? Visit the ' +\n",
              "            '<a target=\"_blank\" href=https://colab.research.google.com/notebooks/data_table.ipynb>data table notebook</a>'\n",
              "            + ' to learn more about interactive tables.';\n",
              "          element.innerHTML = '';\n",
              "          dataTable['output_type'] = 'display_data';\n",
              "          await google.colab.output.renderOutput(dataTable, element);\n",
              "          const docLink = document.createElement('div');\n",
              "          docLink.innerHTML = docLinkHtml;\n",
              "          element.appendChild(docLink);\n",
              "        }\n",
              "      </script>\n",
              "    </div>\n",
              "  </div>\n",
              "  "
            ]
          },
          "metadata": {},
          "execution_count": 25
        }
      ],
      "source": [
        "X"
      ]
    },
    {
      "cell_type": "code",
      "execution_count": 26,
      "metadata": {
        "id": "1ZHGiXZEHfrc"
      },
      "outputs": [],
      "source": [
        "# Split the dataset in traning set and test set\n",
        "from sklearn.model_selection import train_test_split"
      ]
    },
    {
      "cell_type": "code",
      "execution_count": 27,
      "metadata": {
        "id": "5Tk6TR2tHfrc"
      },
      "outputs": [],
      "source": [
        "X_train, X_test, y_train, y_test = train_test_split(X,y, test_size = 0.2, random_state = 0)"
      ]
    },
    {
      "cell_type": "code",
      "execution_count": 28,
      "metadata": {
        "colab": {
          "base_uri": "https://localhost:8080/"
        },
        "id": "VUcxtUtbkY95",
        "outputId": "cb00badc-47cb-464f-9fa5-a383d40aa7ac"
      },
      "outputs": [
        {
          "output_type": "stream",
          "name": "stdout",
          "text": [
            "No  =  6368\n",
            "Yes =  1632\n"
          ]
        }
      ],
      "source": [
        "print('No  = ',list(y_train).count(0))\n",
        "print('Yes = ',list(y_train).count(1))"
      ]
    },
    {
      "cell_type": "markdown",
      "metadata": {
        "id": "FkXzLiXDcr2h"
      },
      "source": [
        "True and false ratio of observation column ('Exited') is around 80:20 which means that the data is imbalanced and our model may not be able to predict the true cases."
      ]
    },
    {
      "cell_type": "code",
      "execution_count": 29,
      "metadata": {
        "colab": {
          "base_uri": "https://localhost:8080/"
        },
        "id": "VThuT06Rq0Ik",
        "outputId": "de5137bb-557d-4065-dd49-a67bfba215fe"
      },
      "outputs": [
        {
          "output_type": "stream",
          "name": "stdout",
          "text": [
            "Looking in indexes: https://pypi.org/simple, https://us-python.pkg.dev/colab-wheels/public/simple/\n",
            "Requirement already satisfied: imbalanced-learn in /usr/local/lib/python3.8/dist-packages (0.8.1)\n",
            "Requirement already satisfied: scipy>=0.19.1 in /usr/local/lib/python3.8/dist-packages (from imbalanced-learn) (1.7.3)\n",
            "Requirement already satisfied: numpy>=1.13.3 in /usr/local/lib/python3.8/dist-packages (from imbalanced-learn) (1.21.6)\n",
            "Requirement already satisfied: scikit-learn>=0.24 in /usr/local/lib/python3.8/dist-packages (from imbalanced-learn) (1.0.2)\n",
            "Requirement already satisfied: joblib>=0.11 in /usr/local/lib/python3.8/dist-packages (from imbalanced-learn) (1.2.0)\n",
            "Requirement already satisfied: threadpoolctl>=2.0.0 in /usr/local/lib/python3.8/dist-packages (from scikit-learn>=0.24->imbalanced-learn) (3.1.0)\n"
          ]
        }
      ],
      "source": [
        "!pip install imbalanced-learn"
      ]
    },
    {
      "cell_type": "code",
      "execution_count": 30,
      "metadata": {
        "id": "Yl7Ex9D9q0Sk"
      },
      "outputs": [],
      "source": [
        "from imblearn.under_sampling import RandomUnderSampler"
      ]
    },
    {
      "cell_type": "code",
      "execution_count": 31,
      "metadata": {
        "id": "np6GijEQq0Yp"
      },
      "outputs": [],
      "source": [
        "undersample = RandomUnderSampler(sampling_strategy=0.5, random_state=42)"
      ]
    },
    {
      "cell_type": "code",
      "execution_count": 32,
      "metadata": {
        "id": "S8Y1ziBtq0ey"
      },
      "outputs": [],
      "source": [
        "X_train,y_train = undersample.fit_resample(X_train,y_train)"
      ]
    },
    {
      "cell_type": "code",
      "execution_count": 33,
      "metadata": {
        "colab": {
          "base_uri": "https://localhost:8080/"
        },
        "id": "9gYd8Q9bq0kw",
        "outputId": "f8dab9d8-99d9-4ebc-8ff3-68cd835dff83"
      },
      "outputs": [
        {
          "output_type": "execute_result",
          "data": {
            "text/plain": [
              "(4896, 11)"
            ]
          },
          "metadata": {},
          "execution_count": 33
        }
      ],
      "source": [
        "X_train.shape"
      ]
    },
    {
      "cell_type": "code",
      "execution_count": 34,
      "metadata": {
        "colab": {
          "base_uri": "https://localhost:8080/"
        },
        "id": "ztzJsj5ct1Go",
        "outputId": "ee1697ec-c970-4392-a379-40d8bf1688af"
      },
      "outputs": [
        {
          "output_type": "stream",
          "name": "stdout",
          "text": [
            "No  =  3264\n",
            "Yes =  1632\n"
          ]
        }
      ],
      "source": [
        "print('No  = ',list(y_train).count(0))\n",
        "print('Yes = ',list(y_train).count(1))"
      ]
    },
    {
      "cell_type": "markdown",
      "metadata": {
        "id": "thJCs61OuRgB"
      },
      "source": [
        "The training dataset is now quite balanced and now we can use this dataset to train our model."
      ]
    },
    {
      "cell_type": "code",
      "execution_count": 35,
      "metadata": {
        "id": "MX9VCGxPHfrc"
      },
      "outputs": [],
      "source": [
        "# Scaling the numerical features\n",
        "from sklearn.preprocessing import MinMaxScaler"
      ]
    },
    {
      "cell_type": "code",
      "execution_count": 36,
      "metadata": {
        "id": "TzP_WMzuHfrd"
      },
      "outputs": [],
      "source": [
        "sc = MinMaxScaler()"
      ]
    },
    {
      "cell_type": "code",
      "execution_count": 37,
      "metadata": {
        "id": "59XyYMn3Hfrd"
      },
      "outputs": [],
      "source": [
        "X_train = sc.fit_transform(X_train)\n",
        "X_test = sc.transform(X_test)"
      ]
    },
    {
      "cell_type": "code",
      "execution_count": 38,
      "metadata": {
        "colab": {
          "base_uri": "https://localhost:8080/"
        },
        "id": "8eqZ7CYoHfrd",
        "outputId": "f2dd2c6f-6e72-48ad-8e94-340f91bbcf91"
      },
      "outputs": [
        {
          "output_type": "execute_result",
          "data": {
            "text/plain": [
              "array([[0.896     , 0.14285714, 0.3       , ..., 0.        , 0.        ,\n",
              "        1.        ],\n",
              "       [0.438     , 0.24285714, 1.        , ..., 0.        , 0.        ,\n",
              "        1.        ],\n",
              "       [0.99      , 0.14285714, 0.9       , ..., 0.        , 0.        ,\n",
              "        0.        ],\n",
              "       ...,\n",
              "       [0.8       , 0.31428571, 0.5       , ..., 1.        , 0.        ,\n",
              "        1.        ],\n",
              "       [0.392     , 0.38571429, 0.2       , ..., 0.        , 1.        ,\n",
              "        0.        ],\n",
              "       [0.546     , 0.42857143, 0.1       , ..., 1.        , 0.        ,\n",
              "        0.        ]])"
            ]
          },
          "metadata": {},
          "execution_count": 38
        }
      ],
      "source": [
        "X_train"
      ]
    },
    {
      "cell_type": "markdown",
      "metadata": {
        "id": "ArobD3izHfre"
      },
      "source": [
        "# Model training\n",
        "\n",
        "    1. Logistic regression\n",
        "    2. SVM\n",
        "    3. Ensemble models"
      ]
    },
    {
      "cell_type": "markdown",
      "metadata": {
        "id": "wEC1tau5Hfre"
      },
      "source": [
        "## 1. Logistic regression model\n",
        "\n",
        "###    1.1 Primal logistic regression"
      ]
    },
    {
      "cell_type": "code",
      "execution_count": 49,
      "metadata": {
        "id": "IU6vddMYHfre"
      },
      "outputs": [],
      "source": [
        "from sklearn.linear_model import LogisticRegression\n",
        "from sklearn.model_selection import GridSearchCV\n",
        "from sklearn.metrics import accuracy_score\n",
        "from sklearn.metrics import confusion_matrix\n",
        "from sklearn.metrics import classification_report"
      ]
    },
    {
      "cell_type": "code",
      "execution_count": 40,
      "metadata": {
        "id": "ddYdoBBPHfrf"
      },
      "outputs": [],
      "source": [
        "# Function to give best model score and parameters\n",
        "def best_model(model):\n",
        "    print(model.best_score_)    \n",
        "    print(model.best_params_)\n",
        "    print(model.best_estimator_)"
      ]
    },
    {
      "cell_type": "code",
      "execution_count": 51,
      "metadata": {
        "colab": {
          "base_uri": "https://localhost:8080/"
        },
        "id": "73ksUUttHfrf",
        "outputId": "53c67317-ec3d-41eb-9c64-149526281975"
      },
      "outputs": [
        {
          "output_type": "stream",
          "name": "stdout",
          "text": [
            "0.7330424439714536\n",
            "{'C': 10, 'fit_intercept': True, 'intercept_scaling': 1, 'max_iter': 250, 'penalty': 'l2', 'tol': 1e-05}\n",
            "LogisticRegression(C=10, max_iter=250, tol=1e-05)\n"
          ]
        }
      ],
      "source": [
        "# Fit primal logistic regression\n",
        "param_grid = {'C': [0.1,0.5,1,10,50,100], 'max_iter': [250], 'fit_intercept':[True],'intercept_scaling':[1],\n",
        "              'penalty':['l2'], 'tol':[0.00001,0.0001,0.000001]}\n",
        "log_primal_Grid = GridSearchCV(LogisticRegression(solver='lbfgs'),param_grid, cv=10, refit=True, verbose=0)\n",
        "log_primal_Grid.fit(X_train,y_train)\n",
        "best_model(log_primal_Grid)"
      ]
    },
    {
      "cell_type": "code",
      "execution_count": 52,
      "metadata": {
        "id": "2v79gHrIHfrf"
      },
      "outputs": [],
      "source": [
        "# Predicting the test set results\n",
        "y_pred_primal = log_primal_Grid.predict(X_test)\n",
        "y_pred_primal = (y_pred_primal >= 0.5)"
      ]
    },
    {
      "cell_type": "code",
      "execution_count": 53,
      "metadata": {
        "colab": {
          "base_uri": "https://localhost:8080/"
        },
        "id": "lpAzIJu8Hfrg",
        "outputId": "9a35bbd4-5525-45ab-af58-c98ad33428fe"
      },
      "outputs": [
        {
          "output_type": "execute_result",
          "data": {
            "text/plain": [
              "array([[1403,  192],\n",
              "       [ 214,  191]])"
            ]
          },
          "metadata": {},
          "execution_count": 53
        }
      ],
      "source": [
        "# Make the confussion matrix\n",
        "cf_primal = confusion_matrix(y_test,y_pred_primal)\n",
        "cf_primal"
      ]
    },
    {
      "cell_type": "code",
      "execution_count": 54,
      "metadata": {
        "colab": {
          "base_uri": "https://localhost:8080/"
        },
        "id": "j-XyiCa-Hfrg",
        "outputId": "7266ce25-1543-47fb-ac9d-49db83b4352f"
      },
      "outputs": [
        {
          "output_type": "stream",
          "name": "stdout",
          "text": [
            "              precision    recall  f1-score   support\n",
            "\n",
            "           0       0.87      0.88      0.87      1595\n",
            "           1       0.50      0.47      0.48       405\n",
            "\n",
            "    accuracy                           0.80      2000\n",
            "   macro avg       0.68      0.68      0.68      2000\n",
            "weighted avg       0.79      0.80      0.79      2000\n",
            "\n"
          ]
        }
      ],
      "source": [
        "print(classification_report(y_test, y_pred_primal))"
      ]
    },
    {
      "cell_type": "markdown",
      "metadata": {
        "id": "DbU5UsHsHfrg"
      },
      "source": [
        "###    1.2 logistic regression with degree 2 polynomial"
      ]
    },
    {
      "cell_type": "code",
      "execution_count": 55,
      "metadata": {
        "id": "pH2L2CKGHfrg"
      },
      "outputs": [],
      "source": [
        "from sklearn.preprocessing import PolynomialFeatures"
      ]
    },
    {
      "cell_type": "code",
      "execution_count": 56,
      "metadata": {
        "colab": {
          "base_uri": "https://localhost:8080/"
        },
        "id": "hKcw3wWOHfrh",
        "outputId": "01d24a13-fb3b-47cc-eb02-777f7aec1c3e"
      },
      "outputs": [
        {
          "output_type": "stream",
          "name": "stdout",
          "text": [
            "0.7998338579558484\n",
            "{'C': 50, 'fit_intercept': True, 'intercept_scaling': 1, 'max_iter': 300, 'penalty': 'l2', 'tol': 0.0001}\n",
            "LogisticRegression(C=50, max_iter=300, solver='liblinear')\n"
          ]
        }
      ],
      "source": [
        "param_grid = {'C': [0.1,10,50], 'max_iter': [300,500], 'fit_intercept':[True],'intercept_scaling':[1],'penalty':['l2'],\n",
        "              'tol':[0.0001,0.000001]}\n",
        "poly2 = PolynomialFeatures(degree=2)\n",
        "X_train_pol2 = poly2.fit_transform(X_train)\n",
        "log_pol2_Grid = GridSearchCV(LogisticRegression(solver = 'liblinear'),param_grid, cv=5, refit=True, verbose=0)\n",
        "log_pol2_Grid.fit(X_train_pol2,y_train)\n",
        "best_model(log_pol2_Grid)"
      ]
    },
    {
      "cell_type": "markdown",
      "metadata": {
        "id": "ZP9npq1tHfrh"
      },
      "source": [
        "## SVM classifier with RBF kernal"
      ]
    },
    {
      "cell_type": "code",
      "execution_count": 58,
      "metadata": {
        "id": "ASTzICNJHfrh"
      },
      "outputs": [],
      "source": [
        "from sklearn.svm import SVC"
      ]
    },
    {
      "cell_type": "code",
      "execution_count": 59,
      "metadata": {
        "colab": {
          "base_uri": "https://localhost:8080/"
        },
        "id": "Oyra7vTQHfrh",
        "outputId": "754e5cbd-7df1-475f-e7f6-ba7f24f0df8f"
      },
      "outputs": [
        {
          "output_type": "stream",
          "name": "stdout",
          "text": [
            "0.7886029411764706\n",
            "{'C': 150, 'gamma': 0.1, 'kernel': 'rbf', 'probability': True}\n",
            "SVC(C=150, gamma=0.1, probability=True)\n"
          ]
        }
      ],
      "source": [
        "param_grid = {'C': [0.5,100,150], 'gamma': [0.1,0.01,0.001],'probability':[True],'kernel': ['rbf']}\n",
        "SVM_grid = GridSearchCV(SVC(), param_grid, cv=3, refit=True, verbose=0)\n",
        "SVM_grid.fit(X_train,y_train)\n",
        "best_model(SVM_grid)"
      ]
    },
    {
      "cell_type": "code",
      "execution_count": 60,
      "metadata": {
        "id": "jQKjlFE1xx22"
      },
      "outputs": [],
      "source": [
        "y_pred_svm = SVM_grid.predict(X_test)\n",
        "y_pred_svm = (y_pred_svm >= 0.5)"
      ]
    },
    {
      "cell_type": "code",
      "execution_count": 61,
      "metadata": {
        "colab": {
          "base_uri": "https://localhost:8080/"
        },
        "id": "1j_zNtZpxx-l",
        "outputId": "29f1f53c-9734-4a9e-bb51-e5867b69f2a8"
      },
      "outputs": [
        {
          "output_type": "execute_result",
          "data": {
            "text/plain": [
              "array([[1448,  147],\n",
              "       [ 160,  245]])"
            ]
          },
          "metadata": {},
          "execution_count": 61
        }
      ],
      "source": [
        "# Make the confussion matrix\n",
        "cf_svm = confusion_matrix(y_test,y_pred_svm)\n",
        "cf_svm"
      ]
    },
    {
      "cell_type": "code",
      "execution_count": 62,
      "metadata": {
        "colab": {
          "base_uri": "https://localhost:8080/"
        },
        "id": "iAM07wIXzgVf",
        "outputId": "e24b7d2f-a4a2-4448-aa55-e6db75f42b55"
      },
      "outputs": [
        {
          "output_type": "stream",
          "name": "stdout",
          "text": [
            "              precision    recall  f1-score   support\n",
            "\n",
            "           0       0.90      0.91      0.90      1595\n",
            "           1       0.62      0.60      0.61       405\n",
            "\n",
            "    accuracy                           0.85      2000\n",
            "   macro avg       0.76      0.76      0.76      2000\n",
            "weighted avg       0.84      0.85      0.85      2000\n",
            "\n"
          ]
        }
      ],
      "source": [
        "print(classification_report(y_test, y_pred_svm))"
      ]
    },
    {
      "cell_type": "markdown",
      "source": [
        "## Naive Bayes classifier"
      ],
      "metadata": {
        "id": "V7bFMubTsmUt"
      }
    },
    {
      "cell_type": "code",
      "source": [
        "from sklearn.naive_bayes import GaussianNB"
      ],
      "metadata": {
        "id": "ZOyrCQWdsj4F"
      },
      "execution_count": 41,
      "outputs": []
    },
    {
      "cell_type": "code",
      "source": [
        "param_grid = {'var_smoothing': np.logspace(0,-9, num=100)}\n",
        "nbc_grid = GridSearchCV(GaussianNB(), param_grid, cv=3, refit=True, verbose=0)\n",
        "nbc_grid.fit(X_train,y_train)\n",
        "best_model(nbc_grid)"
      ],
      "metadata": {
        "colab": {
          "base_uri": "https://localhost:8080/"
        },
        "id": "EBbNUEJPsj-b",
        "outputId": "f63f9d22-109a-4620-c04f-01ab9a6fe00f"
      },
      "execution_count": 42,
      "outputs": [
        {
          "output_type": "stream",
          "name": "stdout",
          "text": [
            "0.7497957516339868\n",
            "{'var_smoothing': 3.5111917342151275e-06}\n",
            "GaussianNB(var_smoothing=3.5111917342151275e-06)\n"
          ]
        }
      ]
    },
    {
      "cell_type": "code",
      "source": [
        "y_pred_nbc = nbc_grid.predict(X_test)\n",
        "y_pred_nbc = (y_pred_nbc >= 0.5)"
      ],
      "metadata": {
        "id": "emp_bYt0skEL"
      },
      "execution_count": 44,
      "outputs": []
    },
    {
      "cell_type": "code",
      "source": [
        "# Make the confussion matrix\n",
        "cf_nbc = confusion_matrix(y_test,y_pred_nbc)\n",
        "cf_nbc"
      ],
      "metadata": {
        "colab": {
          "base_uri": "https://localhost:8080/"
        },
        "id": "sqQVNFK2wZj1",
        "outputId": "75ca0ac5-a242-48fd-9fef-67ae5f29d630"
      },
      "execution_count": 47,
      "outputs": [
        {
          "output_type": "execute_result",
          "data": {
            "text/plain": [
              "array([[1367,  228],\n",
              "       [ 190,  215]])"
            ]
          },
          "metadata": {},
          "execution_count": 47
        }
      ]
    },
    {
      "cell_type": "code",
      "source": [
        "print(classification_report(y_test, y_pred_nbc))"
      ],
      "metadata": {
        "colab": {
          "base_uri": "https://localhost:8080/"
        },
        "id": "wma2uqWgskMY",
        "outputId": "b152057b-8208-45b3-8c62-71a3a43c67ad"
      },
      "execution_count": 50,
      "outputs": [
        {
          "output_type": "stream",
          "name": "stdout",
          "text": [
            "              precision    recall  f1-score   support\n",
            "\n",
            "           0       0.88      0.86      0.87      1595\n",
            "           1       0.49      0.53      0.51       405\n",
            "\n",
            "    accuracy                           0.79      2000\n",
            "   macro avg       0.68      0.69      0.69      2000\n",
            "weighted avg       0.80      0.79      0.79      2000\n",
            "\n"
          ]
        }
      ]
    },
    {
      "cell_type": "markdown",
      "metadata": {
        "id": "fB75KuSFHfri"
      },
      "source": [
        "## Random forest classifier"
      ]
    },
    {
      "cell_type": "code",
      "execution_count": 63,
      "metadata": {
        "id": "ky4tVTzGHfri"
      },
      "outputs": [],
      "source": [
        "from sklearn.ensemble import RandomForestClassifier"
      ]
    },
    {
      "cell_type": "code",
      "execution_count": 64,
      "metadata": {
        "colab": {
          "base_uri": "https://localhost:8080/"
        },
        "id": "Y-eYQdFLHfri",
        "outputId": "a1daea24-42a8-46fb-d382-f9476041175a"
      },
      "outputs": [
        {
          "output_type": "stream",
          "name": "stdout",
          "text": [
            "0.8096401992870692\n",
            "{'max_depth': 8, 'max_features': 6, 'min_samples_split': 5, 'n_estimators': 100}\n",
            "RandomForestClassifier(max_depth=8, max_features=6, min_samples_split=5)\n"
          ]
        }
      ],
      "source": [
        "param_grid = {'max_depth': [3, 5, 6, 7, 8], 'max_features': [2,4,6,7,8,9],'n_estimators':[50,100],'min_samples_split': [3, 5, 6, 7]}\n",
        "RandFor_grid = GridSearchCV(RandomForestClassifier(), param_grid, cv=5, refit=True, verbose=0)\n",
        "RandFor_grid.fit(X_train,y_train)\n",
        "best_model(RandFor_grid)"
      ]
    },
    {
      "cell_type": "code",
      "execution_count": 65,
      "metadata": {
        "id": "-P2aBGq5zuPR"
      },
      "outputs": [],
      "source": [
        "y_pred_rf = RandFor_grid.predict(X_test)\n",
        "y_pred_rf = (y_pred_rf >= 0.5)"
      ]
    },
    {
      "cell_type": "code",
      "execution_count": null,
      "metadata": {
        "colab": {
          "base_uri": "https://localhost:8080/"
        },
        "id": "4SgF9HP7zukP",
        "outputId": "93bbe067-a700-46b0-e20c-c83d1610bf4b"
      },
      "outputs": [
        {
          "data": {
            "text/plain": [
              "array([[1443,  152],\n",
              "       [ 149,  256]])"
            ]
          },
          "execution_count": 136,
          "metadata": {},
          "output_type": "execute_result"
        }
      ],
      "source": [
        "cf_rf = confusion_matrix(y_test,y_pred_rf)\n",
        "cf_rf"
      ]
    },
    {
      "cell_type": "code",
      "execution_count": 66,
      "metadata": {
        "colab": {
          "base_uri": "https://localhost:8080/"
        },
        "id": "rpngeWf-zu2I",
        "outputId": "9d8658de-aa31-4acd-bcb3-03587fa349fb"
      },
      "outputs": [
        {
          "output_type": "stream",
          "name": "stdout",
          "text": [
            "              precision    recall  f1-score   support\n",
            "\n",
            "           0       0.91      0.90      0.90      1595\n",
            "           1       0.62      0.64      0.63       405\n",
            "\n",
            "    accuracy                           0.85      2000\n",
            "   macro avg       0.77      0.77      0.77      2000\n",
            "weighted avg       0.85      0.85      0.85      2000\n",
            "\n"
          ]
        }
      ],
      "source": [
        "print(classification_report(y_test, y_pred_rf))"
      ]
    },
    {
      "cell_type": "markdown",
      "metadata": {
        "id": "sLsEyr-oHfri"
      },
      "source": [
        "## XGBoost classifier"
      ]
    },
    {
      "cell_type": "code",
      "execution_count": 67,
      "metadata": {
        "id": "7-3SGo8YHfri"
      },
      "outputs": [],
      "source": [
        "from xgboost import XGBClassifier"
      ]
    },
    {
      "cell_type": "code",
      "execution_count": 68,
      "metadata": {
        "colab": {
          "base_uri": "https://localhost:8080/"
        },
        "id": "EpV980R7Hfri",
        "outputId": "6103415c-18a1-44a1-92de-66b84b6c8122"
      },
      "outputs": [
        {
          "output_type": "stream",
          "name": "stdout",
          "text": [
            "0.808414041816931\n",
            "{'gamma': 0.01, 'learning_rate': 0.2, 'max_depth': 6, 'min_child_weight': 5, 'n_estimators': 20}\n",
            "XGBClassifier(gamma=0.01, learning_rate=0.2, max_depth=6, min_child_weight=5,\n",
            "              n_estimators=20)\n"
          ]
        }
      ],
      "source": [
        "param_grid = {'max_depth': [5,6,7,8], 'gamma': [0.01,0.001,0.001],'min_child_weight':[1,5,10], 'learning_rate': [0.05,0.1, 0.2, 0.3], 'n_estimators':[5,10,20,100]}\n",
        "xgb_grid = GridSearchCV(XGBClassifier(), param_grid, cv=5, refit=True, verbose=0)\n",
        "xgb_grid.fit(X_train,y_train)\n",
        "best_model(xgb_grid)"
      ]
    },
    {
      "cell_type": "code",
      "execution_count": 69,
      "metadata": {
        "id": "yq0zN8AySmsp"
      },
      "outputs": [],
      "source": [
        "y_pred_xgb = xgb_grid.predict(X_test)\n",
        "y_pred_xgb = (y_pred_xgb >= 0.5)"
      ]
    },
    {
      "cell_type": "code",
      "execution_count": 70,
      "metadata": {
        "colab": {
          "base_uri": "https://localhost:8080/"
        },
        "id": "s74lUwlcSnaZ",
        "outputId": "5cccbcd2-2af9-494b-b524-a23950f3ab2c"
      },
      "outputs": [
        {
          "output_type": "stream",
          "name": "stdout",
          "text": [
            "              precision    recall  f1-score   support\n",
            "\n",
            "           0       0.91      0.89      0.90      1595\n",
            "           1       0.60      0.66      0.63       405\n",
            "\n",
            "    accuracy                           0.84      2000\n",
            "   macro avg       0.76      0.78      0.77      2000\n",
            "weighted avg       0.85      0.84      0.85      2000\n",
            "\n"
          ]
        }
      ],
      "source": [
        "print(classification_report(y_test, y_pred_xgb))"
      ]
    },
    {
      "cell_type": "code",
      "execution_count": 71,
      "metadata": {
        "colab": {
          "base_uri": "https://localhost:8080/"
        },
        "id": "dZnDM54HVcS7",
        "outputId": "ca1eef6f-069d-4cf7-8522-98f0d9eb503a"
      },
      "outputs": [
        {
          "output_type": "execute_result",
          "data": {
            "text/plain": [
              "array([[1417,  178],\n",
              "       [ 136,  269]])"
            ]
          },
          "metadata": {},
          "execution_count": 71
        }
      ],
      "source": [
        "cf_xgb = confusion_matrix(y_test,y_pred_xgb)\n",
        "cf_xgb"
      ]
    },
    {
      "cell_type": "markdown",
      "metadata": {
        "id": "baiY0Lgh73X9"
      },
      "source": [
        "# Conclusion:\n",
        "\n",
        "From the results above, my main goal is to predict which customers are likely to churn so that they can be put into some sort of churn prevention scheme. \n",
        "\n",
        "The data we had only 20% churns, so it was an imbalanced data. Balancing was necessary before training the model. We balanced the data by deleting negative rows such that the ratio of negative to positive output was 0.5.\n",
        "\n",
        "High accuracy model can help the bank to effectively allocate its resources towards the clients which were actually churning without unnecessarily wasted resources on false alarms.\n",
        "\n",
        "Whereas a high recall model can help the bank to effectively idendity the actual churning customers.\n",
        "\n",
        "We achieve our best model using XGBoostClassifier that gave precision of 89% and recall of 66% that means the model was able to catch 66% of the actual Churn cases. This is the measure we really care about, because we want to miss as few of the true Churn cases as possible."
      ]
    },
    {
      "cell_type": "code",
      "execution_count": 72,
      "metadata": {
        "id": "U7sLPy8oHfrn"
      },
      "outputs": [],
      "source": [
        "!pip install jovian --upgrade --quiet"
      ]
    },
    {
      "cell_type": "code",
      "execution_count": 73,
      "metadata": {
        "id": "7T-JNer5Hfrn"
      },
      "outputs": [],
      "source": [
        "import jovian"
      ]
    },
    {
      "cell_type": "code",
      "execution_count": 74,
      "metadata": {
        "id": "V1873YWmHfrn",
        "outputId": "ead0d173-06a7-453c-e4ca-3dab23535f6d",
        "colab": {
          "base_uri": "https://localhost:8080/"
        }
      },
      "outputs": [
        {
          "output_type": "stream",
          "name": "stdout",
          "text": [
            "[jovian] Detected Colab notebook...\u001b[0m\n",
            "[jovian] jovian.commit() is no longer required on Google Colab. If you ran this notebook from Jovian, \n",
            "then just save this file in Colab using Ctrl+S/Cmd+S and it will be updated on Jovian. \n",
            "Also, you can also delete this cell, it's no longer necessary.\u001b[0m\n"
          ]
        }
      ],
      "source": [
        "# Execute this to save new versions of the notebook\n",
        "jovian.commit(project=\"bank-customer-churn-prediction\")"
      ]
    }
  ],
  "metadata": {
    "colab": {
      "provenance": []
    },
    "kernelspec": {
      "display_name": "Python 3 (ipykernel)",
      "language": "python",
      "name": "python3"
    },
    "language_info": {
      "codemirror_mode": {
        "name": "ipython",
        "version": 3
      },
      "file_extension": ".py",
      "mimetype": "text/x-python",
      "name": "python",
      "nbconvert_exporter": "python",
      "pygments_lexer": "ipython3",
      "version": "3.9.7"
    }
  },
  "nbformat": 4,
  "nbformat_minor": 0
}
