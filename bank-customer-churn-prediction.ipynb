{
 "cells": [
  {
   "cell_type": "markdown",
   "metadata": {
    "id": "NO1jYLtgHfrM"
   },
   "source": [
    "# bank-customer-churn-prediction\n",
    "\n",
    "Customers leaving BankCo (i.e. closing all accounts) are referred to as churn customers. Closing and reopening bank accounts is time consuming and customers who churn are usually unsatisfied with the service provided. As a result, churn customers are unlikely to return at any point in the future, and are likely to discourage new customers. It is fair to assume that the task of replacing churn customers is much more difficult than taking measures in advance to retain customers who are at risk of leaving. In order not to undermine the efforts of marketing, BankCo requires accurate models to predict which customers will churn.\n",
    "\n",
    "## Objective\n",
    "The goal of this project is to evaluate the use of machine learning algorithms in predicting whether customers are likely to churn in the future based on account information. An accurate model would allow BankCo to focus resources on incentivising potential churn customers to remain at the bank."
   ]
  },
  {
   "cell_type": "code",
   "execution_count": 40,
   "metadata": {
    "executionInfo": {
     "elapsed": 4517,
     "status": "ok",
     "timestamp": 1669713221884,
     "user": {
      "displayName": "Rajat Sharma",
      "userId": "18154528103335713431"
     },
     "user_tz": -330
    },
    "id": "vhl9uMXWHfrP"
   },
   "outputs": [
    {
     "name": "stdout",
     "output_type": "stream",
     "text": [
      "Note: you may need to restart the kernel to use updated packages.\n"
     ]
    }
   ],
   "source": [
    "pip install numpy pandas matplotlib seaborn plotly sklearn opendatasets xgboost --quiet"
   ]
  },
  {
   "cell_type": "code",
   "execution_count": 1,
   "metadata": {
    "executionInfo": {
     "elapsed": 13,
     "status": "ok",
     "timestamp": 1669713221885,
     "user": {
      "displayName": "Rajat Sharma",
      "userId": "18154528103335713431"
     },
     "user_tz": -330
    },
    "id": "uH4CzQRZHfrT"
   },
   "outputs": [],
   "source": [
    "import numpy as np\n",
    "import pandas as pd\n",
    "import matplotlib.pyplot as plt\n",
    "import seaborn as sns\n",
    "%matplotlib inline\n",
    "pd.set_option(\"display.max_columns\", 120)\n",
    "pd.set_option(\"display.max_rows\", 120)"
   ]
  },
  {
   "cell_type": "code",
   "execution_count": 2,
   "metadata": {
    "colab": {
     "base_uri": "https://localhost:8080/",
     "height": 424
    },
    "executionInfo": {
     "elapsed": 13,
     "status": "ok",
     "timestamp": 1669713221886,
     "user": {
      "displayName": "Rajat Sharma",
      "userId": "18154528103335713431"
     },
     "user_tz": -330
    },
    "id": "uuPAerQ9HfrU",
    "outputId": "875d860d-6a86-4d96-ef79-6336c5d98e06"
   },
   "outputs": [
    {
     "data": {
      "text/html": [
       "<div>\n",
       "<style scoped>\n",
       "    .dataframe tbody tr th:only-of-type {\n",
       "        vertical-align: middle;\n",
       "    }\n",
       "\n",
       "    .dataframe tbody tr th {\n",
       "        vertical-align: top;\n",
       "    }\n",
       "\n",
       "    .dataframe thead th {\n",
       "        text-align: right;\n",
       "    }\n",
       "</style>\n",
       "<table border=\"1\" class=\"dataframe\">\n",
       "  <thead>\n",
       "    <tr style=\"text-align: right;\">\n",
       "      <th></th>\n",
       "      <th>RowNumber</th>\n",
       "      <th>CustomerId</th>\n",
       "      <th>Surname</th>\n",
       "      <th>CreditScore</th>\n",
       "      <th>Geography</th>\n",
       "      <th>Gender</th>\n",
       "      <th>Age</th>\n",
       "      <th>Tenure</th>\n",
       "      <th>Balance</th>\n",
       "      <th>NumOfProducts</th>\n",
       "      <th>HasCrCard</th>\n",
       "      <th>IsActiveMember</th>\n",
       "      <th>EstimatedSalary</th>\n",
       "      <th>Exited</th>\n",
       "    </tr>\n",
       "  </thead>\n",
       "  <tbody>\n",
       "    <tr>\n",
       "      <th>0</th>\n",
       "      <td>1</td>\n",
       "      <td>15634602</td>\n",
       "      <td>Hargrave</td>\n",
       "      <td>619</td>\n",
       "      <td>France</td>\n",
       "      <td>Female</td>\n",
       "      <td>42</td>\n",
       "      <td>2</td>\n",
       "      <td>0.00</td>\n",
       "      <td>1</td>\n",
       "      <td>1</td>\n",
       "      <td>1</td>\n",
       "      <td>101348.88</td>\n",
       "      <td>1</td>\n",
       "    </tr>\n",
       "    <tr>\n",
       "      <th>1</th>\n",
       "      <td>2</td>\n",
       "      <td>15647311</td>\n",
       "      <td>Hill</td>\n",
       "      <td>608</td>\n",
       "      <td>Spain</td>\n",
       "      <td>Female</td>\n",
       "      <td>41</td>\n",
       "      <td>1</td>\n",
       "      <td>83807.86</td>\n",
       "      <td>1</td>\n",
       "      <td>0</td>\n",
       "      <td>1</td>\n",
       "      <td>112542.58</td>\n",
       "      <td>0</td>\n",
       "    </tr>\n",
       "    <tr>\n",
       "      <th>2</th>\n",
       "      <td>3</td>\n",
       "      <td>15619304</td>\n",
       "      <td>Onio</td>\n",
       "      <td>502</td>\n",
       "      <td>France</td>\n",
       "      <td>Female</td>\n",
       "      <td>42</td>\n",
       "      <td>8</td>\n",
       "      <td>159660.80</td>\n",
       "      <td>3</td>\n",
       "      <td>1</td>\n",
       "      <td>0</td>\n",
       "      <td>113931.57</td>\n",
       "      <td>1</td>\n",
       "    </tr>\n",
       "    <tr>\n",
       "      <th>3</th>\n",
       "      <td>4</td>\n",
       "      <td>15701354</td>\n",
       "      <td>Boni</td>\n",
       "      <td>699</td>\n",
       "      <td>France</td>\n",
       "      <td>Female</td>\n",
       "      <td>39</td>\n",
       "      <td>1</td>\n",
       "      <td>0.00</td>\n",
       "      <td>2</td>\n",
       "      <td>0</td>\n",
       "      <td>0</td>\n",
       "      <td>93826.63</td>\n",
       "      <td>0</td>\n",
       "    </tr>\n",
       "    <tr>\n",
       "      <th>4</th>\n",
       "      <td>5</td>\n",
       "      <td>15737888</td>\n",
       "      <td>Mitchell</td>\n",
       "      <td>850</td>\n",
       "      <td>Spain</td>\n",
       "      <td>Female</td>\n",
       "      <td>43</td>\n",
       "      <td>2</td>\n",
       "      <td>125510.82</td>\n",
       "      <td>1</td>\n",
       "      <td>1</td>\n",
       "      <td>1</td>\n",
       "      <td>79084.10</td>\n",
       "      <td>0</td>\n",
       "    </tr>\n",
       "    <tr>\n",
       "      <th>...</th>\n",
       "      <td>...</td>\n",
       "      <td>...</td>\n",
       "      <td>...</td>\n",
       "      <td>...</td>\n",
       "      <td>...</td>\n",
       "      <td>...</td>\n",
       "      <td>...</td>\n",
       "      <td>...</td>\n",
       "      <td>...</td>\n",
       "      <td>...</td>\n",
       "      <td>...</td>\n",
       "      <td>...</td>\n",
       "      <td>...</td>\n",
       "      <td>...</td>\n",
       "    </tr>\n",
       "    <tr>\n",
       "      <th>9995</th>\n",
       "      <td>9996</td>\n",
       "      <td>15606229</td>\n",
       "      <td>Obijiaku</td>\n",
       "      <td>771</td>\n",
       "      <td>France</td>\n",
       "      <td>Male</td>\n",
       "      <td>39</td>\n",
       "      <td>5</td>\n",
       "      <td>0.00</td>\n",
       "      <td>2</td>\n",
       "      <td>1</td>\n",
       "      <td>0</td>\n",
       "      <td>96270.64</td>\n",
       "      <td>0</td>\n",
       "    </tr>\n",
       "    <tr>\n",
       "      <th>9996</th>\n",
       "      <td>9997</td>\n",
       "      <td>15569892</td>\n",
       "      <td>Johnstone</td>\n",
       "      <td>516</td>\n",
       "      <td>France</td>\n",
       "      <td>Male</td>\n",
       "      <td>35</td>\n",
       "      <td>10</td>\n",
       "      <td>57369.61</td>\n",
       "      <td>1</td>\n",
       "      <td>1</td>\n",
       "      <td>1</td>\n",
       "      <td>101699.77</td>\n",
       "      <td>0</td>\n",
       "    </tr>\n",
       "    <tr>\n",
       "      <th>9997</th>\n",
       "      <td>9998</td>\n",
       "      <td>15584532</td>\n",
       "      <td>Liu</td>\n",
       "      <td>709</td>\n",
       "      <td>France</td>\n",
       "      <td>Female</td>\n",
       "      <td>36</td>\n",
       "      <td>7</td>\n",
       "      <td>0.00</td>\n",
       "      <td>1</td>\n",
       "      <td>0</td>\n",
       "      <td>1</td>\n",
       "      <td>42085.58</td>\n",
       "      <td>1</td>\n",
       "    </tr>\n",
       "    <tr>\n",
       "      <th>9998</th>\n",
       "      <td>9999</td>\n",
       "      <td>15682355</td>\n",
       "      <td>Sabbatini</td>\n",
       "      <td>772</td>\n",
       "      <td>Germany</td>\n",
       "      <td>Male</td>\n",
       "      <td>42</td>\n",
       "      <td>3</td>\n",
       "      <td>75075.31</td>\n",
       "      <td>2</td>\n",
       "      <td>1</td>\n",
       "      <td>0</td>\n",
       "      <td>92888.52</td>\n",
       "      <td>1</td>\n",
       "    </tr>\n",
       "    <tr>\n",
       "      <th>9999</th>\n",
       "      <td>10000</td>\n",
       "      <td>15628319</td>\n",
       "      <td>Walker</td>\n",
       "      <td>792</td>\n",
       "      <td>France</td>\n",
       "      <td>Female</td>\n",
       "      <td>28</td>\n",
       "      <td>4</td>\n",
       "      <td>130142.79</td>\n",
       "      <td>1</td>\n",
       "      <td>1</td>\n",
       "      <td>0</td>\n",
       "      <td>38190.78</td>\n",
       "      <td>0</td>\n",
       "    </tr>\n",
       "  </tbody>\n",
       "</table>\n",
       "<p>10000 rows × 14 columns</p>\n",
       "</div>"
      ],
      "text/plain": [
       "      RowNumber  CustomerId    Surname  CreditScore Geography  Gender  Age  \\\n",
       "0             1    15634602   Hargrave          619    France  Female   42   \n",
       "1             2    15647311       Hill          608     Spain  Female   41   \n",
       "2             3    15619304       Onio          502    France  Female   42   \n",
       "3             4    15701354       Boni          699    France  Female   39   \n",
       "4             5    15737888   Mitchell          850     Spain  Female   43   \n",
       "...         ...         ...        ...          ...       ...     ...  ...   \n",
       "9995       9996    15606229   Obijiaku          771    France    Male   39   \n",
       "9996       9997    15569892  Johnstone          516    France    Male   35   \n",
       "9997       9998    15584532        Liu          709    France  Female   36   \n",
       "9998       9999    15682355  Sabbatini          772   Germany    Male   42   \n",
       "9999      10000    15628319     Walker          792    France  Female   28   \n",
       "\n",
       "      Tenure    Balance  NumOfProducts  HasCrCard  IsActiveMember  \\\n",
       "0          2       0.00              1          1               1   \n",
       "1          1   83807.86              1          0               1   \n",
       "2          8  159660.80              3          1               0   \n",
       "3          1       0.00              2          0               0   \n",
       "4          2  125510.82              1          1               1   \n",
       "...      ...        ...            ...        ...             ...   \n",
       "9995       5       0.00              2          1               0   \n",
       "9996      10   57369.61              1          1               1   \n",
       "9997       7       0.00              1          0               1   \n",
       "9998       3   75075.31              2          1               0   \n",
       "9999       4  130142.79              1          1               0   \n",
       "\n",
       "      EstimatedSalary  Exited  \n",
       "0           101348.88       1  \n",
       "1           112542.58       0  \n",
       "2           113931.57       1  \n",
       "3            93826.63       0  \n",
       "4            79084.10       0  \n",
       "...               ...     ...  \n",
       "9995         96270.64       0  \n",
       "9996        101699.77       0  \n",
       "9997         42085.58       1  \n",
       "9998         92888.52       1  \n",
       "9999         38190.78       0  \n",
       "\n",
       "[10000 rows x 14 columns]"
      ]
     },
     "execution_count": 2,
     "metadata": {},
     "output_type": "execute_result"
    }
   ],
   "source": [
    "df = pd.read_csv('Churn_Modelling.csv')\n",
    "df"
   ]
  },
  {
   "cell_type": "code",
   "execution_count": 3,
   "metadata": {
    "colab": {
     "base_uri": "https://localhost:8080/"
    },
    "executionInfo": {
     "elapsed": 5,
     "status": "ok",
     "timestamp": 1669713227002,
     "user": {
      "displayName": "Rajat Sharma",
      "userId": "18154528103335713431"
     },
     "user_tz": -330
    },
    "id": "6CMw9qWiHfrV",
    "outputId": "24cec679-5576-4366-b10e-89a8c90c1c03"
   },
   "outputs": [
    {
     "data": {
      "text/plain": [
       "RowNumber          0\n",
       "CustomerId         0\n",
       "Surname            0\n",
       "CreditScore        0\n",
       "Geography          0\n",
       "Gender             0\n",
       "Age                0\n",
       "Tenure             0\n",
       "Balance            0\n",
       "NumOfProducts      0\n",
       "HasCrCard          0\n",
       "IsActiveMember     0\n",
       "EstimatedSalary    0\n",
       "Exited             0\n",
       "dtype: int64"
      ]
     },
     "execution_count": 3,
     "metadata": {},
     "output_type": "execute_result"
    }
   ],
   "source": [
    "# Let's check missing values\n",
    "df.isnull().sum()"
   ]
  },
  {
   "cell_type": "markdown",
   "metadata": {
    "id": "rvcndPmCHfrV"
   },
   "source": [
    "Column name 'RowNumber','CustomerID' and 'Surname' are of no use.\n",
    "\n",
    "So we remove them."
   ]
  },
  {
   "cell_type": "code",
   "execution_count": 4,
   "metadata": {
    "executionInfo": {
     "elapsed": 4,
     "status": "ok",
     "timestamp": 1669713229370,
     "user": {
      "displayName": "Rajat Sharma",
      "userId": "18154528103335713431"
     },
     "user_tz": -330
    },
    "id": "0wzVZIcZHfrW"
   },
   "outputs": [],
   "source": [
    "df = df.drop([\"Age\",\"RowNumber\", \"CustomerId\", \"Surname\"], axis = 1)"
   ]
  },
  {
   "cell_type": "code",
   "execution_count": 5,
   "metadata": {
    "id": "T8A4ktZGHfrW",
    "outputId": "b35815ba-9298-40d1-9473-16c4518cce90"
   },
   "outputs": [
    {
     "data": {
      "text/html": [
       "<div>\n",
       "<style scoped>\n",
       "    .dataframe tbody tr th:only-of-type {\n",
       "        vertical-align: middle;\n",
       "    }\n",
       "\n",
       "    .dataframe tbody tr th {\n",
       "        vertical-align: top;\n",
       "    }\n",
       "\n",
       "    .dataframe thead th {\n",
       "        text-align: right;\n",
       "    }\n",
       "</style>\n",
       "<table border=\"1\" class=\"dataframe\">\n",
       "  <thead>\n",
       "    <tr style=\"text-align: right;\">\n",
       "      <th></th>\n",
       "      <th>CreditScore</th>\n",
       "      <th>Geography</th>\n",
       "      <th>Gender</th>\n",
       "      <th>Tenure</th>\n",
       "      <th>Balance</th>\n",
       "      <th>NumOfProducts</th>\n",
       "      <th>HasCrCard</th>\n",
       "      <th>IsActiveMember</th>\n",
       "      <th>EstimatedSalary</th>\n",
       "      <th>Exited</th>\n",
       "    </tr>\n",
       "  </thead>\n",
       "  <tbody>\n",
       "    <tr>\n",
       "      <th>0</th>\n",
       "      <td>619</td>\n",
       "      <td>France</td>\n",
       "      <td>Female</td>\n",
       "      <td>2</td>\n",
       "      <td>0.00</td>\n",
       "      <td>1</td>\n",
       "      <td>1</td>\n",
       "      <td>1</td>\n",
       "      <td>101348.88</td>\n",
       "      <td>1</td>\n",
       "    </tr>\n",
       "    <tr>\n",
       "      <th>1</th>\n",
       "      <td>608</td>\n",
       "      <td>Spain</td>\n",
       "      <td>Female</td>\n",
       "      <td>1</td>\n",
       "      <td>83807.86</td>\n",
       "      <td>1</td>\n",
       "      <td>0</td>\n",
       "      <td>1</td>\n",
       "      <td>112542.58</td>\n",
       "      <td>0</td>\n",
       "    </tr>\n",
       "    <tr>\n",
       "      <th>2</th>\n",
       "      <td>502</td>\n",
       "      <td>France</td>\n",
       "      <td>Female</td>\n",
       "      <td>8</td>\n",
       "      <td>159660.80</td>\n",
       "      <td>3</td>\n",
       "      <td>1</td>\n",
       "      <td>0</td>\n",
       "      <td>113931.57</td>\n",
       "      <td>1</td>\n",
       "    </tr>\n",
       "    <tr>\n",
       "      <th>3</th>\n",
       "      <td>699</td>\n",
       "      <td>France</td>\n",
       "      <td>Female</td>\n",
       "      <td>1</td>\n",
       "      <td>0.00</td>\n",
       "      <td>2</td>\n",
       "      <td>0</td>\n",
       "      <td>0</td>\n",
       "      <td>93826.63</td>\n",
       "      <td>0</td>\n",
       "    </tr>\n",
       "    <tr>\n",
       "      <th>4</th>\n",
       "      <td>850</td>\n",
       "      <td>Spain</td>\n",
       "      <td>Female</td>\n",
       "      <td>2</td>\n",
       "      <td>125510.82</td>\n",
       "      <td>1</td>\n",
       "      <td>1</td>\n",
       "      <td>1</td>\n",
       "      <td>79084.10</td>\n",
       "      <td>0</td>\n",
       "    </tr>\n",
       "    <tr>\n",
       "      <th>5</th>\n",
       "      <td>645</td>\n",
       "      <td>Spain</td>\n",
       "      <td>Male</td>\n",
       "      <td>8</td>\n",
       "      <td>113755.78</td>\n",
       "      <td>2</td>\n",
       "      <td>1</td>\n",
       "      <td>0</td>\n",
       "      <td>149756.71</td>\n",
       "      <td>1</td>\n",
       "    </tr>\n",
       "    <tr>\n",
       "      <th>6</th>\n",
       "      <td>822</td>\n",
       "      <td>France</td>\n",
       "      <td>Male</td>\n",
       "      <td>7</td>\n",
       "      <td>0.00</td>\n",
       "      <td>2</td>\n",
       "      <td>1</td>\n",
       "      <td>1</td>\n",
       "      <td>10062.80</td>\n",
       "      <td>0</td>\n",
       "    </tr>\n",
       "    <tr>\n",
       "      <th>7</th>\n",
       "      <td>376</td>\n",
       "      <td>Germany</td>\n",
       "      <td>Female</td>\n",
       "      <td>4</td>\n",
       "      <td>115046.74</td>\n",
       "      <td>4</td>\n",
       "      <td>1</td>\n",
       "      <td>0</td>\n",
       "      <td>119346.88</td>\n",
       "      <td>1</td>\n",
       "    </tr>\n",
       "    <tr>\n",
       "      <th>8</th>\n",
       "      <td>501</td>\n",
       "      <td>France</td>\n",
       "      <td>Male</td>\n",
       "      <td>4</td>\n",
       "      <td>142051.07</td>\n",
       "      <td>2</td>\n",
       "      <td>0</td>\n",
       "      <td>1</td>\n",
       "      <td>74940.50</td>\n",
       "      <td>0</td>\n",
       "    </tr>\n",
       "    <tr>\n",
       "      <th>9</th>\n",
       "      <td>684</td>\n",
       "      <td>France</td>\n",
       "      <td>Male</td>\n",
       "      <td>2</td>\n",
       "      <td>134603.88</td>\n",
       "      <td>1</td>\n",
       "      <td>1</td>\n",
       "      <td>1</td>\n",
       "      <td>71725.73</td>\n",
       "      <td>0</td>\n",
       "    </tr>\n",
       "  </tbody>\n",
       "</table>\n",
       "</div>"
      ],
      "text/plain": [
       "   CreditScore Geography  Gender  Tenure    Balance  NumOfProducts  HasCrCard  \\\n",
       "0          619    France  Female       2       0.00              1          1   \n",
       "1          608     Spain  Female       1   83807.86              1          0   \n",
       "2          502    France  Female       8  159660.80              3          1   \n",
       "3          699    France  Female       1       0.00              2          0   \n",
       "4          850     Spain  Female       2  125510.82              1          1   \n",
       "5          645     Spain    Male       8  113755.78              2          1   \n",
       "6          822    France    Male       7       0.00              2          1   \n",
       "7          376   Germany  Female       4  115046.74              4          1   \n",
       "8          501    France    Male       4  142051.07              2          0   \n",
       "9          684    France    Male       2  134603.88              1          1   \n",
       "\n",
       "   IsActiveMember  EstimatedSalary  Exited  \n",
       "0               1        101348.88       1  \n",
       "1               1        112542.58       0  \n",
       "2               0        113931.57       1  \n",
       "3               0         93826.63       0  \n",
       "4               1         79084.10       0  \n",
       "5               0        149756.71       1  \n",
       "6               1         10062.80       0  \n",
       "7               0        119346.88       1  \n",
       "8               1         74940.50       0  \n",
       "9               1         71725.73       0  "
      ]
     },
     "execution_count": 5,
     "metadata": {},
     "output_type": "execute_result"
    }
   ],
   "source": [
    "df.head(10)"
   ]
  },
  {
   "cell_type": "code",
   "execution_count": 6,
   "metadata": {
    "colab": {
     "base_uri": "https://localhost:8080/"
    },
    "executionInfo": {
     "elapsed": 2,
     "status": "ok",
     "timestamp": 1669704107009,
     "user": {
      "displayName": "Rajat Sharma",
      "userId": "18154528103335713431"
     },
     "user_tz": -330
    },
    "id": "PGtnCNBaHfrX",
    "outputId": "218434b6-c6f3-44e8-c518-e4fdea907c5b"
   },
   "outputs": [
    {
     "data": {
      "text/plain": [
       "Index(['CreditScore', 'Geography', 'Gender', 'Tenure', 'Balance',\n",
       "       'NumOfProducts', 'HasCrCard', 'IsActiveMember', 'EstimatedSalary',\n",
       "       'Exited'],\n",
       "      dtype='object')"
      ]
     },
     "execution_count": 6,
     "metadata": {},
     "output_type": "execute_result"
    }
   ],
   "source": [
    "df.columns"
   ]
  },
  {
   "cell_type": "markdown",
   "metadata": {
    "id": "7c2shfMt1kix"
   },
   "source": [
    "To give some context let us describe in words for each of the relevant variables what they represent:\n",
    "\n",
    "\n",
    "1. **Surname:** customer surname - categorical variable permitted to be a string of letters\n",
    "\n",
    "2. **CreditScore:** customer credit score - continuous numerical variable permitted to take values between 300 and 850\n",
    "\n",
    "3. **Geography:** country registered on customer accounts - categorical variable permitted to be the name of any country where BankCo has braches\n",
    "\n",
    "4. **Gender:** gender of customer - categorical variable pemitted to be one of two words, 'Male' or 'Female\n",
    "\n",
    "5. **Age:** age of customer - discrete numerical variable permitted to be any positive integer less than a reasonable limit on the age of a human being\n",
    "\n",
    "6. **Tenure:** number of years customer has been at BankCo - discrete numerical variable permitted to be any positive integer less than the age of the customer in question (or perhaps the age minus the minimum age to open an account)\n",
    "\n",
    "7. **Balance:** overall balance across accounts held by a customer - continuous numerical variable permitted to be any number positive or negative with absolute value less than some reasonable maximum account balance (lets say one billion)\n",
    "\n",
    "8. **NumOfProducts:** number of accounts/lines of credit registered to a customer - discrete numerical variable permitted to take any integer greater than 0 and less than some reasonable maximum number of accounts (lets say one thousand)\n",
    "\n",
    "9. **HasCrCard:** indication of whether a customer has a credit card or not - categorical variable permitted to take values 1 or 0\n",
    "\n",
    "10. **IsActiveMember:** indication of whether a customer is active or not - categorical variable permitted to take values 1 or 0\n",
    "\n",
    "11. **EstimatedSalary:** estimation of customer annual salary - continuous numerical variable permitted to be any positive number less than some reasonable maximum salary (lets say one billion)\n",
    "\n",
    "12. **Exited:** indication of whether a customer has churned or not - categorical variable permitted to take values 1 or 0"
   ]
  },
  {
   "cell_type": "markdown",
   "metadata": {
    "id": "FZMVKx2uHfrX"
   },
   "source": [
    "# Exploratory Data Analysis"
   ]
  },
  {
   "cell_type": "code",
   "execution_count": 8,
   "metadata": {
    "id": "pkTRFpUuHfrY"
   },
   "outputs": [
    {
     "data": {
      "image/png": "[encoded data removed]",
      "text/plain": [
       "<Figure size 1440x864 with 4 Axes>"
      ]
     },
     "metadata": {
      "needs_background": "light"
     },
     "output_type": "display_data"
    }
   ],
   "source": [
    "fig, axarr = plt.subplots(2, 2, figsize=(20, 12))\n",
    "sns.countplot(x='Geography', hue = 'Exited',data = df, ax=axarr[0][0])\n",
    "sns.countplot(x='Gender', hue = 'Exited',data = df, ax=axarr[0][1])\n",
    "sns.countplot(x='HasCrCard', hue = 'Exited',data = df, ax=axarr[1][0])\n",
    "sns.countplot(x='IsActiveMember', hue = 'Exited',data = df, ax=axarr[1][1]);"
   ]
  },
  {
   "cell_type": "markdown",
   "metadata": {
    "id": "oQSh1-h6HfrY"
   },
   "source": [
    "### Conclusions -\n",
    "\n",
    "1. Number of customers exited is inversely proportion the the number of customers in the region. Eg. Germany has least number of customers but has highest rate of customers exit. This may be because enough resources was not alloted for the customers (in other words comparatively poor service the the customers compared to its competitors).\n",
    "\n",
    "2. Proportion of female customers exiting the service is higher than that of male customers.\n",
    "\n",
    "3. Inactive users have high chance of exiting the service compared to active users."
   ]
  },
  {
   "cell_type": "code",
   "execution_count": 7,
   "metadata": {
    "colab": {
     "base_uri": "https://localhost:8080/"
    },
    "executionInfo": {
     "elapsed": 6,
     "status": "ok",
     "timestamp": 1669713233249,
     "user": {
      "displayName": "Rajat Sharma",
      "userId": "18154528103335713431"
     },
     "user_tz": -330
    },
    "id": "7tqOTiGEcpTi",
    "outputId": "f50b944d-9b4e-4226-db68-d11da92e424f"
   },
   "outputs": [
    {
     "data": {
      "text/plain": [
       "0    7963\n",
       "1    2037\n",
       "Name: Exited, dtype: int64"
      ]
     },
     "execution_count": 7,
     "metadata": {},
     "output_type": "execute_result"
    }
   ],
   "source": [
    "df['Exited'].value_counts()"
   ]
  },
  {
   "cell_type": "markdown",
   "metadata": {
    "id": "v3Gm-q7eHfrZ"
   },
   "source": [
    "# Feature Engineering"
   ]
  },
  {
   "cell_type": "code",
   "execution_count": 8,
   "metadata": {
    "executionInfo": {
     "elapsed": 6,
     "status": "ok",
     "timestamp": 1669713237791,
     "user": {
      "displayName": "Rajat Sharma",
      "userId": "18154528103335713431"
     },
     "user_tz": -330
    },
    "id": "1RgsaIHtHfrZ"
   },
   "outputs": [],
   "source": [
    "# Divide the dataset into dependent and independent features\n",
    "X = df.iloc[:,:-1]   # Independent features\n",
    "y = df.iloc[:,-1]     # Dependent features"
   ]
  },
  {
   "cell_type": "code",
   "execution_count": 9,
   "metadata": {
    "colab": {
     "base_uri": "https://localhost:8080/",
     "height": 424
    },
    "executionInfo": {
     "elapsed": 9,
     "status": "ok",
     "timestamp": 1669713238612,
     "user": {
      "displayName": "Rajat Sharma",
      "userId": "18154528103335713431"
     },
     "user_tz": -330
    },
    "id": "cO8EPVz8Hfra",
    "outputId": "4bf32506-2e9f-4835-a2c4-f4bd0228c50e"
   },
   "outputs": [
    {
     "data": {
      "text/html": [
       "<div>\n",
       "<style scoped>\n",
       "    .dataframe tbody tr th:only-of-type {\n",
       "        vertical-align: middle;\n",
       "    }\n",
       "\n",
       "    .dataframe tbody tr th {\n",
       "        vertical-align: top;\n",
       "    }\n",
       "\n",
       "    .dataframe thead th {\n",
       "        text-align: right;\n",
       "    }\n",
       "</style>\n",
       "<table border=\"1\" class=\"dataframe\">\n",
       "  <thead>\n",
       "    <tr style=\"text-align: right;\">\n",
       "      <th></th>\n",
       "      <th>CreditScore</th>\n",
       "      <th>Geography</th>\n",
       "      <th>Gender</th>\n",
       "      <th>Tenure</th>\n",
       "      <th>Balance</th>\n",
       "      <th>NumOfProducts</th>\n",
       "      <th>HasCrCard</th>\n",
       "      <th>IsActiveMember</th>\n",
       "      <th>EstimatedSalary</th>\n",
       "    </tr>\n",
       "  </thead>\n",
       "  <tbody>\n",
       "    <tr>\n",
       "      <th>0</th>\n",
       "      <td>619</td>\n",
       "      <td>France</td>\n",
       "      <td>Female</td>\n",
       "      <td>2</td>\n",
       "      <td>0.00</td>\n",
       "      <td>1</td>\n",
       "      <td>1</td>\n",
       "      <td>1</td>\n",
       "      <td>101348.88</td>\n",
       "    </tr>\n",
       "    <tr>\n",
       "      <th>1</th>\n",
       "      <td>608</td>\n",
       "      <td>Spain</td>\n",
       "      <td>Female</td>\n",
       "      <td>1</td>\n",
       "      <td>83807.86</td>\n",
       "      <td>1</td>\n",
       "      <td>0</td>\n",
       "      <td>1</td>\n",
       "      <td>112542.58</td>\n",
       "    </tr>\n",
       "    <tr>\n",
       "      <th>2</th>\n",
       "      <td>502</td>\n",
       "      <td>France</td>\n",
       "      <td>Female</td>\n",
       "      <td>8</td>\n",
       "      <td>159660.80</td>\n",
       "      <td>3</td>\n",
       "      <td>1</td>\n",
       "      <td>0</td>\n",
       "      <td>113931.57</td>\n",
       "    </tr>\n",
       "    <tr>\n",
       "      <th>3</th>\n",
       "      <td>699</td>\n",
       "      <td>France</td>\n",
       "      <td>Female</td>\n",
       "      <td>1</td>\n",
       "      <td>0.00</td>\n",
       "      <td>2</td>\n",
       "      <td>0</td>\n",
       "      <td>0</td>\n",
       "      <td>93826.63</td>\n",
       "    </tr>\n",
       "    <tr>\n",
       "      <th>4</th>\n",
       "      <td>850</td>\n",
       "      <td>Spain</td>\n",
       "      <td>Female</td>\n",
       "      <td>2</td>\n",
       "      <td>125510.82</td>\n",
       "      <td>1</td>\n",
       "      <td>1</td>\n",
       "      <td>1</td>\n",
       "      <td>79084.10</td>\n",
       "    </tr>\n",
       "    <tr>\n",
       "      <th>...</th>\n",
       "      <td>...</td>\n",
       "      <td>...</td>\n",
       "      <td>...</td>\n",
       "      <td>...</td>\n",
       "      <td>...</td>\n",
       "      <td>...</td>\n",
       "      <td>...</td>\n",
       "      <td>...</td>\n",
       "      <td>...</td>\n",
       "    </tr>\n",
       "    <tr>\n",
       "      <th>9995</th>\n",
       "      <td>771</td>\n",
       "      <td>France</td>\n",
       "      <td>Male</td>\n",
       "      <td>5</td>\n",
       "      <td>0.00</td>\n",
       "      <td>2</td>\n",
       "      <td>1</td>\n",
       "      <td>0</td>\n",
       "      <td>96270.64</td>\n",
       "    </tr>\n",
       "    <tr>\n",
       "      <th>9996</th>\n",
       "      <td>516</td>\n",
       "      <td>France</td>\n",
       "      <td>Male</td>\n",
       "      <td>10</td>\n",
       "      <td>57369.61</td>\n",
       "      <td>1</td>\n",
       "      <td>1</td>\n",
       "      <td>1</td>\n",
       "      <td>101699.77</td>\n",
       "    </tr>\n",
       "    <tr>\n",
       "      <th>9997</th>\n",
       "      <td>709</td>\n",
       "      <td>France</td>\n",
       "      <td>Female</td>\n",
       "      <td>7</td>\n",
       "      <td>0.00</td>\n",
       "      <td>1</td>\n",
       "      <td>0</td>\n",
       "      <td>1</td>\n",
       "      <td>42085.58</td>\n",
       "    </tr>\n",
       "    <tr>\n",
       "      <th>9998</th>\n",
       "      <td>772</td>\n",
       "      <td>Germany</td>\n",
       "      <td>Male</td>\n",
       "      <td>3</td>\n",
       "      <td>75075.31</td>\n",
       "      <td>2</td>\n",
       "      <td>1</td>\n",
       "      <td>0</td>\n",
       "      <td>92888.52</td>\n",
       "    </tr>\n",
       "    <tr>\n",
       "      <th>9999</th>\n",
       "      <td>792</td>\n",
       "      <td>France</td>\n",
       "      <td>Female</td>\n",
       "      <td>4</td>\n",
       "      <td>130142.79</td>\n",
       "      <td>1</td>\n",
       "      <td>1</td>\n",
       "      <td>0</td>\n",
       "      <td>38190.78</td>\n",
       "    </tr>\n",
       "  </tbody>\n",
       "</table>\n",
       "<p>10000 rows × 9 columns</p>\n",
       "</div>"
      ],
      "text/plain": [
       "      CreditScore Geography  Gender  Tenure    Balance  NumOfProducts  \\\n",
       "0             619    France  Female       2       0.00              1   \n",
       "1             608     Spain  Female       1   83807.86              1   \n",
       "2             502    France  Female       8  159660.80              3   \n",
       "3             699    France  Female       1       0.00              2   \n",
       "4             850     Spain  Female       2  125510.82              1   \n",
       "...           ...       ...     ...     ...        ...            ...   \n",
       "9995          771    France    Male       5       0.00              2   \n",
       "9996          516    France    Male      10   57369.61              1   \n",
       "9997          709    France  Female       7       0.00              1   \n",
       "9998          772   Germany    Male       3   75075.31              2   \n",
       "9999          792    France  Female       4  130142.79              1   \n",
       "\n",
       "      HasCrCard  IsActiveMember  EstimatedSalary  \n",
       "0             1               1        101348.88  \n",
       "1             0               1        112542.58  \n",
       "2             1               0        113931.57  \n",
       "3             0               0         93826.63  \n",
       "4             1               1         79084.10  \n",
       "...         ...             ...              ...  \n",
       "9995          1               0         96270.64  \n",
       "9996          1               1        101699.77  \n",
       "9997          0               1         42085.58  \n",
       "9998          1               0         92888.52  \n",
       "9999          1               0         38190.78  \n",
       "\n",
       "[10000 rows x 9 columns]"
      ]
     },
     "execution_count": 9,
     "metadata": {},
     "output_type": "execute_result"
    }
   ],
   "source": [
    "X"
   ]
  },
  {
   "cell_type": "code",
   "execution_count": 10,
   "metadata": {
    "colab": {
     "base_uri": "https://localhost:8080/"
    },
    "executionInfo": {
     "elapsed": 615,
     "status": "ok",
     "timestamp": 1669713244609,
     "user": {
      "displayName": "Rajat Sharma",
      "userId": "18154528103335713431"
     },
     "user_tz": -330
    },
    "id": "Pgmv93FiHfra",
    "outputId": "b702df21-5617-4e38-b348-fdb8895a0b62"
   },
   "outputs": [
    {
     "data": {
      "text/plain": [
       "0       1\n",
       "1       0\n",
       "2       1\n",
       "3       0\n",
       "4       0\n",
       "       ..\n",
       "9995    0\n",
       "9996    0\n",
       "9997    1\n",
       "9998    1\n",
       "9999    0\n",
       "Name: Exited, Length: 10000, dtype: int64"
      ]
     },
     "execution_count": 10,
     "metadata": {},
     "output_type": "execute_result"
    }
   ],
   "source": [
    "y"
   ]
  },
  {
   "cell_type": "code",
   "execution_count": 11,
   "metadata": {
    "executionInfo": {
     "elapsed": 3,
     "status": "ok",
     "timestamp": 1669713246802,
     "user": {
      "displayName": "Rajat Sharma",
      "userId": "18154528103335713431"
     },
     "user_tz": -330
    },
    "id": "VhTlfxLxHfrb"
   },
   "outputs": [],
   "source": [
    "geography = pd.get_dummies(X['Geography'], drop_first = True)\n",
    "gender = pd.get_dummies(X['Gender'], drop_first = True)"
   ]
  },
  {
   "cell_type": "code",
   "execution_count": 12,
   "metadata": {
    "executionInfo": {
     "elapsed": 4,
     "status": "ok",
     "timestamp": 1669713247756,
     "user": {
      "displayName": "Rajat Sharma",
      "userId": "18154528103335713431"
     },
     "user_tz": -330
    },
    "id": "qY0_tE9fHfrb"
   },
   "outputs": [],
   "source": [
    "X = X.drop(['Geography', 'Gender'], axis = 1)"
   ]
  },
  {
   "cell_type": "code",
   "execution_count": 13,
   "metadata": {
    "executionInfo": {
     "elapsed": 3,
     "status": "ok",
     "timestamp": 1669713248428,
     "user": {
      "displayName": "Rajat Sharma",
      "userId": "18154528103335713431"
     },
     "user_tz": -330
    },
    "id": "krxZUhHHHfrb"
   },
   "outputs": [],
   "source": [
    "X = pd.concat([X,geography,gender], axis = 1)"
   ]
  },
  {
   "cell_type": "code",
   "execution_count": 14,
   "metadata": {
    "colab": {
     "base_uri": "https://localhost:8080/",
     "height": 424
    },
    "executionInfo": {
     "elapsed": 12,
     "status": "ok",
     "timestamp": 1669713252678,
     "user": {
      "displayName": "Rajat Sharma",
      "userId": "18154528103335713431"
     },
     "user_tz": -330
    },
    "id": "pPbr9SBPHfrb",
    "outputId": "bc48fe51-8b0d-447c-8e85-1e40547ae657"
   },
   "outputs": [
    {
     "data": {
      "text/html": [
       "<div>\n",
       "<style scoped>\n",
       "    .dataframe tbody tr th:only-of-type {\n",
       "        vertical-align: middle;\n",
       "    }\n",
       "\n",
       "    .dataframe tbody tr th {\n",
       "        vertical-align: top;\n",
       "    }\n",
       "\n",
       "    .dataframe thead th {\n",
       "        text-align: right;\n",
       "    }\n",
       "</style>\n",
       "<table border=\"1\" class=\"dataframe\">\n",
       "  <thead>\n",
       "    <tr style=\"text-align: right;\">\n",
       "      <th></th>\n",
       "      <th>CreditScore</th>\n",
       "      <th>Tenure</th>\n",
       "      <th>Balance</th>\n",
       "      <th>NumOfProducts</th>\n",
       "      <th>HasCrCard</th>\n",
       "      <th>IsActiveMember</th>\n",
       "      <th>EstimatedSalary</th>\n",
       "      <th>Germany</th>\n",
       "      <th>Spain</th>\n",
       "      <th>Male</th>\n",
       "    </tr>\n",
       "  </thead>\n",
       "  <tbody>\n",
       "    <tr>\n",
       "      <th>0</th>\n",
       "      <td>619</td>\n",
       "      <td>2</td>\n",
       "      <td>0.00</td>\n",
       "      <td>1</td>\n",
       "      <td>1</td>\n",
       "      <td>1</td>\n",
       "      <td>101348.88</td>\n",
       "      <td>0</td>\n",
       "      <td>0</td>\n",
       "      <td>0</td>\n",
       "    </tr>\n",
       "    <tr>\n",
       "      <th>1</th>\n",
       "      <td>608</td>\n",
       "      <td>1</td>\n",
       "      <td>83807.86</td>\n",
       "      <td>1</td>\n",
       "      <td>0</td>\n",
       "      <td>1</td>\n",
       "      <td>112542.58</td>\n",
       "      <td>0</td>\n",
       "      <td>1</td>\n",
       "      <td>0</td>\n",
       "    </tr>\n",
       "    <tr>\n",
       "      <th>2</th>\n",
       "      <td>502</td>\n",
       "      <td>8</td>\n",
       "      <td>159660.80</td>\n",
       "      <td>3</td>\n",
       "      <td>1</td>\n",
       "      <td>0</td>\n",
       "      <td>113931.57</td>\n",
       "      <td>0</td>\n",
       "      <td>0</td>\n",
       "      <td>0</td>\n",
       "    </tr>\n",
       "    <tr>\n",
       "      <th>3</th>\n",
       "      <td>699</td>\n",
       "      <td>1</td>\n",
       "      <td>0.00</td>\n",
       "      <td>2</td>\n",
       "      <td>0</td>\n",
       "      <td>0</td>\n",
       "      <td>93826.63</td>\n",
       "      <td>0</td>\n",
       "      <td>0</td>\n",
       "      <td>0</td>\n",
       "    </tr>\n",
       "    <tr>\n",
       "      <th>4</th>\n",
       "      <td>850</td>\n",
       "      <td>2</td>\n",
       "      <td>125510.82</td>\n",
       "      <td>1</td>\n",
       "      <td>1</td>\n",
       "      <td>1</td>\n",
       "      <td>79084.10</td>\n",
       "      <td>0</td>\n",
       "      <td>1</td>\n",
       "      <td>0</td>\n",
       "    </tr>\n",
       "    <tr>\n",
       "      <th>...</th>\n",
       "      <td>...</td>\n",
       "      <td>...</td>\n",
       "      <td>...</td>\n",
       "      <td>...</td>\n",
       "      <td>...</td>\n",
       "      <td>...</td>\n",
       "      <td>...</td>\n",
       "      <td>...</td>\n",
       "      <td>...</td>\n",
       "      <td>...</td>\n",
       "    </tr>\n",
       "    <tr>\n",
       "      <th>9995</th>\n",
       "      <td>771</td>\n",
       "      <td>5</td>\n",
       "      <td>0.00</td>\n",
       "      <td>2</td>\n",
       "      <td>1</td>\n",
       "      <td>0</td>\n",
       "      <td>96270.64</td>\n",
       "      <td>0</td>\n",
       "      <td>0</td>\n",
       "      <td>1</td>\n",
       "    </tr>\n",
       "    <tr>\n",
       "      <th>9996</th>\n",
       "      <td>516</td>\n",
       "      <td>10</td>\n",
       "      <td>57369.61</td>\n",
       "      <td>1</td>\n",
       "      <td>1</td>\n",
       "      <td>1</td>\n",
       "      <td>101699.77</td>\n",
       "      <td>0</td>\n",
       "      <td>0</td>\n",
       "      <td>1</td>\n",
       "    </tr>\n",
       "    <tr>\n",
       "      <th>9997</th>\n",
       "      <td>709</td>\n",
       "      <td>7</td>\n",
       "      <td>0.00</td>\n",
       "      <td>1</td>\n",
       "      <td>0</td>\n",
       "      <td>1</td>\n",
       "      <td>42085.58</td>\n",
       "      <td>0</td>\n",
       "      <td>0</td>\n",
       "      <td>0</td>\n",
       "    </tr>\n",
       "    <tr>\n",
       "      <th>9998</th>\n",
       "      <td>772</td>\n",
       "      <td>3</td>\n",
       "      <td>75075.31</td>\n",
       "      <td>2</td>\n",
       "      <td>1</td>\n",
       "      <td>0</td>\n",
       "      <td>92888.52</td>\n",
       "      <td>1</td>\n",
       "      <td>0</td>\n",
       "      <td>1</td>\n",
       "    </tr>\n",
       "    <tr>\n",
       "      <th>9999</th>\n",
       "      <td>792</td>\n",
       "      <td>4</td>\n",
       "      <td>130142.79</td>\n",
       "      <td>1</td>\n",
       "      <td>1</td>\n",
       "      <td>0</td>\n",
       "      <td>38190.78</td>\n",
       "      <td>0</td>\n",
       "      <td>0</td>\n",
       "      <td>0</td>\n",
       "    </tr>\n",
       "  </tbody>\n",
       "</table>\n",
       "<p>10000 rows × 10 columns</p>\n",
       "</div>"
      ],
      "text/plain": [
       "      CreditScore  Tenure    Balance  NumOfProducts  HasCrCard  \\\n",
       "0             619       2       0.00              1          1   \n",
       "1             608       1   83807.86              1          0   \n",
       "2             502       8  159660.80              3          1   \n",
       "3             699       1       0.00              2          0   \n",
       "4             850       2  125510.82              1          1   \n",
       "...           ...     ...        ...            ...        ...   \n",
       "9995          771       5       0.00              2          1   \n",
       "9996          516      10   57369.61              1          1   \n",
       "9997          709       7       0.00              1          0   \n",
       "9998          772       3   75075.31              2          1   \n",
       "9999          792       4  130142.79              1          1   \n",
       "\n",
       "      IsActiveMember  EstimatedSalary  Germany  Spain  Male  \n",
       "0                  1        101348.88        0      0     0  \n",
       "1                  1        112542.58        0      1     0  \n",
       "2                  0        113931.57        0      0     0  \n",
       "3                  0         93826.63        0      0     0  \n",
       "4                  1         79084.10        0      1     0  \n",
       "...              ...              ...      ...    ...   ...  \n",
       "9995               0         96270.64        0      0     1  \n",
       "9996               1        101699.77        0      0     1  \n",
       "9997               1         42085.58        0      0     0  \n",
       "9998               0         92888.52        1      0     1  \n",
       "9999               0         38190.78        0      0     0  \n",
       "\n",
       "[10000 rows x 10 columns]"
      ]
     },
     "execution_count": 14,
     "metadata": {},
     "output_type": "execute_result"
    }
   ],
   "source": [
    "X"
   ]
  },
  {
   "cell_type": "code",
   "execution_count": 15,
   "metadata": {
    "executionInfo": {
     "elapsed": 1225,
     "status": "ok",
     "timestamp": 1669713259662,
     "user": {
      "displayName": "Rajat Sharma",
      "userId": "18154528103335713431"
     },
     "user_tz": -330
    },
    "id": "1ZHGiXZEHfrc"
   },
   "outputs": [],
   "source": [
    "# Split the dataset in traning set and test set\n",
    "from sklearn.model_selection import train_test_split"
   ]
  },
  {
   "cell_type": "code",
   "execution_count": 16,
   "metadata": {
    "executionInfo": {
     "elapsed": 626,
     "status": "ok",
     "timestamp": 1669713968993,
     "user": {
      "displayName": "Rajat Sharma",
      "userId": "18154528103335713431"
     },
     "user_tz": -330
    },
    "id": "5Tk6TR2tHfrc"
   },
   "outputs": [],
   "source": [
    "X_train, X_test, y_train, y_test = train_test_split(X,y, test_size = 0.2, random_state = 0)"
   ]
  },
  {
   "cell_type": "code",
   "execution_count": 17,
   "metadata": {
    "colab": {
     "base_uri": "https://localhost:8080/"
    },
    "executionInfo": {
     "elapsed": 6,
     "status": "ok",
     "timestamp": 1669713262692,
     "user": {
      "displayName": "Rajat Sharma",
      "userId": "18154528103335713431"
     },
     "user_tz": -330
    },
    "id": "VUcxtUtbkY95",
    "outputId": "30bc8fa3-4b2c-44ba-a76a-62201faaed1a"
   },
   "outputs": [
    {
     "name": "stdout",
     "output_type": "stream",
     "text": [
      "No  =  6368\n",
      "Yes =  1632\n"
     ]
    }
   ],
   "source": [
    "print('No  = ',list(y_train).count(0))\n",
    "print('Yes = ',list(y_train).count(1))"
   ]
  },
  {
   "cell_type": "markdown",
   "metadata": {
    "id": "FkXzLiXDcr2h"
   },
   "source": [
    "True and false ratio of observation column ('Exited') is around 80:20 which means that the data is imbalanced and our model may not be able to predict the true cases.\n",
    "\n",
    "Now, we try to balance the imbalanced data using following methods:\n",
    "1. RandomUnderSampler\n",
    "2. SMOTE"
   ]
  },
  {
   "cell_type": "markdown",
   "metadata": {},
   "source": [
    "## 1. RandomUnderSampler"
   ]
  },
  {
   "cell_type": "code",
   "execution_count": 18,
   "metadata": {
    "colab": {
     "base_uri": "https://localhost:8080/"
    },
    "executionInfo": {
     "elapsed": 4812,
     "status": "ok",
     "timestamp": 1669713349783,
     "user": {
      "displayName": "Rajat Sharma",
      "userId": "18154528103335713431"
     },
     "user_tz": -330
    },
    "id": "VThuT06Rq0Ik",
    "outputId": "11fea59c-456e-431f-f667-f0e547d1bfcc"
   },
   "outputs": [],
   "source": [
    "!pip install imbalanced-learn imblearn --quiet"
   ]
  },
  {
   "cell_type": "code",
   "execution_count": 19,
   "metadata": {
    "executionInfo": {
     "elapsed": 6,
     "status": "ok",
     "timestamp": 1669713417364,
     "user": {
      "displayName": "Rajat Sharma",
      "userId": "18154528103335713431"
     },
     "user_tz": -330
    },
    "id": "Yl7Ex9D9q0Sk"
   },
   "outputs": [],
   "source": [
    "from sklearn.metrics import DistanceMetric\n",
    "from imblearn.under_sampling import RandomUnderSampler"
   ]
  },
  {
   "cell_type": "code",
   "execution_count": 20,
   "metadata": {
    "executionInfo": {
     "elapsed": 6,
     "status": "ok",
     "timestamp": 1669714178086,
     "user": {
      "displayName": "Rajat Sharma",
      "userId": "18154528103335713431"
     },
     "user_tz": -330
    },
    "id": "np6GijEQq0Yp"
   },
   "outputs": [],
   "source": [
    "undersample = RandomUnderSampler(sampling_strategy=0.5, random_state=42)"
   ]
  },
  {
   "cell_type": "code",
   "execution_count": 37,
   "metadata": {
    "colab": {
     "base_uri": "https://localhost:8080/",
     "height": 311
    },
    "executionInfo": {
     "elapsed": 12,
     "status": "error",
     "timestamp": 1669714181188,
     "user": {
      "displayName": "Rajat Sharma",
      "userId": "18154528103335713431"
     },
     "user_tz": -330
    },
    "id": "S8Y1ziBtq0ey",
    "outputId": "5861e9b6-7ef9-4da0-96be-f550c50a1c12"
   },
   "outputs": [],
   "source": [
    "X_train_1,y_train_1 = undersample.fit_resample(X_train,y_train)"
   ]
  },
  {
   "cell_type": "code",
   "execution_count": 38,
   "metadata": {
    "colab": {
     "base_uri": "https://localhost:8080/"
    },
    "executionInfo": {
     "elapsed": 613,
     "status": "ok",
     "timestamp": 1669714152476,
     "user": {
      "displayName": "Rajat Sharma",
      "userId": "18154528103335713431"
     },
     "user_tz": -330
    },
    "id": "ztzJsj5ct1Go",
    "outputId": "3dad343c-0169-4340-9f15-3faaa089a558"
   },
   "outputs": [
    {
     "name": "stdout",
     "output_type": "stream",
     "text": [
      "No  =  3264\n",
      "Yes =  1632\n"
     ]
    }
   ],
   "source": [
    "print('No  = ',list(y_train_1).count(0))\n",
    "print('Yes = ',list(y_train_1).count(1))"
   ]
  },
  {
   "cell_type": "markdown",
   "metadata": {
    "id": "thJCs61OuRgB"
   },
   "source": [
    "The training dataset is now quite balanced and now we can use this dataset to train our model."
   ]
  },
  {
   "cell_type": "code",
   "execution_count": 23,
   "metadata": {
    "executionInfo": {
     "elapsed": 929,
     "status": "ok",
     "timestamp": 1669714272289,
     "user": {
      "displayName": "Rajat Sharma",
      "userId": "18154528103335713431"
     },
     "user_tz": -330
    },
    "id": "MX9VCGxPHfrc"
   },
   "outputs": [],
   "source": [
    "# Scaling the numerical features\n",
    "from sklearn.preprocessing import StandardScaler"
   ]
  },
  {
   "cell_type": "code",
   "execution_count": 24,
   "metadata": {
    "executionInfo": {
     "elapsed": 4,
     "status": "ok",
     "timestamp": 1669714274469,
     "user": {
      "displayName": "Rajat Sharma",
      "userId": "18154528103335713431"
     },
     "user_tz": -330
    },
    "id": "TzP_WMzuHfrd"
   },
   "outputs": [],
   "source": [
    "sc = StandardScaler()"
   ]
  },
  {
   "cell_type": "code",
   "execution_count": 25,
   "metadata": {
    "executionInfo": {
     "elapsed": 4,
     "status": "ok",
     "timestamp": 1669714276697,
     "user": {
      "displayName": "Rajat Sharma",
      "userId": "18154528103335713431"
     },
     "user_tz": -330
    },
    "id": "59XyYMn3Hfrd"
   },
   "outputs": [],
   "source": [
    "X_train_1 = sc.fit_transform(X_train)\n",
    "X_test_1 = sc.transform(X_test)"
   ]
  },
  {
   "cell_type": "code",
   "execution_count": 32,
   "metadata": {
    "colab": {
     "base_uri": "https://localhost:8080/"
    },
    "executionInfo": {
     "elapsed": 6,
     "status": "ok",
     "timestamp": 1669714278981,
     "user": {
      "displayName": "Rajat Sharma",
      "userId": "18154528103335713431"
     },
     "user_tz": -330
    },
    "id": "8eqZ7CYoHfrd",
    "outputId": "2bc43577-9889-42fb-ae30-4d94babf0c6f"
   },
   "outputs": [
    {
     "data": {
      "text/plain": [
       "array([[ 0.16958176,  0.00666099, -1.21571749, ..., -0.5698444 ,\n",
       "         1.74309049, -1.09168714],\n",
       "       [-2.30455945, -1.37744033, -0.00631193, ...,  1.75486502,\n",
       "        -0.57369368,  0.91601335],\n",
       "       [-1.19119591, -1.031415  ,  0.57993469, ..., -0.5698444 ,\n",
       "        -0.57369368, -1.09168714],\n",
       "       ...,\n",
       "       [ 0.9015152 ,  0.00666099,  1.36147352, ..., -0.5698444 ,\n",
       "        -0.57369368,  0.91601335],\n",
       "       [-0.62420521,  1.39076231, -1.21571749, ..., -0.5698444 ,\n",
       "         1.74309049, -1.09168714],\n",
       "       [-0.28401079, -1.37744033,  0.5113635 , ...,  1.75486502,\n",
       "        -0.57369368, -1.09168714]])"
      ]
     },
     "execution_count": 32,
     "metadata": {},
     "output_type": "execute_result"
    }
   ],
   "source": [
    "X_train_1"
   ]
  },
  {
   "cell_type": "markdown",
   "metadata": {
    "id": "ArobD3izHfre"
   },
   "source": [
    "### Model training\n",
    "\n",
    "    1. RandomForestClassifier\n",
    "    2. XGBClassifier"
   ]
  },
  {
   "cell_type": "code",
   "execution_count": 27,
   "metadata": {
    "executionInfo": {
     "elapsed": 4,
     "status": "ok",
     "timestamp": 1669714283616,
     "user": {
      "displayName": "Rajat Sharma",
      "userId": "18154528103335713431"
     },
     "user_tz": -330
    },
    "id": "IU6vddMYHfre"
   },
   "outputs": [],
   "source": [
    "from sklearn.model_selection import GridSearchCV\n",
    "from sklearn.metrics import accuracy_score\n",
    "from sklearn.metrics import classification_report"
   ]
  },
  {
   "cell_type": "code",
   "execution_count": 28,
   "metadata": {
    "executionInfo": {
     "elapsed": 4,
     "status": "ok",
     "timestamp": 1669714286627,
     "user": {
      "displayName": "Rajat Sharma",
      "userId": "18154528103335713431"
     },
     "user_tz": -330
    },
    "id": "ddYdoBBPHfrf"
   },
   "outputs": [],
   "source": [
    "# Function to give best model score and parameters\n",
    "def best_model(model):\n",
    "    print(model.best_score_)    \n",
    "    print(model.best_params_)\n",
    "    print(model.best_estimator_)"
   ]
  },
  {
   "cell_type": "markdown",
   "metadata": {
    "id": "fB75KuSFHfri"
   },
   "source": [
    "#### Random forest classifier"
   ]
  },
  {
   "cell_type": "code",
   "execution_count": 51,
   "metadata": {
    "executionInfo": {
     "elapsed": 567,
     "status": "ok",
     "timestamp": 1669715004389,
     "user": {
      "displayName": "Rajat Sharma",
      "userId": "18154528103335713431"
     },
     "user_tz": -330
    },
    "id": "ky4tVTzGHfri"
   },
   "outputs": [],
   "source": [
    "from sklearn.ensemble import RandomForestClassifier"
   ]
  },
  {
   "cell_type": "code",
   "execution_count": 52,
   "metadata": {
    "colab": {
     "base_uri": "https://localhost:8080/"
    },
    "executionInfo": {
     "elapsed": 513895,
     "status": "ok",
     "timestamp": 1669715520531,
     "user": {
      "displayName": "Rajat Sharma",
      "userId": "18154528103335713431"
     },
     "user_tz": -330
    },
    "id": "Y-eYQdFLHfri",
    "outputId": "0fe07110-87bc-4424-a327-a276003c4574"
   },
   "outputs": [
    {
     "name": "stdout",
     "output_type": "stream",
     "text": [
      "0.8313750000000001\n",
      "{'max_depth': 7, 'max_features': 8, 'min_samples_split': 3, 'n_estimators': 100}\n",
      "RandomForestClassifier(max_depth=7, max_features=8, min_samples_split=3)\n"
     ]
    }
   ],
   "source": [
    "param_grid = {'max_depth': [3, 5, 6, 7, 8], 'max_features': [2,4,6,7,8,9],'n_estimators':[50,100],'min_samples_split': [3, 5, 6, 7]}\n",
    "RandFor_grid = GridSearchCV(RandomForestClassifier(), param_grid, cv=5, refit=True, verbose=0)\n",
    "RandFor_grid.fit(X_train_1,y_train_1)\n",
    "best_model(RandFor_grid)"
   ]
  },
  {
   "cell_type": "code",
   "execution_count": 53,
   "metadata": {
    "executionInfo": {
     "elapsed": 627,
     "status": "ok",
     "timestamp": 1669715724210,
     "user": {
      "displayName": "Rajat Sharma",
      "userId": "18154528103335713431"
     },
     "user_tz": -330
    },
    "id": "-P2aBGq5zuPR"
   },
   "outputs": [],
   "source": [
    "y_pred_rf = RandFor_grid.predict(X_test)\n",
    "y_pred_rf = (y_pred_rf >= 0.5)"
   ]
  },
  {
   "cell_type": "code",
   "execution_count": 54,
   "metadata": {
    "colab": {
     "base_uri": "https://localhost:8080/"
    },
    "executionInfo": {
     "elapsed": 552,
     "status": "ok",
     "timestamp": 1669715759362,
     "user": {
      "displayName": "Rajat Sharma",
      "userId": "18154528103335713431"
     },
     "user_tz": -330
    },
    "id": "4SgF9HP7zukP",
    "outputId": "93bbe067-a700-46b0-e20c-c83d1610bf4b"
   },
   "outputs": [
    {
     "data": {
      "text/plain": [
       "array([[1510,   85],\n",
       "       [ 249,  156]])"
      ]
     },
     "execution_count": 54,
     "metadata": {},
     "output_type": "execute_result"
    }
   ],
   "source": [
    "cf_rf = confusion_matrix(y_test,y_pred_rf)\n",
    "cf_rf"
   ]
  },
  {
   "cell_type": "code",
   "execution_count": 55,
   "metadata": {
    "colab": {
     "base_uri": "https://localhost:8080/"
    },
    "executionInfo": {
     "elapsed": 9,
     "status": "ok",
     "timestamp": 1669715780943,
     "user": {
      "displayName": "Rajat Sharma",
      "userId": "18154528103335713431"
     },
     "user_tz": -330
    },
    "id": "rpngeWf-zu2I",
    "outputId": "8f59e570-c97b-437e-dffb-ccfd9c6429df"
   },
   "outputs": [
    {
     "name": "stdout",
     "output_type": "stream",
     "text": [
      "              precision    recall  f1-score   support\n",
      "\n",
      "           0       0.86      0.95      0.90      1595\n",
      "           1       0.65      0.39      0.48       405\n",
      "\n",
      "    accuracy                           0.83      2000\n",
      "   macro avg       0.75      0.67      0.69      2000\n",
      "weighted avg       0.82      0.83      0.82      2000\n",
      "\n"
     ]
    }
   ],
   "source": [
    "print(classification_report(y_test, y_pred_rf))"
   ]
  },
  {
   "cell_type": "markdown",
   "metadata": {
    "id": "sLsEyr-oHfri"
   },
   "source": [
    "#### XGBoost classifier"
   ]
  },
  {
   "cell_type": "code",
   "execution_count": 56,
   "metadata": {
    "executionInfo": {
     "elapsed": 721,
     "status": "ok",
     "timestamp": 1669714347969,
     "user": {
      "displayName": "Rajat Sharma",
      "userId": "18154528103335713431"
     },
     "user_tz": -330
    },
    "id": "7-3SGo8YHfri"
   },
   "outputs": [],
   "source": [
    "from xgboost import XGBClassifier"
   ]
  },
  {
   "cell_type": "code",
   "execution_count": 58,
   "metadata": {
    "colab": {
     "base_uri": "https://localhost:8080/"
    },
    "executionInfo": {
     "elapsed": 467007,
     "status": "ok",
     "timestamp": 1669719125595,
     "user": {
      "displayName": "Rajat Sharma",
      "userId": "18154528103335713431"
     },
     "user_tz": -330
    },
    "id": "EpV980R7Hfri",
    "outputId": "8d2e3fb1-70a3-40af-a23a-cdcdeb4760a1"
   },
   "outputs": [
    {
     "name": "stdout",
     "output_type": "stream",
     "text": [
      "0.765318421546351\n",
      "{'gamma': 0.01, 'learning_rate': 0.05, 'max_depth': 6, 'min_child_weight': 1, 'n_estimators': 100}\n",
      "XGBClassifier(base_score=None, booster=None, callbacks=None,\n",
      "              colsample_bylevel=None, colsample_bynode=None,\n",
      "              colsample_bytree=None, early_stopping_rounds=None,\n",
      "              enable_categorical=False, eval_metric=None, feature_types=None,\n",
      "              gamma=0.01, gpu_id=None, grow_policy=None, importance_type=None,\n",
      "              interaction_constraints=None, learning_rate=0.05, max_bin=None,\n",
      "              max_cat_threshold=None, max_cat_to_onehot=None,\n",
      "              max_delta_step=None, max_depth=6, max_leaves=None,\n",
      "              min_child_weight=1, missing=nan, monotone_constraints=None,\n",
      "              n_estimators=100, n_jobs=None, num_parallel_tree=None,\n",
      "              predictor=None, random_state=None, ...)\n"
     ]
    }
   ],
   "source": [
    "param_grid = {'max_depth': [5,6,7,8], 'gamma': [0.01,0.001,0.001],'min_child_weight':[1,5,10], 'learning_rate': [0.05,0.1, 0.2, 0.3], 'n_estimators':[5,10,20,100]}\n",
    "xgb_grid = GridSearchCV(XGBClassifier(), param_grid, cv=5, refit=True, verbose=0)\n",
    "xgb_grid.fit(X_train_1,y_train_1)\n",
    "best_model(xgb_grid)"
   ]
  },
  {
   "cell_type": "code",
   "execution_count": 59,
   "metadata": {
    "executionInfo": {
     "elapsed": 795,
     "status": "ok",
     "timestamp": 1669719131829,
     "user": {
      "displayName": "Rajat Sharma",
      "userId": "18154528103335713431"
     },
     "user_tz": -330
    },
    "id": "yq0zN8AySmsp"
   },
   "outputs": [],
   "source": [
    "y_pred_xgb = xgb_grid.predict(X_test)\n",
    "y_pred_xgb = (y_pred_xgb >= 0.5)"
   ]
  },
  {
   "cell_type": "code",
   "execution_count": 60,
   "metadata": {
    "colab": {
     "base_uri": "https://localhost:8080/",
     "height": 165
    },
    "executionInfo": {
     "elapsed": 440,
     "status": "error",
     "timestamp": 1669727473478,
     "user": {
      "displayName": "Rajat Sharma",
      "userId": "18154528103335713431"
     },
     "user_tz": -330
    },
    "id": "s74lUwlcSnaZ",
    "outputId": "426d6dd8-67d6-4b93-aff1-46d181c3caf4"
   },
   "outputs": [
    {
     "name": "stdout",
     "output_type": "stream",
     "text": [
      "              precision    recall  f1-score   support\n",
      "\n",
      "           0       0.88      0.88      0.88      1595\n",
      "           1       0.53      0.54      0.54       405\n",
      "\n",
      "    accuracy                           0.81      2000\n",
      "   macro avg       0.71      0.71      0.71      2000\n",
      "weighted avg       0.81      0.81      0.81      2000\n",
      "\n"
     ]
    }
   ],
   "source": [
    "print(classification_report(y_test, y_pred_xgb))"
   ]
  },
  {
   "cell_type": "code",
   "execution_count": 61,
   "metadata": {
    "colab": {
     "base_uri": "https://localhost:8080/"
    },
    "executionInfo": {
     "elapsed": 6,
     "status": "ok",
     "timestamp": 1669714842165,
     "user": {
      "displayName": "Rajat Sharma",
      "userId": "18154528103335713431"
     },
     "user_tz": -330
    },
    "id": "dZnDM54HVcS7",
    "outputId": "e28e6ae6-4044-4ac1-deba-053ae2581be4"
   },
   "outputs": [
    {
     "data": {
      "text/plain": [
       "array([[1403,  192],\n",
       "       [ 186,  219]])"
      ]
     },
     "execution_count": 61,
     "metadata": {},
     "output_type": "execute_result"
    }
   ],
   "source": [
    "cf_xgb = confusion_matrix(y_test,y_pred_xgb)\n",
    "cf_xgb"
   ]
  },
  {
   "cell_type": "markdown",
   "metadata": {},
   "source": [
    "Out of all models used above, XGBoost algorithm gave the best result.\n",
    "\n",
    "So, we will use XGBoost model in later parts."
   ]
  },
  {
   "cell_type": "markdown",
   "metadata": {},
   "source": [
    "## 2. SMOTE Technique"
   ]
  },
  {
   "cell_type": "code",
   "execution_count": 62,
   "metadata": {},
   "outputs": [],
   "source": [
    "from imblearn.over_sampling import SMOTE"
   ]
  },
  {
   "cell_type": "code",
   "execution_count": 64,
   "metadata": {},
   "outputs": [],
   "source": [
    "# Apply SMOTE to the training data\n",
    "smote = SMOTE(random_state=42)\n",
    "X_train_2, y_train_2 = smote.fit_resample(X_train, y_train)"
   ]
  },
  {
   "cell_type": "code",
   "execution_count": 67,
   "metadata": {},
   "outputs": [
    {
     "name": "stdout",
     "output_type": "stream",
     "text": [
      "No  =  6368\n",
      "Yes =  6368\n"
     ]
    }
   ],
   "source": [
    "print('No  = ',list(y_train_2).count(0))\n",
    "print('Yes = ',list(y_train_2).count(1))"
   ]
  },
  {
   "cell_type": "code",
   "execution_count": 95,
   "metadata": {},
   "outputs": [
    {
     "name": "stdout",
     "output_type": "stream",
     "text": [
      "0.8110162231060768\n",
      "{'gamma': 0.01, 'learning_rate': 0.3, 'max_depth': 6, 'min_child_weight': 5, 'n_estimators': 100}\n",
      "XGBClassifier(base_score=None, booster=None, callbacks=None,\n",
      "              colsample_bylevel=None, colsample_bynode=None,\n",
      "              colsample_bytree=None, early_stopping_rounds=None,\n",
      "              enable_categorical=False, eval_metric=None, feature_types=None,\n",
      "              gamma=0.01, gpu_id=None, grow_policy=None, importance_type=None,\n",
      "              interaction_constraints=None, learning_rate=0.3, max_bin=None,\n",
      "              max_cat_threshold=None, max_cat_to_onehot=None,\n",
      "              max_delta_step=None, max_depth=6, max_leaves=None,\n",
      "              min_child_weight=5, missing=nan, monotone_constraints=None,\n",
      "              n_estimators=100, n_jobs=None, num_parallel_tree=None,\n",
      "              predictor=None, random_state=None, ...)\n"
     ]
    }
   ],
   "source": [
    "param_grid = {'max_depth': [2,3,5,6], 'gamma': [0.01,0.001,0.001],'min_child_weight':[1,5,10], 'learning_rate': [0.05,0.1, 0.2, 0.3], 'n_estimators':[5,10,20,100]}\n",
    "xgb_grid_2 = GridSearchCV(XGBClassifier(), param_grid, cv=5, refit=True, verbose=0)\n",
    "xgb_grid_2.fit(X_train_2,y_train_2)\n",
    "best_model(xgb_grid_2)"
   ]
  },
  {
   "cell_type": "code",
   "execution_count": 99,
   "metadata": {},
   "outputs": [],
   "source": [
    "y_pred_xgb_2 = xgb_grid_2.predict(X_test)\n",
    "y_pred_xgb_2 = (y_pred_xgb_2 >= 0.5)"
   ]
  },
  {
   "cell_type": "code",
   "execution_count": 100,
   "metadata": {},
   "outputs": [
    {
     "name": "stdout",
     "output_type": "stream",
     "text": [
      "              precision    recall  f1-score   support\n",
      "\n",
      "           0       0.89      0.80      0.85      1595\n",
      "           1       0.44      0.61      0.51       405\n",
      "\n",
      "    accuracy                           0.77      2000\n",
      "   macro avg       0.67      0.71      0.68      2000\n",
      "weighted avg       0.80      0.77      0.78      2000\n",
      "\n"
     ]
    }
   ],
   "source": [
    "print(classification_report(y_test, y_pred_xgb_2))"
   ]
  },
  {
   "cell_type": "code",
   "execution_count": 101,
   "metadata": {},
   "outputs": [
    {
     "data": {
      "text/plain": [
       "array([[1282,  313],\n",
       "       [ 156,  249]])"
      ]
     },
     "execution_count": 101,
     "metadata": {},
     "output_type": "execute_result"
    }
   ],
   "source": [
    "cf_xgb_2 = confusion_matrix(y_test,y_pred_xgb_2)\n",
    "cf_xgb_2"
   ]
  },
  {
   "cell_type": "markdown",
   "metadata": {},
   "source": [
    "SMOTE technique has slightly improved the prediction of test dataset."
   ]
  },
  {
   "cell_type": "markdown",
   "metadata": {},
   "source": [
    "## AUPRC matrix\n",
    "\n",
    "Since the data is skewed (80:20), we use the area under the precision-recall curve (AUPRC) rather than the conventional area under the receiver operating characteristic (AUROC). AUPRC will “focus” on how the model handles the positive examples. If the model handles the positive examples well, AUPRC will be high. If the model does poorly on the positive examples, AUPRC will be low."
   ]
  },
  {
   "cell_type": "code",
   "execution_count": 170,
   "metadata": {},
   "outputs": [],
   "source": [
    "from sklearn.metrics import average_precision_score\n",
    "from sklearn.metrics import f1_score"
   ]
  },
  {
   "cell_type": "code",
   "execution_count": 178,
   "metadata": {},
   "outputs": [
    {
     "name": "stdout",
     "output_type": "stream",
     "text": [
      "[0]\tvalidation_0-aucpr:0.49441\n",
      "[1]\tvalidation_0-aucpr:0.53475\n",
      "[2]\tvalidation_0-aucpr:0.53516\n",
      "[3]\tvalidation_0-aucpr:0.55166\n",
      "[4]\tvalidation_0-aucpr:0.56262\n",
      "[5]\tvalidation_0-aucpr:0.55988\n",
      "[6]\tvalidation_0-aucpr:0.56244\n",
      "[7]\tvalidation_0-aucpr:0.56090\n",
      "[8]\tvalidation_0-aucpr:0.56063\n",
      "[9]\tvalidation_0-aucpr:0.56162\n",
      "[10]\tvalidation_0-aucpr:0.56317\n",
      "[11]\tvalidation_0-aucpr:0.56336\n",
      "[12]\tvalidation_0-aucpr:0.56301\n",
      "[13]\tvalidation_0-aucpr:0.56278\n",
      "[14]\tvalidation_0-aucpr:0.56057\n",
      "[15]\tvalidation_0-aucpr:0.55945\n",
      "[16]\tvalidation_0-aucpr:0.55817\n",
      "[17]\tvalidation_0-aucpr:0.55795\n",
      "[18]\tvalidation_0-aucpr:0.56170\n",
      "[19]\tvalidation_0-aucpr:0.55980\n",
      "[20]\tvalidation_0-aucpr:0.55975\n",
      "[21]\tvalidation_0-aucpr:0.56042\n",
      "[22]\tvalidation_0-aucpr:0.56110\n",
      "[23]\tvalidation_0-aucpr:0.56165\n",
      "[24]\tvalidation_0-aucpr:0.56117\n",
      "[25]\tvalidation_0-aucpr:0.57015\n",
      "[26]\tvalidation_0-aucpr:0.57450\n",
      "[27]\tvalidation_0-aucpr:0.57230\n",
      "[28]\tvalidation_0-aucpr:0.57125\n",
      "[29]\tvalidation_0-aucpr:0.57200\n",
      "[30]\tvalidation_0-aucpr:0.57308\n"
     ]
    },
    {
     "name": "stderr",
     "output_type": "stream",
     "text": [
      "/opt/conda/lib/python3.9/site-packages/xgboost/sklearn.py:835: UserWarning: `eval_metric` in `fit` method is deprecated for better compatibility with scikit-learn, use `eval_metric` in constructor or`set_params` instead.\n",
      "  warnings.warn(\n",
      "/opt/conda/lib/python3.9/site-packages/xgboost/sklearn.py:835: UserWarning: `early_stopping_rounds` in `fit` method is deprecated for better compatibility with scikit-learn, use `early_stopping_rounds` in constructor or`set_params` instead.\n",
      "  warnings.warn(\n"
     ]
    },
    {
     "name": "stdout",
     "output_type": "stream",
     "text": [
      "[31]\tvalidation_0-aucpr:0.57360\n",
      "[32]\tvalidation_0-aucpr:0.57286\n",
      "[33]\tvalidation_0-aucpr:0.57305\n",
      "[34]\tvalidation_0-aucpr:0.57264\n",
      "[35]\tvalidation_0-aucpr:0.57323\n",
      "[36]\tvalidation_0-aucpr:0.57357\n",
      "[37]\tvalidation_0-aucpr:0.57284\n",
      "[38]\tvalidation_0-aucpr:0.57111\n",
      "[39]\tvalidation_0-aucpr:0.57130\n",
      "[40]\tvalidation_0-aucpr:0.57080\n",
      "[41]\tvalidation_0-aucpr:0.57045\n",
      "[42]\tvalidation_0-aucpr:0.57077\n",
      "[43]\tvalidation_0-aucpr:0.56969\n",
      "[44]\tvalidation_0-aucpr:0.57025\n",
      "[45]\tvalidation_0-aucpr:0.56958\n",
      "AUPRC = 0.5749071489904858\n"
     ]
    }
   ],
   "source": [
    "weights = (y_train == 0).sum() / (1.0 * (y_train == 1).sum())\n",
    "model = XGBClassifier(max_depth = 3, scale_pos_weight = weights,\n",
    "                n_jobs = -1)\n",
    "probabilities = model.fit(X_train,y_train, eval_set=[(X_test, y_test)], eval_metric='aucpr', early_stopping_rounds=20).predict_proba(X_test)\n",
    "print('AUPRC = {}'.format(average_precision_score(y_test, probabilities[:, 1])))"
   ]
  },
  {
   "cell_type": "code",
   "execution_count": 179,
   "metadata": {},
   "outputs": [],
   "source": [
    "y_preds = model.predict(X_test)"
   ]
  },
  {
   "cell_type": "code",
   "execution_count": 180,
   "metadata": {},
   "outputs": [
    {
     "name": "stdout",
     "output_type": "stream",
     "text": [
      "              precision    recall  f1-score   support\n",
      "\n",
      "           0       0.92      0.74      0.82      1595\n",
      "           1       0.42      0.74      0.54       405\n",
      "\n",
      "    accuracy                           0.74      2000\n",
      "   macro avg       0.67      0.74      0.68      2000\n",
      "weighted avg       0.82      0.74      0.76      2000\n",
      "\n"
     ]
    }
   ],
   "source": [
    "print(classification_report(y_test, y_preds))"
   ]
  },
  {
   "cell_type": "code",
   "execution_count": 181,
   "metadata": {},
   "outputs": [
    {
     "data": {
      "text/plain": [
       "array([[1182,  413],\n",
       "       [ 106,  299]])"
      ]
     },
     "execution_count": 181,
     "metadata": {},
     "output_type": "execute_result"
    }
   ],
   "source": [
    "cf = confusion_matrix(y_test,y_preds)\n",
    "cf"
   ]
  },
  {
   "cell_type": "markdown",
   "metadata": {
    "id": "baiY0Lgh73X9"
   },
   "source": [
    "# Conclusion:\n",
    "\n",
    "1. From the results above, my main goal is to predict which customers are likely to churn so that they can be put into some sort of churn prevention scheme. \n",
    "\n",
    "2. The data we had only 20% churns, so it was an imbalanced data. So, balancing was necessary before training the model.\n",
    "\n",
    "3. First technique we used was RandomUnderSampler. The data was balanced by deleting negative rows such that the ratio of negative to positive output was 0.5. Then we compared RandomForestClassifier and XGBoostClassifier model fine-tuned using GridSearchCV. Highest score achieved using XGBoostClassifier.\n",
    "\n",
    "3. We also used AUPRC matrix for evaluation of model without balancing the data and use XGBoostClassifier during training.\n",
    "\n",
    "4. We achieved maximum Precision of 93% and recall of 78%. that means the model was able to catch 78% of the actual Churn cases. This is the measure we really care about, because we want to miss as few of the true Churn cases as possible.\n",
    "\n",
    "4. A high recall model can help the bank to effectively identify the actual churning customers."
   ]
  },
  {
   "cell_type": "code",
   "execution_count": null,
   "metadata": {},
   "outputs": [],
   "source": []
  },
  {
   "cell_type": "code",
   "execution_count": null,
   "metadata": {},
   "outputs": [],
   "source": []
  }
 ],
 "metadata": {
  "colab": {
   "collapsed_sections": [
    "C1B4ggNMHfro"
   ],
   "provenance": []
  },
  "kernelspec": {
   "display_name": "Python 3 (ipykernel)",
   "language": "python",
   "name": "python3"
  },
  "language_info": {
   "codemirror_mode": {
    "name": "ipython",
    "version": 3
   },
   "file_extension": ".py",
   "mimetype": "text/x-python",
   "name": "python",
   "nbconvert_exporter": "python",
   "pygments_lexer": "ipython3",
   "version": "3.9.7"
  }
 },
 "nbformat": 4,
 "nbformat_minor": 1
}
